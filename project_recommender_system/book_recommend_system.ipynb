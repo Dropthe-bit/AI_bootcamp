{
  "metadata": {
    "kernelspec": {
      "language": "python",
      "display_name": "Python 3",
      "name": "python3"
    },
    "language_info": {
      "name": "python",
      "version": "3.10.14",
      "mimetype": "text/x-python",
      "codemirror_mode": {
        "name": "ipython",
        "version": 3
      },
      "pygments_lexer": "ipython3",
      "nbconvert_exporter": "python",
      "file_extension": ".py"
    },
    "kaggle": {
      "accelerator": "none",
      "dataSources": [
        {
          "sourceId": 9528354,
          "sourceType": "datasetVersion",
          "datasetId": 5802421
        },
        {
          "sourceId": 9550936,
          "sourceType": "datasetVersion",
          "datasetId": 5819246
        },
        {
          "sourceId": 9551100,
          "sourceType": "datasetVersion",
          "datasetId": 5819375
        },
        {
          "sourceId": 9552674,
          "sourceType": "datasetVersion",
          "datasetId": 5820535
        },
        {
          "sourceId": 9557127,
          "sourceType": "datasetVersion",
          "datasetId": 5823613
        },
        {
          "sourceId": 9558245,
          "sourceType": "datasetVersion",
          "datasetId": 5824435
        },
        {
          "sourceId": 9558483,
          "sourceType": "datasetVersion",
          "datasetId": 5824617
        },
        {
          "sourceId": 9558688,
          "sourceType": "datasetVersion",
          "datasetId": 5824765
        },
        {
          "sourceId": 9607643,
          "sourceType": "datasetVersion",
          "datasetId": 5862094
        }
      ],
      "dockerImageVersionId": 30786,
      "isInternetEnabled": true,
      "language": "python",
      "sourceType": "notebook",
      "isGpuEnabled": false
    },
    "colab": {
      "provenance": [],
      "toc_visible": true
    }
  },
  "nbformat_minor": 0,
  "nbformat": 4,
  "cells": [
    {
      "cell_type": "markdown",
      "source": [
        "## 목차\n",
        "- **1강 : 실습 준비**\n",
        " - EDA 및 전처리\n",
        "- **2강 : 추천시스템 개요**\n",
        " - 추천시스템 목적 및 활용 사례\n",
        " - 추천 알고리즘 Overview\n",
        " - 알고리즘별 주요 특성\n",
        " - 추천 성능 지표의 이해\n",
        "- **3강 : 베이스라인 추천 알고리즘 구축**\n",
        " - (Memory-based) Collaborative Filtering\n",
        " - (Model-based) Matrix Factorazation (SVD, NMF, SVDpp)\n",
        "- **4강 : 추천 알고리즘 성능 고도화**\n",
        " - (Model-based) DeepLearning (DNN, NCF)\n",
        " - (Model-based) Machine Learning-based Model\n",
        "- **5강 : Cold Start Issues**\n",
        " - Content-based filtering\n",
        " - Populairity-based\n",
        "- **6강 : 최종 추천모델 클래스 구성**\n",
        " - Matrix Factorization(SVD), Machine Learning(GBR), Content+Poupularity 추천을 위한 클래스"
      ],
      "metadata": {
        "id": "fyoQ7tT56u3z"
      }
    },
    {
      "cell_type": "markdown",
      "source": [
        "# 1강 데이터 소개 및 실습 준비\n",
        "- 1강에서는 모델 개발에 필요한 환경을 세팅하고 필요한 데이터셋을 준비.\n",
        "- 프로젝트에 활용할 데이터에 대해 EDA 및 시각화를 통해 이해.\n",
        "## 개발 환경\n",
        "- **Kaggle Notebook**\n",
        "    - 캐글노트북 환경에서 제공하는 라이브러리의 기준에 맞춰 코드 작성.\n",
        "\n",
        "\n",
        "\n",
        "## 데이터셋 소개\n",
        "- 소스데이터: Book Recommendation Dataset](https://www.kaggle.com/datasets/arashnic/book-recommendation-dataset/data)를 한번 더 가공한 [실습 데이터: books-data](https://www.kaggle.com/datasets/liamsong/books-data)"
      ],
      "metadata": {
        "id": "Dbq976xT6u33"
      }
    },
    {
      "cell_type": "code",
      "source": [
        "import warnings\n",
        "warnings.filterwarnings(action='ignore')\n",
        "\n",
        "import pandas as pd\n",
        "import numpy as np\n",
        "import matplotlib.pyplot as plt\n",
        "import seaborn as sns\n",
        "pd.set_option('display.max_colwidth', None)\n",
        "sns.set(style=\"whitegrid\")\n",
        "from IPython.display import Image, display\n",
        "\n",
        "data_path = '/kaggle/input/books-data/' # 각자 경로 확인 필요\n",
        "file_name = 'books.csv'"
      ],
      "metadata": {
        "execution": {
          "iopub.status.busy": "2024-11-08T06:51:58.485803Z",
          "iopub.execute_input": "2024-11-08T06:51:58.486228Z",
          "iopub.status.idle": "2024-11-08T06:52:01.580222Z",
          "shell.execute_reply.started": "2024-11-08T06:51:58.486188Z",
          "shell.execute_reply": "2024-11-08T06:52:01.5791Z"
        },
        "trusted": true,
        "id": "c4gR70o36u34"
      },
      "outputs": [],
      "execution_count": null
    },
    {
      "cell_type": "code",
      "source": [
        "df = pd.read_csv(data_path+file_name)\n",
        "df.tail()"
      ],
      "metadata": {
        "execution": {
          "iopub.status.busy": "2024-11-08T06:52:32.713108Z",
          "iopub.execute_input": "2024-11-08T06:52:32.713747Z",
          "iopub.status.idle": "2024-11-08T06:52:35.082997Z",
          "shell.execute_reply.started": "2024-11-08T06:52:32.713701Z",
          "shell.execute_reply": "2024-11-08T06:52:35.081867Z"
        },
        "trusted": true,
        "id": "ca0NzUpM6u36"
      },
      "outputs": [],
      "execution_count": null
    },
    {
      "cell_type": "code",
      "source": [
        "df.info()"
      ],
      "metadata": {
        "execution": {
          "iopub.status.busy": "2024-11-08T06:52:35.084918Z",
          "iopub.execute_input": "2024-11-08T06:52:35.085263Z",
          "iopub.status.idle": "2024-11-08T06:52:35.319447Z",
          "shell.execute_reply.started": "2024-11-08T06:52:35.085226Z",
          "shell.execute_reply": "2024-11-08T06:52:35.318263Z"
        },
        "trusted": true,
        "id": "lFtfc-RA6u36"
      },
      "outputs": [],
      "execution_count": null
    },
    {
      "cell_type": "code",
      "source": [
        "df.groupby(\"Category\").size().sort_values(ascending=False)[:10]"
      ],
      "metadata": {
        "execution": {
          "iopub.status.busy": "2024-11-08T05:00:28.107767Z",
          "iopub.execute_input": "2024-11-08T05:00:28.108144Z",
          "iopub.status.idle": "2024-11-08T05:00:28.165778Z",
          "shell.execute_reply.started": "2024-11-08T05:00:28.108103Z",
          "shell.execute_reply": "2024-11-08T05:00:28.164635Z"
        },
        "trusted": true,
        "id": "toZKnU_W6u36"
      },
      "outputs": [],
      "execution_count": null
    },
    {
      "cell_type": "code",
      "source": [
        "# Preprocessing\n",
        "df.columns = df.columns.str.lower() # 컬럼명 소문자 처리\n",
        "df['rating'] = df['rating'].astype(float)\n",
        "df['age_range'] = (df['age']/10).astype(int)*10 # 십의 자리수로 연령대 변환\n",
        "df['category'] = df['category'].replace(\"9\", np.nan) # null 로 변환\n",
        "df['category'] = df['category'].str.replace(\"['\", \"\").str.replace(\"']\", \"\") # 불필요한 문제 제거\n",
        "df['summary'] = df['summary'].replace(\"9\", np.nan) # # null 로 변환"
      ],
      "metadata": {
        "execution": {
          "iopub.status.busy": "2024-11-08T06:52:38.211613Z",
          "iopub.execute_input": "2024-11-08T06:52:38.212042Z",
          "iopub.status.idle": "2024-11-08T06:52:38.647015Z",
          "shell.execute_reply.started": "2024-11-08T06:52:38.211999Z",
          "shell.execute_reply": "2024-11-08T06:52:38.645813Z"
        },
        "trusted": true,
        "id": "usbDBIH26u37"
      },
      "outputs": [],
      "execution_count": null
    },
    {
      "cell_type": "code",
      "source": [
        "df.tail()"
      ],
      "metadata": {
        "execution": {
          "iopub.status.busy": "2024-11-08T06:52:38.648919Z",
          "iopub.execute_input": "2024-11-08T06:52:38.649288Z",
          "iopub.status.idle": "2024-11-08T06:52:38.669994Z",
          "shell.execute_reply.started": "2024-11-08T06:52:38.64925Z",
          "shell.execute_reply": "2024-11-08T06:52:38.667555Z"
        },
        "trusted": true,
        "id": "-nfzmuXW6u37"
      },
      "outputs": [],
      "execution_count": null
    },
    {
      "cell_type": "markdown",
      "source": [
        "## EDA (Exploratory Data Analysis)\n"
      ],
      "metadata": {
        "id": "h_TYhgke6u37"
      }
    },
    {
      "cell_type": "code",
      "source": [
        "print(df.shape)\n",
        "print(df.user_id.nunique()) # the number of unique users\n",
        "print(df.isbn.nunique()) # the number of unique items"
      ],
      "metadata": {
        "execution": {
          "iopub.status.busy": "2024-11-08T06:52:46.689827Z",
          "iopub.execute_input": "2024-11-08T06:52:46.690655Z",
          "iopub.status.idle": "2024-11-08T06:52:46.771516Z",
          "shell.execute_reply.started": "2024-11-08T06:52:46.690598Z",
          "shell.execute_reply": "2024-11-08T06:52:46.770191Z"
        },
        "trusted": true,
        "id": "1BznMFsx6u38"
      },
      "outputs": [],
      "execution_count": null
    },
    {
      "cell_type": "code",
      "source": [
        "# ISBN 별로 groupby 이후에 평점 평균, 리뷰 갯수 등 통계 만들기\n",
        "# 이 데이터프레임을 추후에 여러 목적으로 활용 (추천결과 확인, Popularity-based 추천 등)\n",
        "book_info = df[['isbn', 'book_title', 'year_of_publication', 'book_author', 'category']].drop_duplicates()\n",
        "book_info_rating = df.groupby(['isbn']).agg(rating_mean=('rating', 'mean'), rating_count=('rating', 'size')).reset_index()\n",
        "\n",
        "book_info = book_info.merge(book_info_rating, on='isbn').sort_values(\"rating_count\", ascending=False)\n",
        "book_info.head(10)"
      ],
      "metadata": {
        "execution": {
          "iopub.status.busy": "2024-11-08T06:52:47.663409Z",
          "iopub.execute_input": "2024-11-08T06:52:47.663837Z",
          "iopub.status.idle": "2024-11-08T06:52:48.638594Z",
          "shell.execute_reply.started": "2024-11-08T06:52:47.663796Z",
          "shell.execute_reply": "2024-11-08T06:52:48.637461Z"
        },
        "trusted": true,
        "id": "0Q0cR3At6u38"
      },
      "outputs": [],
      "execution_count": null
    },
    {
      "cell_type": "code",
      "source": [
        "print(book_info.shape)\n",
        "print(book_info.isbn.nunique())\n",
        "print(book_info.book_author.nunique())\n",
        "print(book_info.category.nunique())"
      ],
      "metadata": {
        "execution": {
          "iopub.status.busy": "2024-11-08T05:00:29.706374Z",
          "iopub.execute_input": "2024-11-08T05:00:29.706784Z",
          "iopub.status.idle": "2024-11-08T05:00:29.838704Z",
          "shell.execute_reply.started": "2024-11-08T05:00:29.706741Z",
          "shell.execute_reply": "2024-11-08T05:00:29.837295Z"
        },
        "trusted": true,
        "id": "nQhs1PSB6u38"
      },
      "outputs": [],
      "execution_count": null
    },
    {
      "cell_type": "code",
      "source": [
        "book_info.isnull().sum()"
      ],
      "metadata": {
        "execution": {
          "iopub.status.busy": "2024-11-08T05:00:29.839927Z",
          "iopub.execute_input": "2024-11-08T05:00:29.840414Z",
          "iopub.status.idle": "2024-11-08T05:00:29.931661Z",
          "shell.execute_reply.started": "2024-11-08T05:00:29.840366Z",
          "shell.execute_reply": "2024-11-08T05:00:29.930346Z"
        },
        "trusted": true,
        "id": "zHxj3grO6u38"
      },
      "outputs": [],
      "execution_count": null
    },
    {
      "cell_type": "code",
      "source": [
        "# 1 row and 2 columns suplot 생성\n",
        "fig, axes = plt.subplots(1, 2, figsize=(9, 4))\n",
        "\n",
        "# 유저의 연령대별 빈도수 분포\n",
        "df[['user_id', 'age_range']].drop_duplicates()['age_range'].value_counts().sort_index().plot(kind='bar', rot=0, ax=axes[0])\n",
        "axes[0].set_title('Age Range Distribution')\n",
        "\n",
        "# 유저가 남긴 평점들의 분포\n",
        "df['rating'].value_counts().sort_index().plot(kind='bar', rot=0, ax=axes[1])\n",
        "axes[1].set_title('Rating Distribution')\n",
        "\n",
        "plt.tight_layout()\n",
        "plt.show()"
      ],
      "metadata": {
        "execution": {
          "iopub.status.busy": "2024-11-08T05:00:29.933753Z",
          "iopub.execute_input": "2024-11-08T05:00:29.934356Z",
          "iopub.status.idle": "2024-11-08T05:00:30.946123Z",
          "shell.execute_reply.started": "2024-11-08T05:00:29.934298Z",
          "shell.execute_reply": "2024-11-08T05:00:30.944767Z"
        },
        "trusted": true,
        "id": "ddAFXwGX6u38"
      },
      "outputs": [],
      "execution_count": null
    },
    {
      "cell_type": "code",
      "source": [
        "df['rating'].describe()"
      ],
      "metadata": {
        "execution": {
          "iopub.status.busy": "2024-11-08T05:00:30.948871Z",
          "iopub.execute_input": "2024-11-08T05:00:30.949353Z",
          "iopub.status.idle": "2024-11-08T05:00:30.97706Z",
          "shell.execute_reply.started": "2024-11-08T05:00:30.94931Z",
          "shell.execute_reply": "2024-11-08T05:00:30.976004Z"
        },
        "trusted": true,
        "id": "vQBD60bt6u39"
      },
      "outputs": [],
      "execution_count": null
    },
    {
      "cell_type": "code",
      "source": [
        "df.head()"
      ],
      "metadata": {
        "execution": {
          "iopub.status.busy": "2024-11-08T05:00:30.97841Z",
          "iopub.execute_input": "2024-11-08T05:00:30.978742Z",
          "iopub.status.idle": "2024-11-08T05:00:30.996559Z",
          "shell.execute_reply.started": "2024-11-08T05:00:30.978707Z",
          "shell.execute_reply": "2024-11-08T05:00:30.995407Z"
        },
        "trusted": true,
        "id": "pgU__9nk6u39"
      },
      "outputs": [],
      "execution_count": null
    },
    {
      "cell_type": "code",
      "source": [
        "# 분석 단위: 68092명으로 변환\n",
        "df.groupby(\"user_id\")['rating'].mean().describe()"
      ],
      "metadata": {
        "execution": {
          "iopub.status.busy": "2024-11-08T05:00:30.998192Z",
          "iopub.execute_input": "2024-11-08T05:00:30.998664Z",
          "iopub.status.idle": "2024-11-08T05:00:31.047431Z",
          "shell.execute_reply.started": "2024-11-08T05:00:30.998613Z",
          "shell.execute_reply": "2024-11-08T05:00:31.046222Z"
        },
        "trusted": true,
        "id": "kJa_uHiB6u39"
      },
      "outputs": [],
      "execution_count": null
    },
    {
      "cell_type": "code",
      "source": [
        "# 유저당 남긴 리뷰수의 분포\n",
        "df.groupby(\"user_id\")['rating'].size().value_counts().sort_index()[:50].plot(kind='bar', figsize=(12, 4), rot=0)\n",
        "\n",
        "plt.title(\"The Count of Users' rates\")\n",
        "plt.tight_layout()"
      ],
      "metadata": {
        "execution": {
          "iopub.status.busy": "2024-11-08T05:00:31.048955Z",
          "iopub.execute_input": "2024-11-08T05:00:31.049456Z",
          "iopub.status.idle": "2024-11-08T05:00:32.347285Z",
          "shell.execute_reply.started": "2024-11-08T05:00:31.049413Z",
          "shell.execute_reply": "2024-11-08T05:00:32.345641Z"
        },
        "trusted": true,
        "id": "bMG7pPeA6u3-"
      },
      "outputs": [],
      "execution_count": null
    },
    {
      "cell_type": "code",
      "source": [
        "# 유저당 평점의 평균\n",
        "df.groupby(\"user_id\")['rating'].mean().hist(bins=10, figsize=(5,4), color='green', alpha=.4)\n",
        "\n",
        "plt.title(\"The Histogram of Users' rating\")\n",
        "plt.axvline(x=7.487156, color='b', linestyle='--')\n",
        "plt.grid()\n",
        "plt.tight_layout()"
      ],
      "metadata": {
        "execution": {
          "iopub.status.busy": "2024-11-08T05:00:32.348777Z",
          "iopub.execute_input": "2024-11-08T05:00:32.34927Z",
          "iopub.status.idle": "2024-11-08T05:00:32.935334Z",
          "shell.execute_reply.started": "2024-11-08T05:00:32.349226Z",
          "shell.execute_reply": "2024-11-08T05:00:32.933051Z"
        },
        "trusted": true,
        "id": "P1E5Ocw-6u3-"
      },
      "outputs": [],
      "execution_count": null
    },
    {
      "cell_type": "code",
      "source": [
        "# Top 10 Books and Authors\n",
        "top_books = df['book_title'].value_counts().head(15)\n",
        "top_authors = df['book_author'].value_counts().head(10)\n",
        "top_cate = df['category'].value_counts().head(10)"
      ],
      "metadata": {
        "execution": {
          "iopub.status.busy": "2024-11-08T06:52:56.357539Z",
          "iopub.execute_input": "2024-11-08T06:52:56.358953Z",
          "iopub.status.idle": "2024-11-08T06:52:56.718741Z",
          "shell.execute_reply.started": "2024-11-08T06:52:56.358893Z",
          "shell.execute_reply": "2024-11-08T06:52:56.717548Z"
        },
        "trusted": true,
        "id": "5BSsOqTQ6u4D"
      },
      "outputs": [],
      "execution_count": null
    },
    {
      "cell_type": "code",
      "source": [
        "top_books"
      ],
      "metadata": {
        "execution": {
          "iopub.status.busy": "2024-11-08T05:00:33.27426Z",
          "iopub.execute_input": "2024-11-08T05:00:33.27477Z",
          "iopub.status.idle": "2024-11-08T05:00:33.284961Z",
          "shell.execute_reply.started": "2024-11-08T05:00:33.274674Z",
          "shell.execute_reply": "2024-11-08T05:00:33.283539Z"
        },
        "trusted": true,
        "id": "kIqVlpsq6u4E"
      },
      "outputs": [],
      "execution_count": null
    },
    {
      "cell_type": "code",
      "source": [
        "top_authors"
      ],
      "metadata": {
        "execution": {
          "iopub.status.busy": "2024-11-08T05:00:33.286652Z",
          "iopub.execute_input": "2024-11-08T05:00:33.287827Z",
          "iopub.status.idle": "2024-11-08T05:00:33.299626Z",
          "shell.execute_reply.started": "2024-11-08T05:00:33.287765Z",
          "shell.execute_reply": "2024-11-08T05:00:33.298472Z"
        },
        "trusted": true,
        "id": "IjQ84RV76u4F"
      },
      "outputs": [],
      "execution_count": null
    },
    {
      "cell_type": "code",
      "source": [
        "top_cate"
      ],
      "metadata": {
        "execution": {
          "iopub.status.busy": "2024-11-08T05:00:33.301101Z",
          "iopub.execute_input": "2024-11-08T05:00:33.30166Z",
          "iopub.status.idle": "2024-11-08T05:00:33.314567Z",
          "shell.execute_reply.started": "2024-11-08T05:00:33.301607Z",
          "shell.execute_reply": "2024-11-08T05:00:33.313252Z"
        },
        "trusted": true,
        "id": "O5Ebeq-b6u4F"
      },
      "outputs": [],
      "execution_count": null
    },
    {
      "cell_type": "markdown",
      "source": [
        "# 2강 추천시스템 개요\n",
        "\n",
        "\n",
        "## 추천 알고리즘 Overview\n",
        "- **Collatorative Filtering (Memory-based, Model-based), Content-based** 영역을 중심으로 실습할 예정.\n",
        "\n",
        "## 주요 라이브러리\n",
        "- 전처리 및 추출, 데이터 분석 및 간단한 모델링은 **Pandas, Numpy, Matplotlib, Seaborn**을 활용.\n",
        "- [Surprise](https://surprise.readthedocs.io/en/stable/index.html) 라이브러리를 이용해 Collatorative Filtering (Memory-based) 관련 모델을 구축.\n",
        "    - 해당 라이브러리는 User-based, Item-based CF 뿐만 아니라 행렬분해 알고리즘인 SVD를 이용한 Matrix Factorizaiton 모델 구축을 지원.\n",
        "- Collatorative Filtering (Model-based)의 경우 [Scikit-learn](https://scikit-learn.org/stable/)를 활용.\n",
        "    - Content-based Filtering도 Scikit-learn에서 제공하는 모듈을 이용.\n",
        "    - Scikit-learn은 Regression, Classification 및 비지도학습 알고리즘과 피처 엔지니어링 관련 모듈을 제공.\n",
        "    - Scikit-learn에서 제공하는 Regression 관련 모듈을 이용해 유저의 평점을 예측하는 모델을 구축.\n",
        "- 딥러닝 기반 추천모델을 개발하기 위해 Keras 라이브러리를 이용할 예정.\n",
        "    - DNN, Neural Collaborative Filtering 등을 위 라이브러리를 이용하여 실습할 예정.\n",
        "\n",
        "    "
      ],
      "metadata": {
        "id": "J6K1QMlA6u4G"
      }
    },
    {
      "cell_type": "markdown",
      "source": [
        "# 3강 베이스라인 추천모델 구축\n",
        "\n",
        "## Collaborative Filtering  \n",
        "- [KNN Basic](https://surprise.readthedocs.io/en/stable/knn_inspired.html#surprise.prediction_algorithms.knns.KNNBasic) 알고리즘은 유사한 사용자들의 평가를 바탕으로, 각 사용자와의 유사도를 고려하여 가중 평균을 계산함으로써 새로운 평점을 예측.\n",
        "- 즉 유사한 이웃을 찾아서 해당 이웃이 기존에 부여한 평점의 평균을 구하는데, 유사도를 가중치를 이용하여 평균을 구함.\n",
        "- 예를 들어, \"A\"라는 사용자에게 \"Life of Pi\" 책의 예상 평점을 추천하려고 할때 \"A\"와 가장 유사한 3명의 이웃(k=3)을 찾았다고 가정.\n",
        "   - B **(유사도: 0.8) -> 해당 책의 평점이 4.5**\n",
        "   - C **(유사도: 0.6) -> 해당 책의 평점이 5.0**\n",
        "   - D **(유사도: 0.5) -> 해당 책의 평점이 3.5**\n",
        "- 그렇다면 A가 \"Life of Pi\"에 줄 예측 평점을 구하는 과정은\n",
        "    1. 각 이웃의 평점에 유사도를 곱함.\n",
        "       - **B: 4.5 * 0.8 = 3.6**\n",
        "       - **C: 5.0 * 0.6 = 3.0**\n",
        "       - **D: 3.5 * 0.5 = 1.75**\n",
        "    2. 이 값들을 모두 더합니다: **3.6 + 3.0 + 1.75 = 8.35**\n",
        "    3. 유사도의 합을 계산합니다: **0.8 + 0.6 + 0.5 = 1.9**\n",
        "    4. 최종 예측 평점을 계산합니다: **8.35 / 1.9 = 4.39**\n",
        "\n",
        "$$\\hat{r}_{\\text{A, Life of Pi}} = \\frac{8.35}{1.9} = 4.39$$\n",
        "\n",
        "- 유저간 유사도를 이용하면 **(user-based) collaborative filtering**, 아이템간 유사도를 이용하면 **(item-based) collaborative filtering**이라고 함.\n",
        "- User-based CF의 경우 사용자 간의 유사도를 계산하지만, Item-based는 아이템 간의 유사도를 계산.\n",
        "- User-based CF는 타겟 사용자와 유사한 사용자들이 좋아한 아이템을 추천하는 반면, Item-based는 사용자가 이미 좋아한 아이템과 유사한 아이템을 추천.\n",
        "- CF는 단순한 알고리즘이지만 초반에 가볍게 시도하기 좋은 알고리즘이며, 유저나 아이템의 정보가 별도로 주어지지 않아도 추천이 가능하다는 장점.\n",
        "- 단, 새로운 아이템, 유저에 대해 추천이 어려운 점(Cold-start), 데이터 희소성이 높은 경우 추천퀄리티가 좋지 않고, 사용자수가 증가하면 연산량이 급격히 증가.\n",
        "\n",
        "\n",
        "## Matrix Factorization\n",
        "- 대부분의 경우 user-item interaction matrix 는 차원의 수가 불필요하게 많거나 중복이고(노이즈, 매우 희소한(Sparse) 행렬이므로 불필요한 연산량이 많음.\n",
        "- 모델링에 적합하도록 Dense한 형태로 바꿀 필요가 있는데 차원축소 기법(PCA, SVD)을 이용해 Dense한 형태로 바꾸어 모델링을 진행.\n",
        "- 차원을 축소한다는 의미는 정보 손실량을 최소로하면서 차원의 수를 줄이는 것을 의미."
      ],
      "metadata": {
        "id": "n0JUHm-V6u4G"
      }
    },
    {
      "cell_type": "markdown",
      "source": [
        "\n",
        "- [Matrix Factorization](https://surprise.readthedocs.io/en/stable/matrix_factorization.html) 알고리즘은 고차원의 행렬을 저차원의 행렬로 축약하여 예측하는 기법.\n",
        "- 유저에 대한 잠재적인 요인과 아이템에 대한 잠재적인 요인을 파악하여 평점 예측에 활용.\n",
        "- 예를 들어, 책 추천 시스템에서 이런 특성들은 '읽기쉬움', '가상현실의', '시간특성' 등일 수 있습니다. 마찬가지로 사용자도 이런 특성에 대한 선호도를 가짐.\n",
        "- A가 책 B를 얼마나 좋아할지 예측하려면, A의 특성 벡터와 B의 특성 벡터의 내적을 계산합니다. (이 내적 값이 높을수록 A가 B를 좋아할 확률이 높음)\n",
        "    - **1 x 0.9 +.1 x- .2 = 0.88**\n",
        "- 실제 평점과 예측 평점의 차이를 최소화하는 방향으로 특성 벡터들을 조정."
      ],
      "metadata": {
        "id": "tKDp3Etq6u4H"
      }
    },
    {
      "cell_type": "code",
      "source": [
        "df.head()"
      ],
      "metadata": {
        "execution": {
          "iopub.status.busy": "2024-11-08T06:53:04.032747Z",
          "iopub.execute_input": "2024-11-08T06:53:04.033667Z",
          "iopub.status.idle": "2024-11-08T06:53:04.05243Z",
          "shell.execute_reply.started": "2024-11-08T06:53:04.033621Z",
          "shell.execute_reply": "2024-11-08T06:53:04.050934Z"
        },
        "trusted": true,
        "id": "Apczxz176u4I"
      },
      "outputs": [],
      "execution_count": null
    },
    {
      "cell_type": "code",
      "source": [
        "df_mf = df[['user_id', 'isbn', 'rating']].drop_duplicates()\n",
        "df_mf"
      ],
      "metadata": {
        "execution": {
          "iopub.status.busy": "2024-11-08T06:53:04.664655Z",
          "iopub.execute_input": "2024-11-08T06:53:04.665053Z",
          "iopub.status.idle": "2024-11-08T06:53:04.770987Z",
          "shell.execute_reply.started": "2024-11-08T06:53:04.665015Z",
          "shell.execute_reply": "2024-11-08T06:53:04.769581Z"
        },
        "trusted": true,
        "id": "1EADYi-n6u4I"
      },
      "outputs": [],
      "execution_count": null
    },
    {
      "cell_type": "code",
      "source": [
        "# 30번 이상 rating한 유저만 필터링 > 추천시스템 핵심 타깃으로 정의\n",
        "# 30번 미만 유저의 경우 다른 approach 이용 > 의사결정 방안\n",
        "user_list = df_mf.groupby(\"user_id\").size().reset_index()\n",
        "user_list.columns = ['user_id', 'review_cnt']\n",
        "user_list = user_list[user_list['review_cnt'] >= 30]\n",
        "\n",
        "df_mf = df_mf[df_mf['user_id'].isin(user_list.user_id)]"
      ],
      "metadata": {
        "execution": {
          "iopub.status.busy": "2024-11-08T06:53:06.347808Z",
          "iopub.execute_input": "2024-11-08T06:53:06.348244Z",
          "iopub.status.idle": "2024-11-08T06:53:06.411259Z",
          "shell.execute_reply.started": "2024-11-08T06:53:06.348202Z",
          "shell.execute_reply": "2024-11-08T06:53:06.409632Z"
        },
        "trusted": true,
        "id": "Kir08rIu6u4J"
      },
      "outputs": [],
      "execution_count": null
    },
    {
      "cell_type": "code",
      "source": [
        "df_mf.head()"
      ],
      "metadata": {
        "execution": {
          "iopub.status.busy": "2024-11-08T05:00:40.754682Z",
          "iopub.execute_input": "2024-11-08T05:00:40.755259Z",
          "iopub.status.idle": "2024-11-08T05:00:40.767893Z",
          "shell.execute_reply.started": "2024-11-08T05:00:40.755209Z",
          "shell.execute_reply": "2024-11-08T05:00:40.766476Z"
        },
        "trusted": true,
        "id": "gAcnZAuZ6u4K"
      },
      "outputs": [],
      "execution_count": null
    },
    {
      "cell_type": "code",
      "source": [
        "print(df_mf.shape)\n",
        "print(df_mf.user_id.nunique())\n",
        "print(df_mf.isbn.nunique())\n",
        "print(book_info.isbn.nunique())"
      ],
      "metadata": {
        "execution": {
          "iopub.status.busy": "2024-11-08T05:00:40.92032Z",
          "iopub.execute_input": "2024-11-08T05:00:40.9214Z",
          "iopub.status.idle": "2024-11-08T05:00:41.029108Z",
          "shell.execute_reply.started": "2024-11-08T05:00:40.921343Z",
          "shell.execute_reply": "2024-11-08T05:00:41.027975Z"
        },
        "trusted": true,
        "id": "Ixf-CQ316u4L"
      },
      "outputs": [],
      "execution_count": null
    },
    {
      "cell_type": "code",
      "source": [
        "book_info.head()"
      ],
      "metadata": {
        "execution": {
          "iopub.status.busy": "2024-11-08T05:00:41.071363Z",
          "iopub.execute_input": "2024-11-08T05:00:41.07178Z",
          "iopub.status.idle": "2024-11-08T05:00:41.088028Z",
          "shell.execute_reply.started": "2024-11-08T05:00:41.071741Z",
          "shell.execute_reply": "2024-11-08T05:00:41.08659Z"
        },
        "trusted": true,
        "id": "weLwRar86u4L"
      },
      "outputs": [],
      "execution_count": null
    },
    {
      "cell_type": "code",
      "source": [
        "# Calculate sparsity\n",
        "df_sparsity = df_mf.groupby(['user_id', 'isbn']).agg({'rating': 'count'}).reset_index()\n",
        "user_item_matrix = df_sparsity.pivot(index='user_id', columns='isbn', values='rating')\n",
        "\n",
        "non_zero_count = user_item_matrix.count().sum()\n",
        "total_entries = user_item_matrix.size\n",
        "sparsity = 1 - (non_zero_count / total_entries)\n",
        "\n",
        "print(f'Interaction size: ', user_item_matrix.count().sum())\n",
        "print(f'Matrix total size: ', user_item_matrix.size)\n",
        "print(f'Sparsity of the matrix: {sparsity:.2%}')"
      ],
      "metadata": {
        "execution": {
          "iopub.status.busy": "2024-11-08T05:00:41.243052Z",
          "iopub.execute_input": "2024-11-08T05:00:41.244312Z",
          "iopub.status.idle": "2024-11-08T05:00:43.888764Z",
          "shell.execute_reply.started": "2024-11-08T05:00:41.244242Z",
          "shell.execute_reply": "2024-11-08T05:00:43.88754Z"
        },
        "trusted": true,
        "id": "FxygZ1dd6u4L"
      },
      "outputs": [],
      "execution_count": null
    },
    {
      "cell_type": "code",
      "source": [
        "user_item_matrix"
      ],
      "metadata": {
        "execution": {
          "iopub.status.busy": "2024-11-08T05:00:43.890756Z",
          "iopub.execute_input": "2024-11-08T05:00:43.891216Z",
          "iopub.status.idle": "2024-11-08T05:00:43.929754Z",
          "shell.execute_reply.started": "2024-11-08T05:00:43.891133Z",
          "shell.execute_reply": "2024-11-08T05:00:43.92856Z"
        },
        "trusted": true,
        "id": "nXN95ei56u4M"
      },
      "outputs": [],
      "execution_count": null
    },
    {
      "cell_type": "code",
      "source": [
        "from surprise import Dataset, Reader\n",
        "from surprise.model_selection import train_test_split, cross_validate, GridSearchCV, KFold\n",
        "from surprise import SVD, SVDpp, NMF, KNNBasic, KNNBaseline, accuracy\n",
        "from sklearn.model_selection import StratifiedShuffleSplit\n",
        "from sklearn.feature_extraction.text import TfidfVectorizer"
      ],
      "metadata": {
        "execution": {
          "iopub.status.busy": "2024-11-08T06:53:19.578334Z",
          "iopub.execute_input": "2024-11-08T06:53:19.578792Z",
          "iopub.status.idle": "2024-11-08T06:53:19.833351Z",
          "shell.execute_reply.started": "2024-11-08T06:53:19.578748Z",
          "shell.execute_reply": "2024-11-08T06:53:19.831986Z"
        },
        "trusted": true,
        "id": "RallmqMC6u4N"
      },
      "outputs": [],
      "execution_count": null
    },
    {
      "cell_type": "code",
      "source": [
        "df_mf.sort_values(\"user_id\").head(30)"
      ],
      "metadata": {
        "execution": {
          "iopub.status.busy": "2024-11-08T05:00:44.033058Z",
          "iopub.execute_input": "2024-11-08T05:00:44.034219Z",
          "iopub.status.idle": "2024-11-08T05:00:44.081348Z",
          "shell.execute_reply.started": "2024-11-08T05:00:44.034139Z",
          "shell.execute_reply": "2024-11-08T05:00:44.080214Z"
        },
        "trusted": true,
        "id": "4ZykqeeQ6u4X"
      },
      "outputs": [],
      "execution_count": null
    },
    {
      "cell_type": "code",
      "source": [
        "#train_data, test_data = train_test_split(data, test_size = 0.3)\n",
        "\n",
        "split = StratifiedShuffleSplit(n_splits=1, test_size=0.3, random_state=42)\n",
        "\n",
        "for train_idx, test_idx in split.split(df_mf, df_mf['user_id']):\n",
        "    strat_train_set = df_mf.iloc[train_idx]  # Use iloc for positional indexing\n",
        "    strat_test_set = df_mf.iloc[test_idx]"
      ],
      "metadata": {
        "execution": {
          "iopub.status.busy": "2024-11-08T06:53:27.182672Z",
          "iopub.execute_input": "2024-11-08T06:53:27.1833Z",
          "iopub.status.idle": "2024-11-08T06:53:27.365318Z",
          "shell.execute_reply.started": "2024-11-08T06:53:27.18325Z",
          "shell.execute_reply": "2024-11-08T06:53:27.364038Z"
        },
        "trusted": true,
        "id": "OWALCaFq6u4Y"
      },
      "outputs": [],
      "execution_count": null
    },
    {
      "cell_type": "code",
      "source": [
        "print(strat_train_set.user_id.nunique())\n",
        "print(strat_test_set.user_id.nunique())"
      ],
      "metadata": {
        "execution": {
          "iopub.status.busy": "2024-11-08T06:53:28.457191Z",
          "iopub.execute_input": "2024-11-08T06:53:28.457659Z",
          "iopub.status.idle": "2024-11-08T06:53:28.467038Z",
          "shell.execute_reply.started": "2024-11-08T06:53:28.457616Z",
          "shell.execute_reply": "2024-11-08T06:53:28.465757Z"
        },
        "trusted": true,
        "id": "-KjG3UnJ6u4Y"
      },
      "outputs": [],
      "execution_count": null
    },
    {
      "cell_type": "code",
      "source": [
        "strat_train_set.groupby(\"user_id\").size()"
      ],
      "metadata": {
        "execution": {
          "iopub.status.busy": "2024-11-08T05:00:44.264081Z",
          "iopub.execute_input": "2024-11-08T05:00:44.264564Z",
          "iopub.status.idle": "2024-11-08T05:00:44.280399Z",
          "shell.execute_reply.started": "2024-11-08T05:00:44.264513Z",
          "shell.execute_reply": "2024-11-08T05:00:44.279211Z"
        },
        "trusted": true,
        "id": "S519JA5K6u4Y"
      },
      "outputs": [],
      "execution_count": null
    },
    {
      "cell_type": "code",
      "source": [
        "strat_test_set.groupby(\"user_id\").size()"
      ],
      "metadata": {
        "execution": {
          "iopub.status.busy": "2024-11-08T05:00:44.282041Z",
          "iopub.execute_input": "2024-11-08T05:00:44.282658Z",
          "iopub.status.idle": "2024-11-08T05:00:44.29373Z",
          "shell.execute_reply.started": "2024-11-08T05:00:44.282616Z",
          "shell.execute_reply": "2024-11-08T05:00:44.292497Z"
        },
        "trusted": true,
        "id": "gr9lYOwv6u4Z"
      },
      "outputs": [],
      "execution_count": null
    },
    {
      "cell_type": "code",
      "source": [
        "# Define a Reader object\n",
        "min_scale = strat_train_set['rating'].min()\n",
        "max_scale = strat_train_set['rating'].max()\n",
        "\n",
        "reader = Reader(rating_scale=(min_scale, max_scale))\n",
        "\n",
        "# Split data into training and test sets\n",
        "train_data = Dataset.load_from_df(strat_train_set, reader)\n",
        "trainset = train_data.build_full_trainset()\n",
        "testset = [tuple(x) for x in strat_test_set.values]"
      ],
      "metadata": {
        "execution": {
          "iopub.status.busy": "2024-11-08T06:53:31.521095Z",
          "iopub.execute_input": "2024-11-08T06:53:31.522285Z",
          "iopub.status.idle": "2024-11-08T06:53:32.387023Z",
          "shell.execute_reply.started": "2024-11-08T06:53:31.522223Z",
          "shell.execute_reply": "2024-11-08T06:53:32.385727Z"
        },
        "trusted": true,
        "id": "oCbRBpj56u4a"
      },
      "outputs": [],
      "execution_count": null
    },
    {
      "cell_type": "code",
      "source": [
        "#testset"
      ],
      "metadata": {
        "execution": {
          "iopub.status.busy": "2024-11-08T05:00:45.197461Z",
          "iopub.execute_input": "2024-11-08T05:00:45.197861Z",
          "iopub.status.idle": "2024-11-08T05:00:45.202883Z",
          "shell.execute_reply.started": "2024-11-08T05:00:45.19782Z",
          "shell.execute_reply": "2024-11-08T05:00:45.201711Z"
        },
        "trusted": true,
        "id": "qyYgwpRx6u4a"
      },
      "outputs": [],
      "execution_count": null
    },
    {
      "cell_type": "code",
      "source": [
        "# Define a list of algorithms to test\n",
        "algorithms = [\n",
        "    SVD(),\n",
        "    #KNNBasic(sim_options={\"name\": \"cosine\", \"user_based\": False}),\n",
        "    KNNBasic(sim_options={\"name\": \"cosine\", \"user_based\": True}),\n",
        "    KNNBaseline(sim_options={\"name\": \"cosine\", \"user_based\": True}),\n",
        "    NMF(),\n",
        "    #SVDpp()\n",
        "    ]\n",
        "\n",
        "# Define a function to evaluate a model\n",
        "def evaluate_model(model, trainset, testset):\n",
        "\n",
        "    model.fit(trainset)\n",
        "    predictions = model.test(testset)\n",
        "    rmse = accuracy.rmse(predictions, verbose=False)\n",
        "    mae = accuracy.mae(predictions, verbose=False)\n",
        "    return rmse, mae"
      ],
      "metadata": {
        "execution": {
          "iopub.status.busy": "2024-11-08T06:57:43.594557Z",
          "iopub.execute_input": "2024-11-08T06:57:43.594994Z",
          "iopub.status.idle": "2024-11-08T06:57:43.602871Z",
          "shell.execute_reply.started": "2024-11-08T06:57:43.594955Z",
          "shell.execute_reply": "2024-11-08T06:57:43.601452Z"
        },
        "trusted": true,
        "id": "dwT-q5MA6u4a"
      },
      "outputs": [],
      "execution_count": null
    },
    {
      "cell_type": "code",
      "source": [
        "# Initialize a list to store results\n",
        "results = []\n",
        "\n",
        "# Loop through each algorithm and evaluate\n",
        "for algorithm in algorithms:\n",
        "    rmse, mae = evaluate_model(algorithm, trainset, testset)\n",
        "\n",
        "    print(f\"{algorithm.__class__.__name__} Model Evaluation:\")\n",
        "    print(f\"RMSE: {rmse:.4f}\")\n",
        "    print(f\"MAE: {mae:.4f}\")\n",
        "    print(\"-\" * 30)\n",
        "\n",
        "    results.append({\n",
        "        'Algorithm': algorithm.__class__.__name__,\n",
        "        'RMSE': rmse,\n",
        "        'MAE': mae\n",
        "    })\n",
        "\n",
        "# Convert results to a DataFrame\n",
        "results_df = pd.DataFrame(results)"
      ],
      "metadata": {
        "execution": {
          "iopub.status.busy": "2024-11-08T06:57:45.201569Z",
          "iopub.execute_input": "2024-11-08T06:57:45.20205Z",
          "iopub.status.idle": "2024-11-08T06:58:12.380864Z",
          "shell.execute_reply.started": "2024-11-08T06:57:45.202004Z",
          "shell.execute_reply": "2024-11-08T06:58:12.379635Z"
        },
        "trusted": true,
        "id": "HpjuQD_L6u4b"
      },
      "outputs": [],
      "execution_count": null
    },
    {
      "cell_type": "code",
      "source": [
        "results_df"
      ],
      "metadata": {
        "execution": {
          "iopub.status.busy": "2024-11-08T06:58:17.831365Z",
          "iopub.execute_input": "2024-11-08T06:58:17.831837Z",
          "iopub.status.idle": "2024-11-08T06:58:17.845166Z",
          "shell.execute_reply.started": "2024-11-08T06:58:17.831794Z",
          "shell.execute_reply": "2024-11-08T06:58:17.843857Z"
        },
        "trusted": true,
        "id": "y0nyjtmL6u4c"
      },
      "outputs": [],
      "execution_count": null
    },
    {
      "cell_type": "code",
      "source": [
        "# Set the style of the visualization\n",
        "sns.set(style=\"whitegrid\")\n",
        "\n",
        "# Create subplots\n",
        "fig, axes = plt.subplots(1, 2, figsize=(9, 4), sharey=True)\n",
        "\n",
        "# Bar plot for RMSE\n",
        "sns.barplot(x='Algorithm', y='RMSE', data=results_df, palette='viridis', ax=axes[0])\n",
        "axes[0].set_title('RMSE for Each Model')\n",
        "axes[0].tick_params(axis='x', rotation=10)\n",
        "\n",
        "# Bar plot for MAE\n",
        "sns.barplot(x='Algorithm', y='MAE', data=results_df, palette='viridis', ax=axes[1])\n",
        "axes[1].set_title('MAE for Each Model')\n",
        "axes[1].tick_params(axis='x', rotation=10)\n",
        "\n",
        "# Adjust layout\n",
        "plt.tight_layout()\n",
        "plt.show()"
      ],
      "metadata": {
        "execution": {
          "iopub.status.busy": "2024-11-08T05:01:13.312279Z",
          "iopub.execute_input": "2024-11-08T05:01:13.312647Z",
          "iopub.status.idle": "2024-11-08T05:01:13.953085Z",
          "shell.execute_reply.started": "2024-11-08T05:01:13.312608Z",
          "shell.execute_reply": "2024-11-08T05:01:13.951834Z"
        },
        "trusted": true,
        "id": "xjGe7-d-6u4c"
      },
      "outputs": [],
      "execution_count": null
    },
    {
      "cell_type": "code",
      "source": [
        "# Precision, Recall\n",
        "min_scale = strat_train_set['rating'].min()\n",
        "max_scale = strat_train_set['rating'].max()\n",
        "reader = Reader(rating_scale=(min_scale, max_scale))\n",
        "\n",
        "train_data = Dataset.load_from_df(strat_train_set[['user_id', 'isbn', 'rating']], reader)\n",
        "trainset = train_data.build_full_trainset()\n",
        "testset = [tuple(x) for x in strat_test_set[['user_id', 'isbn', 'rating']].values]\n",
        "\n",
        "# Fit model and make predictions\n",
        "model = SVD()\n",
        "model.fit(train_data.build_full_trainset())\n",
        "predictions = model.test(testset)"
      ],
      "metadata": {
        "execution": {
          "iopub.status.busy": "2024-11-08T06:58:22.889272Z",
          "iopub.execute_input": "2024-11-08T06:58:22.890013Z",
          "iopub.status.idle": "2024-11-08T06:58:27.490864Z",
          "shell.execute_reply.started": "2024-11-08T06:58:22.88997Z",
          "shell.execute_reply": "2024-11-08T06:58:27.489458Z"
        },
        "trusted": true,
        "id": "Oi28lmB_6u4d"
      },
      "outputs": [],
      "execution_count": null
    },
    {
      "cell_type": "code",
      "source": [
        "for x in predictions[:10]:\n",
        "    print(x)"
      ],
      "metadata": {
        "execution": {
          "iopub.status.busy": "2024-11-08T06:58:27.492819Z",
          "iopub.execute_input": "2024-11-08T06:58:27.493167Z",
          "iopub.status.idle": "2024-11-08T06:58:27.499295Z",
          "shell.execute_reply.started": "2024-11-08T06:58:27.49313Z",
          "shell.execute_reply": "2024-11-08T06:58:27.498204Z"
        },
        "trusted": true,
        "id": "hwJbJ-4X6u4d"
      },
      "outputs": [],
      "execution_count": null
    },
    {
      "cell_type": "code",
      "source": [
        "# Precsion, Recall check def\n",
        "top_k = 5\n",
        "threshold = 7\n",
        "\n",
        "predictions_df = pd.DataFrame(predictions, columns=['user_id', 'isbn', 'true_rating', 'est_rating', 'details'])\n",
        "predictions_df = predictions_df[['user_id', 'isbn', 'true_rating', 'est_rating']]\n",
        "\n",
        "predictions_df['pred_rank'] = predictions_df.groupby('user_id')['est_rating'].rank(method='first', ascending=False)\n",
        "predictions_df['true_rank'] = predictions_df.groupby('user_id')['true_rating'].rank(method='first', ascending=False)\n",
        "predictions_df['is_relevant'] = predictions_df['true_rank'] <= top_k\n",
        "\n",
        "predicted_top_k = predictions_df[predictions_df['pred_rank'] <= top_k]\n",
        "precision_per_user = predicted_top_k.groupby('user_id')['is_relevant'].sum()\n",
        "\n",
        "total_relevant_items = predictions_df.query(\"true_rating >= @threshold\").groupby(\"user_id\").size()\n",
        "\n",
        "precision_at_k = precision_per_user / top_k\n",
        "recall_at_k = precision_per_user / total_relevant_items\n",
        "\n",
        "print(precision_at_k.mean(), recall_at_k.mean())"
      ],
      "metadata": {
        "execution": {
          "iopub.status.busy": "2024-11-08T06:58:29.18453Z",
          "iopub.execute_input": "2024-11-08T06:58:29.184968Z",
          "iopub.status.idle": "2024-11-08T06:58:29.338018Z",
          "shell.execute_reply.started": "2024-11-08T06:58:29.184925Z",
          "shell.execute_reply": "2024-11-08T06:58:29.336591Z"
        },
        "trusted": true,
        "id": "7whEZ9Y66u4e"
      },
      "outputs": [],
      "execution_count": null
    },
    {
      "cell_type": "code",
      "source": [
        "predictions_df.head()"
      ],
      "metadata": {
        "execution": {
          "iopub.status.busy": "2024-11-08T06:58:31.027478Z",
          "iopub.execute_input": "2024-11-08T06:58:31.027939Z",
          "iopub.status.idle": "2024-11-08T06:58:31.04521Z",
          "shell.execute_reply.started": "2024-11-08T06:58:31.027895Z",
          "shell.execute_reply": "2024-11-08T06:58:31.043796Z"
        },
        "trusted": true,
        "id": "EXUvkhwz6u4f"
      },
      "outputs": [],
      "execution_count": null
    },
    {
      "cell_type": "code",
      "source": [
        "#precision_per_user.head()"
      ],
      "metadata": {
        "execution": {
          "iopub.status.busy": "2024-11-08T05:01:19.419339Z",
          "iopub.execute_input": "2024-11-08T05:01:19.419817Z",
          "iopub.status.idle": "2024-11-08T05:01:19.429099Z",
          "shell.execute_reply.started": "2024-11-08T05:01:19.41977Z",
          "shell.execute_reply": "2024-11-08T05:01:19.427936Z"
        },
        "trusted": true,
        "id": "EBXGgUX66u4g"
      },
      "outputs": [],
      "execution_count": null
    },
    {
      "cell_type": "code",
      "source": [
        "#total_relevant_items.head()"
      ],
      "metadata": {
        "execution": {
          "iopub.status.busy": "2024-11-08T05:01:19.430474Z",
          "iopub.execute_input": "2024-11-08T05:01:19.43085Z",
          "iopub.status.idle": "2024-11-08T05:01:19.440702Z",
          "shell.execute_reply.started": "2024-11-08T05:01:19.43081Z",
          "shell.execute_reply": "2024-11-08T05:01:19.439488Z"
        },
        "trusted": true,
        "id": "xDshiOu26u4g"
      },
      "outputs": [],
      "execution_count": null
    },
    {
      "cell_type": "code",
      "source": [
        "# Define models to test repeatdly\n",
        "model_classes = {\n",
        "    'SVD': SVD(),\n",
        "    'KNNBasic': KNNBasic(sim_options={\"name\": \"cosine\", \"user_based\": True}),\n",
        "    'KNNBaseline': KNNBaseline(sim_options={\"name\": \"cosine\", \"user_based\": True}),\n",
        "    'NMF': NMF(),\n",
        "}"
      ],
      "metadata": {
        "execution": {
          "iopub.status.busy": "2024-11-08T06:58:35.600723Z",
          "iopub.execute_input": "2024-11-08T06:58:35.601169Z",
          "iopub.status.idle": "2024-11-08T06:58:35.60781Z",
          "shell.execute_reply.started": "2024-11-08T06:58:35.601126Z",
          "shell.execute_reply": "2024-11-08T06:58:35.606582Z"
        },
        "trusted": true,
        "id": "uEpw-xRv6u4i"
      },
      "outputs": [],
      "execution_count": null
    },
    {
      "cell_type": "code",
      "source": [
        "def get_precision_recall(predictions, top_n, threshold):\n",
        "    top_k = top_n\n",
        "    predictions_df = pd.DataFrame(predictions, columns=['user_id', 'isbn', 'true_rating', 'est_rating', 'details'])\n",
        "    predictions_df = predictions_df[['user_id', 'isbn', 'true_rating', 'est_rating']]\n",
        "\n",
        "    predictions_df['pred_rank'] = predictions_df.groupby('user_id')['est_rating'].rank(method='first', ascending=False)\n",
        "    predictions_df['true_rank'] = predictions_df.groupby('user_id')['true_rating'].rank(method='first', ascending=False)\n",
        "    predictions_df['is_relevant'] = predictions_df['true_rank'] <= top_k\n",
        "    predictions_df = predictions_df.sort_values(by='user_id')\n",
        "\n",
        "    predicted_top_k = predictions_df[predictions_df['pred_rank'] <= top_k]\n",
        "    precision_per_user = predicted_top_k.groupby('user_id')['is_relevant'].sum()\n",
        "    total_relevant_items = predictions_df.query(\"true_rating >= @threshold\").groupby(\"user_id\").size()\n",
        "\n",
        "    precision_at_k = precision_per_user / top_k\n",
        "    recall_at_k = precision_per_user / total_relevant_items\n",
        "\n",
        "    return precision_at_k.mean(), recall_at_k.mean()"
      ],
      "metadata": {
        "execution": {
          "iopub.status.busy": "2024-11-08T06:58:35.78106Z",
          "iopub.execute_input": "2024-11-08T06:58:35.781557Z",
          "iopub.status.idle": "2024-11-08T06:58:35.791335Z",
          "shell.execute_reply.started": "2024-11-08T06:58:35.781508Z",
          "shell.execute_reply": "2024-11-08T06:58:35.790146Z"
        },
        "trusted": true,
        "id": "dEZwHVBW6u4i"
      },
      "outputs": [],
      "execution_count": null
    },
    {
      "cell_type": "code",
      "source": [
        "# Dictionary to store models and their predictions\n",
        "models_predictions = {}\n",
        "\n",
        "# Evaluate models and get hit ratios\n",
        "top_n_values = [1, 2, 3, 4, 5, 6, 7]\n",
        "precision_results = []\n",
        "recall_results = []\n",
        "\n",
        "for model_name, model in model_classes.items():\n",
        "    print(f\"Evaluating {model_name}...\")\n",
        "\n",
        "    # Prepare training data\n",
        "    train_data = Dataset.load_from_df(strat_train_set[['user_id', 'isbn', 'rating']], reader)\n",
        "    trainset = train_data.build_full_trainset()\n",
        "    testset = [tuple(x) for x in strat_test_set[['user_id', 'isbn', 'rating']].values]\n",
        "\n",
        "    # Fit model and make predictions\n",
        "    model.fit(train_data.build_full_trainset())\n",
        "    predictions = model.test(testset)\n",
        "\n",
        "    # Save the trained model and predictions to the dictionary\n",
        "    models_predictions[model_name] = {\n",
        "       'model': model,\n",
        "        'predictions': predictions\n",
        "    }\n",
        "\n",
        "    # Get precision for different Top-N values\n",
        "    for top_n in top_n_values:\n",
        "        precision, recall = get_precision_recall(predictions, top_n, 7)\n",
        "        precision_results.append({'model': model_name, 'topk': top_n, 'precision': precision})\n",
        "        recall_results.append({'model': model_name, 'topk': top_n,'recall': recall})"
      ],
      "metadata": {
        "execution": {
          "iopub.status.busy": "2024-11-08T06:58:37.754553Z",
          "iopub.execute_input": "2024-11-08T06:58:37.755009Z",
          "iopub.status.idle": "2024-11-08T06:59:14.440788Z",
          "shell.execute_reply.started": "2024-11-08T06:58:37.754967Z",
          "shell.execute_reply": "2024-11-08T06:59:14.439625Z"
        },
        "trusted": true,
        "id": "BijjEUDj6u4k"
      },
      "outputs": [],
      "execution_count": null
    },
    {
      "cell_type": "code",
      "source": [
        "precision_results = pd.DataFrame(precision_results)"
      ],
      "metadata": {
        "execution": {
          "iopub.status.busy": "2024-11-08T06:59:14.442938Z",
          "iopub.execute_input": "2024-11-08T06:59:14.443349Z",
          "iopub.status.idle": "2024-11-08T06:59:14.451409Z",
          "shell.execute_reply.started": "2024-11-08T06:59:14.443309Z",
          "shell.execute_reply": "2024-11-08T06:59:14.449568Z"
        },
        "trusted": true,
        "id": "4gWchCTq6u4k"
      },
      "outputs": [],
      "execution_count": null
    },
    {
      "cell_type": "code",
      "source": [
        "precision_results.head(10)"
      ],
      "metadata": {
        "execution": {
          "iopub.status.busy": "2024-11-08T06:59:14.453327Z",
          "iopub.execute_input": "2024-11-08T06:59:14.454147Z",
          "iopub.status.idle": "2024-11-08T06:59:14.473883Z",
          "shell.execute_reply.started": "2024-11-08T06:59:14.45409Z",
          "shell.execute_reply": "2024-11-08T06:59:14.472566Z"
        },
        "trusted": true,
        "id": "KmscMNZ16u4l"
      },
      "outputs": [],
      "execution_count": null
    },
    {
      "cell_type": "code",
      "source": [
        "precision_results.pivot_table(index='model', columns='topk', values='precision').round(3)"
      ],
      "metadata": {
        "execution": {
          "iopub.status.busy": "2024-11-08T06:59:14.476943Z",
          "iopub.execute_input": "2024-11-08T06:59:14.47748Z",
          "iopub.status.idle": "2024-11-08T06:59:14.503858Z",
          "shell.execute_reply.started": "2024-11-08T06:59:14.477429Z",
          "shell.execute_reply": "2024-11-08T06:59:14.502556Z"
        },
        "trusted": true,
        "id": "nIcVdheX6u4n"
      },
      "outputs": [],
      "execution_count": null
    },
    {
      "cell_type": "code",
      "source": [
        "recall_results = pd.DataFrame(recall_results)"
      ],
      "metadata": {
        "execution": {
          "iopub.status.busy": "2024-11-08T06:59:14.505497Z",
          "iopub.execute_input": "2024-11-08T06:59:14.5059Z",
          "iopub.status.idle": "2024-11-08T06:59:14.512706Z",
          "shell.execute_reply.started": "2024-11-08T06:59:14.50584Z",
          "shell.execute_reply": "2024-11-08T06:59:14.511526Z"
        },
        "trusted": true,
        "id": "gKYODOOU6u4n"
      },
      "outputs": [],
      "execution_count": null
    },
    {
      "cell_type": "code",
      "source": [
        "recall_results.pivot_table(index='model', columns='topk', values='recall').round(3)"
      ],
      "metadata": {
        "execution": {
          "iopub.status.busy": "2024-11-08T06:59:20.053491Z",
          "iopub.execute_input": "2024-11-08T06:59:20.054451Z",
          "iopub.status.idle": "2024-11-08T06:59:20.077966Z",
          "shell.execute_reply.started": "2024-11-08T06:59:20.054367Z",
          "shell.execute_reply": "2024-11-08T06:59:20.076669Z"
        },
        "trusted": true,
        "id": "YsP9pDIW6u4n"
      },
      "outputs": [],
      "execution_count": null
    },
    {
      "cell_type": "code",
      "source": [
        "# Create subplots\n",
        "fig, axes = plt.subplots(1, 2, figsize=(10, 4))\n",
        "\n",
        "# Plot precision for each algorithm\n",
        "for algorithm in precision_results['model'].unique():\n",
        "    subset = precision_results[precision_results['model'] == algorithm]\n",
        "    axes[0].plot(subset['topk'], subset['precision'], marker='o', label=algorithm, alpha=.7)\n",
        "    axes[0].set_title('Precision of Different Recommendation Algorithms')\n",
        "    axes[0].set_xlabel('Top-N')\n",
        "    axes[0].set_ylabel('Precision')\n",
        "    axes[0].legend(title='Algorithm')\n",
        "    axes[0].grid(True)\n",
        "\n",
        "\n",
        "# Plot recall for each algorithm\n",
        "for algorithm in recall_results['model'].unique():\n",
        "    subset = recall_results[recall_results['model'] == algorithm]\n",
        "    axes[1].plot(subset['topk'], subset['recall'], marker='o', label=algorithm, alpha=.7)\n",
        "    axes[1].set_title('Recall of Different Recommendation Algorithms')\n",
        "    axes[1].set_xlabel('Top-N')\n",
        "    axes[1].set_ylabel('Recall')\n",
        "    axes[1].legend(title='Algorithm')\n",
        "    axes[1].grid(True)\n",
        "\n",
        "plt.tight_layout()\n",
        "plt.show()"
      ],
      "metadata": {
        "execution": {
          "iopub.status.busy": "2024-11-08T06:54:54.430836Z",
          "iopub.execute_input": "2024-11-08T06:54:54.432016Z",
          "iopub.status.idle": "2024-11-08T06:54:55.528675Z",
          "shell.execute_reply.started": "2024-11-08T06:54:54.431965Z",
          "shell.execute_reply": "2024-11-08T06:54:55.527461Z"
        },
        "trusted": true,
        "id": "_-rRKopu6u4o"
      },
      "outputs": [],
      "execution_count": null
    },
    {
      "cell_type": "code",
      "source": [
        "# Number of subplots (equal to number of models)\n",
        "num_models = len(models_predictions)\n",
        "\n",
        "# Create subplots (arranged in 2 rows)\n",
        "fig, axes = plt.subplots(nrows=2, ncols=(num_models + 1) // 2, figsize=(8, 6))\n",
        "\n",
        "# Flatten the axes array for easier iteration\n",
        "axes = axes.flatten()\n",
        "\n",
        "# Iterate over the models and predictions\n",
        "for idx, (model_name, model_info) in enumerate(models_predictions.items()):\n",
        "    # Get the true and predicted ratings\n",
        "    predictions = model_info['predictions']\n",
        "    y_true = [true_r[2] for true_r in testset]  # True ratings from testset\n",
        "    y_pred = [pred.est for pred in predictions]  # Predicted ratings\n",
        "\n",
        "    # Plot histograms for true and predicted ratings in a subplot\n",
        "    pd.Series(y_true).hist(alpha=0.7, label='True Ratings', ax=axes[idx])\n",
        "    pd.Series(y_pred).hist(alpha=0.7, label='Predicted Ratings', ax=axes[idx])\n",
        "\n",
        "    # Set titles and labels\n",
        "    axes[idx].set_title(f'{model_name} Histogram')\n",
        "    axes[idx].legend()\n",
        "    axes[idx].grid(True)\n",
        "\n",
        "plt.tight_layout()\n",
        "plt.show()"
      ],
      "metadata": {
        "execution": {
          "iopub.status.busy": "2024-11-08T06:55:03.666632Z",
          "iopub.execute_input": "2024-11-08T06:55:03.66707Z",
          "iopub.status.idle": "2024-11-08T06:55:05.461826Z",
          "shell.execute_reply.started": "2024-11-08T06:55:03.667031Z",
          "shell.execute_reply": "2024-11-08T06:55:05.460682Z"
        },
        "trusted": true,
        "id": "tZ-Dk6Ka6u4p"
      },
      "outputs": [],
      "execution_count": null
    },
    {
      "cell_type": "markdown",
      "source": [
        "- NOTE\n",
        "    - RMSE, MAE 기준 SVD가 높은 성능(에러 수치이므로 낮은 값일수록 성능 높음)을 보였으나,\n",
        "    - 랭킹 지표(Recall, Precision)의 경우 KNNBasic이 가장 높은 성능을 보임. (단 NMF 제외하면 차이는 크지 않음)"
      ],
      "metadata": {
        "id": "xCE7yd_G6u4p"
      }
    },
    {
      "cell_type": "markdown",
      "source": [
        "# 4강 추천알고리즘 성능 고도화\n",
        "- 일반적으로 베이스라인 모델을 빠르게 구축하고 성능 테스트를 진행/확인한 이후 이를 베이스로하여 성능 고도화를 위한 노력을 진행.\n",
        "- 데이터를 늘리거나 줄이거나 새로운 데이터를 수집해서 실험해보거나 전처리/후처리 조건 등을 변경하는 작업이 필수.\n",
        "- 베이스라인 모델의 성능을 개선할 방향성은 크게 아래 2가지.\n",
        "    - (1) **DeepLearning 계열 DNN, NCF** via TensorFlow\n",
        "    - (2) **Regression 계열 Model (Linear Regression, Ridge, Random Forest, Gradient Boosting 등)** via Scikit-learn\n",
        "\n",
        "### Regression 모델\n",
        "- 머신러닝 모델은 크게 지도학습, 비지도학습 등로 구분되며 지도학습에는 다양한 Regression과 Classification 알고리즘이 있음.\n",
        "- 추천시스템은 특정 유저의 특정 아이템에 대한 평점을 예측하는 Task이므로 **Regression 모델**을 주로 이용.\n",
        "- 이번 강의에서는 X,y 간의 선형관계를 가정하는 Linear Regression과 비선형관계를 가정하는 Tree-based 앙상블 기법을 이용.\n",
        "    - [Linear Regression](https://scikit-learn.org/stable/api/sklearn.linear_model.html)\n",
        "        - 선형 관계를 가정, Scale 및 아웃라이어에 민감,  데이터가 선형적이면 매우 효과적이고 계산 비용이 적으나\n",
        "        - 실제 환경에서 선형관계를 가지는 데이터셋을 모델링하는 경우가 흔하지 않음. 예측 성능이 낮은 경향이 있고, 변수의 독립성 등 가정을 잘 지켜야 함\n",
        "    - [Tree-based Ensemble](https://scikit-learn.org/stable/api/sklearn.ensemble.html)\n",
        "        - 비선형 관계를 가정, Scale 및 아웃라이어에 큰 영향을 받지 않음. 대부분 실제 환경에서 변수가 간 관계는 비선형 관계를 가짐\n",
        "        - 계산 비용이 높고, 수식이 상대적으로 복잡하며 다소 블랙박스 형태의 모델이므로 예측 과정 및 이유에 대한 설명력이 높지 않음\n",
        "    \n",
        "### Deep Learning 모델\n",
        "- 신경망은 사람의 뇌를 모방한 구조로, 여러개의 레이어(층)로 구성되어 있으며, 각 레이어는 데이터를 처리하고 더 복잡한 패턴을 찾아냄.\n",
        "- 데이터를 매우 복잡한 방식으로 처리할 수 있으며, 여러 중간 레이어에서 특징 추출(feature extraction)을 자동으로 수행.\n",
        "- 특히 이미지, 음성, 자연어 처리 등에서 훨씬 복잡한 패턴을 인식하는 데 매우 뛰어남.\n"
      ],
      "metadata": {
        "id": "J-xDCoeA6u4p"
      }
    },
    {
      "cell_type": "code",
      "source": [
        "# DNN, NCF 모델을 이용하여 1차 성능 고도화 시도를 진행합니다.\n",
        "# Regression 계열 모델을 이용하여 2차 성능 고도화를 진행합니다.\n",
        "from sklearn.metrics import mean_squared_error, mean_absolute_error\n",
        "from keras.models import Model\n",
        "from keras.layers import Input, Embedding, Flatten, Concatenate, Dense, BatchNormalization, Dropout\n",
        "\n",
        "# Preparing user and item embeddings\n",
        "n_users = df_mf['user_id'].nunique()\n",
        "n_items = df_mf['isbn'].nunique()\n",
        "\n",
        "# Creating user and item IDs mapping\n",
        "user_mapping = {user: idx for idx, user in enumerate(df_mf['user_id'].unique())}\n",
        "item_mapping = {item: idx for idx, item in enumerate(df_mf['isbn'].unique())}\n",
        "\n",
        "# Mapping user and item IDs\n",
        "df_mf['user_id_mapped'] = df_mf['user_id'].map(user_mapping)\n",
        "df_mf['isbn_mapped'] = df_mf['isbn'].map(item_mapping)"
      ],
      "metadata": {
        "execution": {
          "iopub.status.busy": "2024-11-08T06:55:12.188034Z",
          "iopub.execute_input": "2024-11-08T06:55:12.188515Z",
          "iopub.status.idle": "2024-11-08T06:55:27.303819Z",
          "shell.execute_reply.started": "2024-11-08T06:55:12.188471Z",
          "shell.execute_reply": "2024-11-08T06:55:27.302541Z"
        },
        "trusted": true,
        "id": "EcY8ybOc6u4r"
      },
      "outputs": [],
      "execution_count": null
    },
    {
      "cell_type": "code",
      "source": [
        "df_mf.sort_values(\"user_id\").head()"
      ],
      "metadata": {
        "execution": {
          "iopub.status.busy": "2024-11-08T06:55:27.306219Z",
          "iopub.execute_input": "2024-11-08T06:55:27.307433Z",
          "iopub.status.idle": "2024-11-08T06:55:27.368997Z",
          "shell.execute_reply.started": "2024-11-08T06:55:27.307354Z",
          "shell.execute_reply": "2024-11-08T06:55:27.36744Z"
        },
        "trusted": true,
        "id": "rpoYWRiF6u4s"
      },
      "outputs": [],
      "execution_count": null
    },
    {
      "cell_type": "code",
      "source": [
        "# Stratified split\n",
        "split = StratifiedShuffleSplit(n_splits=1, test_size=0.3, random_state=42)\n",
        "\n",
        "for train_idx, test_idx in split.split(df_mf, df_mf['user_id']):\n",
        "    strat_train_set = df_mf.iloc[train_idx]  # Use iloc for positional indexing\n",
        "    strat_test_set = df_mf.iloc[test_idx]\n",
        "\n",
        "# Splitting the data\n",
        "X_train = strat_train_set[['user_id_mapped', 'isbn_mapped']]\n",
        "y_train = strat_train_set['rating']\n",
        "\n",
        "X_test = strat_test_set[['user_id_mapped', 'isbn_mapped']]\n",
        "y_test = strat_test_set['rating']"
      ],
      "metadata": {
        "execution": {
          "iopub.status.busy": "2024-11-08T06:55:27.371063Z",
          "iopub.execute_input": "2024-11-08T06:55:27.372086Z",
          "iopub.status.idle": "2024-11-08T06:55:27.556098Z",
          "shell.execute_reply.started": "2024-11-08T06:55:27.37203Z",
          "shell.execute_reply": "2024-11-08T06:55:27.55487Z"
        },
        "trusted": true,
        "id": "PVzF9ohO6u4s"
      },
      "outputs": [],
      "execution_count": null
    },
    {
      "cell_type": "code",
      "source": [
        "X_train.sort_index().head()"
      ],
      "metadata": {
        "execution": {
          "iopub.status.busy": "2024-11-08T06:55:27.55921Z",
          "iopub.execute_input": "2024-11-08T06:55:27.559718Z",
          "iopub.status.idle": "2024-11-08T06:55:27.598535Z",
          "shell.execute_reply.started": "2024-11-08T06:55:27.559663Z",
          "shell.execute_reply": "2024-11-08T06:55:27.597142Z"
        },
        "trusted": true,
        "id": "KecupdF16u4t"
      },
      "outputs": [],
      "execution_count": null
    },
    {
      "cell_type": "code",
      "source": [
        "strat_train_set.sort_index().head()"
      ],
      "metadata": {
        "execution": {
          "iopub.status.busy": "2024-11-08T06:55:27.600001Z",
          "iopub.execute_input": "2024-11-08T06:55:27.600509Z",
          "iopub.status.idle": "2024-11-08T06:55:27.648689Z",
          "shell.execute_reply.started": "2024-11-08T06:55:27.600456Z",
          "shell.execute_reply": "2024-11-08T06:55:27.64747Z"
        },
        "trusted": true,
        "id": "kMeWuVvz6u4u"
      },
      "outputs": [],
      "execution_count": null
    },
    {
      "cell_type": "code",
      "source": [
        "print(X_train.shape)\n",
        "print(X_test.shape)"
      ],
      "metadata": {
        "execution": {
          "iopub.status.busy": "2024-11-08T06:55:27.650563Z",
          "iopub.execute_input": "2024-11-08T06:55:27.651033Z",
          "iopub.status.idle": "2024-11-08T06:55:27.658843Z",
          "shell.execute_reply.started": "2024-11-08T06:55:27.650982Z",
          "shell.execute_reply": "2024-11-08T06:55:27.657531Z"
        },
        "trusted": true,
        "id": "GLnd-Ggr6u4u"
      },
      "outputs": [],
      "execution_count": null
    },
    {
      "cell_type": "markdown",
      "source": [
        "## DNN (Deep Neural Network)\n",
        "- 딥러닝 기반 회귀 모델을 구축하고 학습. (간단한 회귀 문제나 비교적 작은 데이터셋을 다루는 데 적합한 구조로 진행)\n",
        "- 각 레이어는 ReLU 활성화 함수와 정규화 기법(Batch Normalization, Dropout)을 사용함.\n",
        "- 입력층에는 128개의 노드가 있으며, 활성화 함수로 ReLU를 사용. ReLU는 음수를 0으로, 양수는 그대로 출력.\n",
        "- 3개의 중간 레이어 구성: 각 레이어는 Dense 레이어로 구성되며, 차례대로 64, 32, 16개의 노드를 가지고 있음.\n",
        "- ReLU 활성화 함수와 Batch Normalization, 그리고 20%의 Dropout이 반복적으로 사용.\n",
        "- 출력층은 1개로 1개의 노드만 가지면 실수를 출력. (평점 예측값)"
      ],
      "metadata": {
        "id": "LX0PQ6jA6u4u"
      }
    },
    {
      "cell_type": "code",
      "source": [
        "from keras.models import Sequential\n",
        "from keras.layers import Dense, Dropout, BatchNormalization\n",
        "from keras.optimizers import Adam\n",
        "from keras.callbacks import EarlyStopping, ReduceLROnPlateau\n",
        "\n",
        "# Define the model\n",
        "model = Sequential()\n",
        "\n",
        "# 입력층\n",
        "model.add(Dense(128, activation='relu', input_shape=(X_train.shape[1],))) # fully connected, 레이어 입력층 선언\n",
        "model.add(BatchNormalization()) # 레이어의 출력을 정규화하여 학습을 안정적으로 만듦\n",
        "model.add(Dropout(0.2)) # 랜덤하게 20% 가중치 삭제\n",
        "\n",
        "# 히든 레이어\n",
        "model.add(Dense(64, activation='relu'))\n",
        "model.add(BatchNormalization())\n",
        "model.add(Dropout(0.2))\n",
        "\n",
        "model.add(Dense(32, activation='relu'))\n",
        "model.add(BatchNormalization())\n",
        "model.add(Dropout(0.2))\n",
        "\n",
        "model.add(Dense(16, activation='relu'))\n",
        "model.add(BatchNormalization())\n",
        "model.add(Dropout(0.2))\n",
        "\n",
        "# 출력층\n",
        "model.add(Dense(1)) #출력층으로, 1개의 노드만 가짐. 출력값이 하나(연속형 값)로\n",
        "\n",
        "# Compile the model\n",
        "# learning_rate=0.01 학습 속도, 학습이 진행될수록 decay=0.01를 통해 학습률이 점점 감소\n",
        "optimizer = Adam(learning_rate=0.01, decay=0.01)\n",
        "model.compile(optimizer=optimizer, loss='mean_squared_error')\n",
        "\n",
        "# Define early stopping and learning rate reduction\n",
        "early_stopping = EarlyStopping(monitor='val_loss', patience=5, min_delta=0.001) #검증 데이터의 손실 값(val_loss)이 5번의 에포크 동안 개선되지 않으면 학습 중단. 5번 에포크수 동안, 손실 값이 0.001 미만으로 개선될 경우 변화로 카운팅 제외\n",
        "reduce_lr = ReduceLROnPlateau(monitor='val_loss', factor=0.5, patience=3, min_lr=0.0001) #학습률 조절. 검증 손실이 3번의 에포크 동안 개선되지 않으면 학습률을 50% 감소, 최소 학습률은 0.0001\n",
        "\n",
        "# Train the model\n",
        "model.fit(X_train, y_train, epochs=20, batch_size=256, validation_split=0.2,\n",
        "          callbacks=[early_stopping, reduce_lr])"
      ],
      "metadata": {
        "execution": {
          "iopub.status.busy": "2024-11-08T06:55:27.66058Z",
          "iopub.execute_input": "2024-11-08T06:55:27.661048Z",
          "iopub.status.idle": "2024-11-08T06:56:20.710062Z",
          "shell.execute_reply.started": "2024-11-08T06:55:27.660995Z",
          "shell.execute_reply": "2024-11-08T06:56:20.708674Z"
        },
        "trusted": true,
        "id": "KuIQEtfh6u4v"
      },
      "outputs": [],
      "execution_count": null
    },
    {
      "cell_type": "code",
      "source": [
        "y_pred = model.predict([X_test, X_test])"
      ],
      "metadata": {
        "execution": {
          "iopub.status.busy": "2024-11-08T06:56:20.711657Z",
          "iopub.execute_input": "2024-11-08T06:56:20.712105Z",
          "iopub.status.idle": "2024-11-08T06:56:25.110952Z",
          "shell.execute_reply.started": "2024-11-08T06:56:20.712063Z",
          "shell.execute_reply": "2024-11-08T06:56:25.109694Z"
        },
        "trusted": true,
        "id": "cSPoOJ3i6u4x"
      },
      "outputs": [],
      "execution_count": null
    },
    {
      "cell_type": "code",
      "source": [
        "y_pred"
      ],
      "metadata": {
        "execution": {
          "iopub.status.busy": "2024-11-08T06:56:25.112866Z",
          "iopub.execute_input": "2024-11-08T06:56:25.113342Z",
          "iopub.status.idle": "2024-11-08T06:56:25.121844Z",
          "shell.execute_reply.started": "2024-11-08T06:56:25.113292Z",
          "shell.execute_reply": "2024-11-08T06:56:25.120587Z"
        },
        "trusted": true,
        "id": "ltZXUiEg6u4x"
      },
      "outputs": [],
      "execution_count": null
    },
    {
      "cell_type": "code",
      "source": [
        "# Calculate RMSE and MAE\n",
        "rmse = np.sqrt(mean_squared_error(y_test, y_pred))\n",
        "print(f'DNN RMSE: {rmse:.4f}')\n",
        "\n",
        "mae = mean_absolute_error(y_test, y_pred)  # No square root for MAE\n",
        "print(f'DNN MAE: {mae:.4f}')"
      ],
      "metadata": {
        "execution": {
          "iopub.status.busy": "2024-11-08T06:56:25.125833Z",
          "iopub.execute_input": "2024-11-08T06:56:25.126237Z",
          "iopub.status.idle": "2024-11-08T06:56:25.141339Z",
          "shell.execute_reply.started": "2024-11-08T06:56:25.126196Z",
          "shell.execute_reply": "2024-11-08T06:56:25.140066Z"
        },
        "trusted": true,
        "id": "aL4sp6qP6u4y"
      },
      "outputs": [],
      "execution_count": null
    },
    {
      "cell_type": "code",
      "source": [
        "results_df"
      ],
      "metadata": {
        "execution": {
          "iopub.status.busy": "2024-11-08T06:59:32.565507Z",
          "iopub.execute_input": "2024-11-08T06:59:32.565969Z",
          "iopub.status.idle": "2024-11-08T06:59:32.579105Z",
          "shell.execute_reply.started": "2024-11-08T06:59:32.565924Z",
          "shell.execute_reply": "2024-11-08T06:59:32.577864Z"
        },
        "trusted": true,
        "id": "-o6-8up66u4z"
      },
      "outputs": [],
      "execution_count": null
    },
    {
      "cell_type": "code",
      "source": [
        "dnn_results = {'Algorithm': 'DNN', 'RMSE': rmse, 'MAE': mae}\n",
        "dnn_results"
      ],
      "metadata": {
        "execution": {
          "iopub.status.busy": "2024-11-08T06:59:34.312245Z",
          "iopub.execute_input": "2024-11-08T06:59:34.313296Z",
          "iopub.status.idle": "2024-11-08T06:59:34.320573Z",
          "shell.execute_reply.started": "2024-11-08T06:59:34.31325Z",
          "shell.execute_reply": "2024-11-08T06:59:34.319368Z"
        },
        "trusted": true,
        "id": "WZGdu_CU6u4z"
      },
      "outputs": [],
      "execution_count": null
    },
    {
      "cell_type": "code",
      "source": [
        "results_df = pd.concat([results_df, pd.DataFrame([dnn_results])], ignore_index=True)\n",
        "results_df"
      ],
      "metadata": {
        "execution": {
          "iopub.status.busy": "2024-11-08T06:59:34.606354Z",
          "iopub.execute_input": "2024-11-08T06:59:34.60744Z",
          "iopub.status.idle": "2024-11-08T06:59:34.620226Z",
          "shell.execute_reply.started": "2024-11-08T06:59:34.60736Z",
          "shell.execute_reply": "2024-11-08T06:59:34.618928Z"
        },
        "trusted": true,
        "id": "4x8tOMl56u4z"
      },
      "outputs": [],
      "execution_count": null
    },
    {
      "cell_type": "code",
      "source": [
        "# Set the style of the visualization\n",
        "sns.set(style=\"whitegrid\")\n",
        "\n",
        "# Create subplots\n",
        "fig, axes = plt.subplots(1, 2, figsize=(9, 4), sharey=False)\n",
        "\n",
        "# Bar plot for RMSE\n",
        "sns.barplot(x='Algorithm', y='RMSE', data=results_df, palette='viridis', ax=axes[0])\n",
        "axes[0].set_title('RMSE for Each Model')\n",
        "axes[0].tick_params(axis='x', rotation=10)\n",
        "\n",
        "# Bar plot for MAE\n",
        "sns.barplot(x='Algorithm', y='MAE', data=results_df, palette='viridis', ax=axes[1])\n",
        "axes[1].set_title('MAE for Each Model')\n",
        "axes[1].tick_params(axis='x', rotation=10)\n",
        "\n",
        "# Adjust layout\n",
        "plt.tight_layout()\n",
        "plt.show()"
      ],
      "metadata": {
        "execution": {
          "iopub.status.busy": "2024-11-08T06:59:36.965012Z",
          "iopub.execute_input": "2024-11-08T06:59:36.965504Z",
          "iopub.status.idle": "2024-11-08T06:59:37.642006Z",
          "shell.execute_reply.started": "2024-11-08T06:59:36.965459Z",
          "shell.execute_reply": "2024-11-08T06:59:37.640886Z"
        },
        "trusted": true,
        "id": "_pf6dTdh6u40"
      },
      "outputs": [],
      "execution_count": null
    },
    {
      "cell_type": "code",
      "source": [
        "def get_precision_recall_from_testdata(test_data, top_n, threshold, y_pred):\n",
        "    top_k = top_n\n",
        "\n",
        "    predictions_df = test_data.copy()\n",
        "    predictions_df = predictions_df[['user_id', 'isbn', 'rating']]\n",
        "    predictions_df['est_rating'] = y_pred\n",
        "\n",
        "    predictions_df['pred_rank'] = predictions_df.groupby('user_id')['est_rating'].rank(method='first', ascending=False)\n",
        "    predictions_df['true_rank'] = predictions_df.groupby('user_id')['rating'].rank(method='first', ascending=False)\n",
        "    predictions_df['is_relevant'] = predictions_df['true_rank'] <= top_k\n",
        "    predictions_df = predictions_df.sort_values(by='user_id')\n",
        "\n",
        "    predicted_top_k = predictions_df[predictions_df['pred_rank'] <= top_k]\n",
        "    precision_per_user = predicted_top_k.groupby('user_id')['is_relevant'].sum()\n",
        "    total_relevant_items = predictions_df.query(\"rating >= @threshold\").groupby(\"user_id\").size()\n",
        "\n",
        "    precision_at_k = precision_per_user / top_k\n",
        "    recall_at_k = precision_per_user / total_relevant_items\n",
        "\n",
        "    return precision_at_k.mean(), recall_at_k.mean()"
      ],
      "metadata": {
        "execution": {
          "iopub.status.busy": "2024-11-08T06:59:37.82573Z",
          "iopub.execute_input": "2024-11-08T06:59:37.826208Z",
          "iopub.status.idle": "2024-11-08T06:59:37.836908Z",
          "shell.execute_reply.started": "2024-11-08T06:59:37.826163Z",
          "shell.execute_reply": "2024-11-08T06:59:37.83565Z"
        },
        "trusted": true,
        "id": "xQ7cb84M6u41"
      },
      "outputs": [],
      "execution_count": null
    },
    {
      "cell_type": "code",
      "source": [
        "# Dictionary to store models and their predictions\n",
        "models_predictions = {}\n",
        "\n",
        "# Evaluate models and get hit ratios\n",
        "top_n_values = [1, 2, 3, 4, 5, 6, 7]\n",
        "dnn_precision_results = []\n",
        "dnn_recall_results = []\n",
        "threshold = 7\n",
        "\n",
        "model_name = 'DNN'\n",
        "# Get precision for different Top-N values\n",
        "for top_n in top_n_values:\n",
        "    dnn_precision, dnn_recall = get_precision_recall_from_testdata(strat_test_set, top_n, threshold, y_pred)\n",
        "    dnn_precision_results.append({'model': model_name, 'topk': top_n, 'precision': dnn_precision})\n",
        "    dnn_recall_results.append({'model': model_name, 'topk': top_n,'recall': dnn_recall})"
      ],
      "metadata": {
        "execution": {
          "iopub.status.busy": "2024-11-08T06:59:39.318283Z",
          "iopub.execute_input": "2024-11-08T06:59:39.319455Z",
          "iopub.status.idle": "2024-11-08T06:59:39.792516Z",
          "shell.execute_reply.started": "2024-11-08T06:59:39.31936Z",
          "shell.execute_reply": "2024-11-08T06:59:39.791606Z"
        },
        "trusted": true,
        "id": "ehb0txhy6u41"
      },
      "outputs": [],
      "execution_count": null
    },
    {
      "cell_type": "code",
      "source": [
        "dnn_precision_results"
      ],
      "metadata": {
        "execution": {
          "iopub.status.busy": "2024-11-08T06:59:40.036575Z",
          "iopub.execute_input": "2024-11-08T06:59:40.037013Z",
          "iopub.status.idle": "2024-11-08T06:59:40.045839Z",
          "shell.execute_reply.started": "2024-11-08T06:59:40.036972Z",
          "shell.execute_reply": "2024-11-08T06:59:40.044659Z"
        },
        "trusted": true,
        "id": "l9FGUaYa6u42"
      },
      "outputs": [],
      "execution_count": null
    },
    {
      "cell_type": "code",
      "source": [
        "dnn_recall_results"
      ],
      "metadata": {
        "execution": {
          "iopub.status.busy": "2024-11-08T06:59:40.291197Z",
          "iopub.execute_input": "2024-11-08T06:59:40.292326Z",
          "iopub.status.idle": "2024-11-08T06:59:40.300177Z",
          "shell.execute_reply.started": "2024-11-08T06:59:40.29226Z",
          "shell.execute_reply": "2024-11-08T06:59:40.298986Z"
        },
        "trusted": true,
        "id": "oWEpX0dB6u42"
      },
      "outputs": [],
      "execution_count": null
    },
    {
      "cell_type": "code",
      "source": [
        "precision_results = pd.concat([precision_results, pd.DataFrame(dnn_precision_results)])\n",
        "recall_results = pd.concat([recall_results, pd.DataFrame(dnn_recall_results)])"
      ],
      "metadata": {
        "execution": {
          "iopub.status.busy": "2024-11-08T06:59:42.693293Z",
          "iopub.execute_input": "2024-11-08T06:59:42.694563Z",
          "iopub.status.idle": "2024-11-08T06:59:42.702738Z",
          "shell.execute_reply.started": "2024-11-08T06:59:42.694506Z",
          "shell.execute_reply": "2024-11-08T06:59:42.701466Z"
        },
        "trusted": true,
        "id": "AqrqWiRE6u42"
      },
      "outputs": [],
      "execution_count": null
    },
    {
      "cell_type": "code",
      "source": [
        "precision_results.pivot_table(index='model', columns='topk', values='precision').round(3)"
      ],
      "metadata": {
        "execution": {
          "iopub.status.busy": "2024-11-08T06:59:42.883913Z",
          "iopub.execute_input": "2024-11-08T06:59:42.884418Z",
          "iopub.status.idle": "2024-11-08T06:59:42.908965Z",
          "shell.execute_reply.started": "2024-11-08T06:59:42.884358Z",
          "shell.execute_reply": "2024-11-08T06:59:42.907676Z"
        },
        "trusted": true,
        "id": "qN3AMn3e6u43"
      },
      "outputs": [],
      "execution_count": null
    },
    {
      "cell_type": "code",
      "source": [
        "recall_results.pivot_table(index='model', columns='topk', values='recall').round(3)"
      ],
      "metadata": {
        "execution": {
          "iopub.status.busy": "2024-11-08T06:59:43.003815Z",
          "iopub.execute_input": "2024-11-08T06:59:43.005023Z",
          "iopub.status.idle": "2024-11-08T06:59:43.028136Z",
          "shell.execute_reply.started": "2024-11-08T06:59:43.004972Z",
          "shell.execute_reply": "2024-11-08T06:59:43.026958Z"
        },
        "trusted": true,
        "id": "iiifkRvp6u44"
      },
      "outputs": [],
      "execution_count": null
    },
    {
      "cell_type": "code",
      "source": [
        "# Create subplots\n",
        "fig, axes = plt.subplots(1, 2, figsize=(10, 4))\n",
        "\n",
        "# Plot precision for each algorithm\n",
        "for algorithm in precision_results['model'].unique():\n",
        "    subset = precision_results[precision_results['model'] == algorithm]\n",
        "    axes[0].plot(subset['topk'], subset['precision'], marker='o', label=algorithm, alpha=.7)\n",
        "    axes[0].set_title('Precision of Different Recommendation Algorithms')\n",
        "    axes[0].set_xlabel('Top-N')\n",
        "    axes[0].set_ylabel('Precision')\n",
        "    axes[0].legend(title='Algorithm')\n",
        "    axes[0].grid(True)\n",
        "\n",
        "# Plot recall for each algorithm\n",
        "for algorithm in recall_results['model'].unique():\n",
        "    subset = recall_results[recall_results['model'] == algorithm]\n",
        "    axes[1].plot(subset['topk'], subset['recall'], marker='o', label=algorithm, alpha=.7)\n",
        "    axes[1].set_title('Recall of Different Recommendation Algorithms')\n",
        "    axes[1].set_xlabel('Top-N')\n",
        "    axes[1].set_ylabel('Recall')\n",
        "    axes[1].legend(title='Algorithm')\n",
        "    axes[1].grid(True)\n",
        "\n",
        "plt.tight_layout()\n",
        "plt.show()"
      ],
      "metadata": {
        "execution": {
          "iopub.status.busy": "2024-11-08T06:59:46.854367Z",
          "iopub.execute_input": "2024-11-08T06:59:46.854881Z",
          "iopub.status.idle": "2024-11-08T06:59:47.934765Z",
          "shell.execute_reply.started": "2024-11-08T06:59:46.854838Z",
          "shell.execute_reply": "2024-11-08T06:59:47.933335Z"
        },
        "trusted": true,
        "id": "2_yI495Z6u45"
      },
      "outputs": [],
      "execution_count": null
    },
    {
      "cell_type": "markdown",
      "source": [
        "## Neural Collaborative Filtering (NCF)\n",
        "- 기본적인 모델인 Collaborative Filtering을 신경망 구조로 확장하여, 사용자와 아이템 간의 비선형 관계를 모델링할 수 있도록 설계된 방법.\n",
        "- NCF는 Matrix Factorization처럼 사용자의 잠재 요인(latent factors)과 아이템의 잠재 요인을 학습.\n",
        "- 이 과정에서 신경망의 비선형 활성 함수를 사용하여 복잡한 패턴을 학습.\n",
        "- 전통적인 협업 필터링 기법은 선형 모델에 의존하지만(주로 dot product), NCF는 비선형 활성 함수(예: MLP)를 사용하여 사용자와 아이템 간의 복잡한 관계를 포착."
      ],
      "metadata": {
        "id": "7u8kJ3uf6u45"
      }
    },
    {
      "cell_type": "code",
      "source": [
        "# Neural Collaborative Filtering model\n",
        "n_latent_factors = 64 # 사용자와 아이템의 잠재 요인 수를 정의\n",
        "\n",
        "user_input = Input(shape=(1,))\n",
        "item_input = Input(shape=(1,))\n",
        "\n",
        "user_embedding = Embedding(n_users, n_latent_factors)(user_input) # 임베딩 진행\n",
        "user_vec = Flatten()(user_embedding) # 임베딩된 벡터를 1차원 배열로 변환 -> dense layer 입력용\n",
        "\n",
        "item_embedding = Embedding(n_items, n_latent_factors)(item_input)\n",
        "item_vec = Flatten()(item_embedding)\n",
        "\n",
        "# Concatenate user and item embeddings\n",
        "concat = Concatenate()([user_vec, item_vec]) #사용자 벡터와 아이템 벡터를 연결하여 하나의 벡터로 통합\n",
        "\n",
        "# Adding fully connected layers with batch normalization and dropout\n",
        "dense = Dense(256, activation='relu')(concat)\n",
        "dense = BatchNormalization()(dense)\n",
        "dense = Dropout(0.2)(dense)\n",
        "\n",
        "dense = Dense(128, activation='relu')(dense)\n",
        "dense = BatchNormalization()(dense)\n",
        "dense = Dropout(0.2)(dense)\n",
        "\n",
        "output = Dense(1)(dense)\n",
        "\n",
        "# Compile model\n",
        "model = Model([user_input, item_input], output)\n",
        "model.compile(optimizer='rmsprop', loss='mean_squared_error')\n",
        "\n",
        "# Fit the model\n",
        "model.fit([X_train['user_id_mapped'], X_train['isbn_mapped']], y_train, epochs=2, batch_size=128, validation_split=0.2)\n",
        "\n",
        "# Predict and evaluate\n",
        "y_pred = model.predict([X_test['user_id_mapped'], X_test['isbn_mapped']])"
      ],
      "metadata": {
        "execution": {
          "iopub.status.busy": "2024-11-08T07:09:28.292017Z",
          "iopub.execute_input": "2024-11-08T07:09:28.292969Z",
          "iopub.status.idle": "2024-11-08T07:10:46.500944Z",
          "shell.execute_reply.started": "2024-11-08T07:09:28.292921Z",
          "shell.execute_reply": "2024-11-08T07:10:46.499654Z"
        },
        "trusted": true,
        "id": "AOQZkFT66u45"
      },
      "outputs": [],
      "execution_count": null
    },
    {
      "cell_type": "code",
      "source": [
        "# Calculate RMSE and MAE\n",
        "rmse = np.sqrt(mean_squared_error(y_test, y_pred))\n",
        "print(f'NCF RMSE: {rmse:.4f}')\n",
        "\n",
        "mae = mean_absolute_error(y_test, y_pred)  # No square root for MAE\n",
        "print(f'NCF MAE: {mae:.4f}')"
      ],
      "metadata": {
        "execution": {
          "iopub.status.busy": "2024-11-08T07:10:54.842001Z",
          "iopub.execute_input": "2024-11-08T07:10:54.842537Z",
          "iopub.status.idle": "2024-11-08T07:10:54.853894Z",
          "shell.execute_reply.started": "2024-11-08T07:10:54.84249Z",
          "shell.execute_reply": "2024-11-08T07:10:54.852459Z"
        },
        "trusted": true,
        "id": "f-4M0ats6u46"
      },
      "outputs": [],
      "execution_count": null
    },
    {
      "cell_type": "code",
      "source": [
        "ncf_results = {'Algorithm': 'NCF', 'RMSE': rmse, 'MAE': mae}\n",
        "ncf_results"
      ],
      "metadata": {
        "execution": {
          "iopub.status.busy": "2024-11-08T07:11:02.956534Z",
          "iopub.execute_input": "2024-11-08T07:11:02.956957Z",
          "iopub.status.idle": "2024-11-08T07:11:02.964569Z",
          "shell.execute_reply.started": "2024-11-08T07:11:02.956918Z",
          "shell.execute_reply": "2024-11-08T07:11:02.963329Z"
        },
        "trusted": true,
        "id": "55S8AMBe6u46"
      },
      "outputs": [],
      "execution_count": null
    },
    {
      "cell_type": "code",
      "source": [
        "results_df = pd.concat([results_df, pd.DataFrame([ncf_results])], ignore_index=True)\n",
        "results_df"
      ],
      "metadata": {
        "execution": {
          "iopub.status.busy": "2024-11-08T07:11:04.225101Z",
          "iopub.execute_input": "2024-11-08T07:11:04.226263Z",
          "iopub.status.idle": "2024-11-08T07:11:04.24033Z",
          "shell.execute_reply.started": "2024-11-08T07:11:04.226211Z",
          "shell.execute_reply": "2024-11-08T07:11:04.23901Z"
        },
        "trusted": true,
        "id": "KwKRpK-B6u46"
      },
      "outputs": [],
      "execution_count": null
    },
    {
      "cell_type": "code",
      "source": [
        "# Set the style of the visualization\n",
        "sns.set(style=\"whitegrid\")\n",
        "\n",
        "# Create subplots\n",
        "fig, axes = plt.subplots(1, 2, figsize=(10, 4), sharey=False)\n",
        "\n",
        "# Bar plot for RMSE\n",
        "sns.barplot(x='Algorithm', y='RMSE', data=results_df, palette='viridis', ax=axes[0])\n",
        "axes[0].set_title('RMSE for Each Model')\n",
        "axes[0].tick_params(axis='x', rotation=0)\n",
        "\n",
        "# Bar plot for MAE\n",
        "sns.barplot(x='Algorithm', y='MAE', data=results_df, palette='viridis', ax=axes[1])\n",
        "axes[1].set_title('MAE for Each Model')\n",
        "axes[1].tick_params(axis='x', rotation=0)\n",
        "\n",
        "# Adjust layout\n",
        "plt.tight_layout()\n",
        "plt.show()"
      ],
      "metadata": {
        "execution": {
          "iopub.status.busy": "2024-11-08T07:11:56.187057Z",
          "iopub.execute_input": "2024-11-08T07:11:56.187587Z",
          "iopub.status.idle": "2024-11-08T07:11:57.027966Z",
          "shell.execute_reply.started": "2024-11-08T07:11:56.187538Z",
          "shell.execute_reply": "2024-11-08T07:11:57.026576Z"
        },
        "trusted": true,
        "id": "82sSUZmC6u47"
      },
      "outputs": [],
      "execution_count": null
    },
    {
      "cell_type": "code",
      "source": [
        "# Dictionary to store models and their predictions\n",
        "models_predictions = {}\n",
        "\n",
        "# Evaluate models and get hit ratios\n",
        "top_n_values = [1, 2, 3, 4, 5, 6, 7]\n",
        "ncf_precision_results = []\n",
        "ncf_recall_results = []\n",
        "threshold = 7\n",
        "\n",
        "model_name = 'NCF'\n",
        "# Get precision for different Top-N values\n",
        "for top_n in top_n_values:\n",
        "    ncf_precision, ncf_recall = get_precision_recall_from_testdata(strat_test_set, top_n, threshold, y_pred)\n",
        "    ncf_precision_results.append({'model': model_name, 'topk': top_n, 'precision': ncf_precision})\n",
        "    ncf_recall_results.append({'model': model_name, 'topk': top_n,'recall': ncf_recall})"
      ],
      "metadata": {
        "execution": {
          "iopub.status.busy": "2024-11-08T07:12:14.614566Z",
          "iopub.execute_input": "2024-11-08T07:12:14.614994Z",
          "iopub.status.idle": "2024-11-08T07:12:15.044475Z",
          "shell.execute_reply.started": "2024-11-08T07:12:14.61495Z",
          "shell.execute_reply": "2024-11-08T07:12:15.043145Z"
        },
        "trusted": true,
        "id": "kAaQY1dr6u48"
      },
      "outputs": [],
      "execution_count": null
    },
    {
      "cell_type": "code",
      "source": [
        "precision_results = pd.concat([precision_results, pd.DataFrame(ncf_precision_results)])\n",
        "recall_results = pd.concat([recall_results, pd.DataFrame(ncf_recall_results)])"
      ],
      "metadata": {
        "execution": {
          "iopub.status.busy": "2024-11-08T07:12:32.144618Z",
          "iopub.execute_input": "2024-11-08T07:12:32.145092Z",
          "iopub.status.idle": "2024-11-08T07:12:32.154241Z",
          "shell.execute_reply.started": "2024-11-08T07:12:32.14505Z",
          "shell.execute_reply": "2024-11-08T07:12:32.152614Z"
        },
        "trusted": true,
        "id": "kplI1hC_6u49"
      },
      "outputs": [],
      "execution_count": null
    },
    {
      "cell_type": "code",
      "source": [
        "precision_results.pivot_table(index='model', columns='topk', values='precision').round(3)"
      ],
      "metadata": {
        "execution": {
          "iopub.status.busy": "2024-11-08T07:12:34.279905Z",
          "iopub.execute_input": "2024-11-08T07:12:34.280368Z",
          "iopub.status.idle": "2024-11-08T07:12:34.309361Z",
          "shell.execute_reply.started": "2024-11-08T07:12:34.280322Z",
          "shell.execute_reply": "2024-11-08T07:12:34.308206Z"
        },
        "trusted": true,
        "id": "Cxzzx0XY6u4-"
      },
      "outputs": [],
      "execution_count": null
    },
    {
      "cell_type": "code",
      "source": [
        "recall_results.pivot_table(index='model', columns='topk', values='recall').round(3)"
      ],
      "metadata": {
        "execution": {
          "iopub.status.busy": "2024-11-08T07:13:32.924773Z",
          "iopub.execute_input": "2024-11-08T07:13:32.925282Z",
          "iopub.status.idle": "2024-11-08T07:13:32.954994Z",
          "shell.execute_reply.started": "2024-11-08T07:13:32.925229Z",
          "shell.execute_reply": "2024-11-08T07:13:32.953642Z"
        },
        "trusted": true,
        "id": "qNPuxyBE6u4_"
      },
      "outputs": [],
      "execution_count": null
    },
    {
      "cell_type": "code",
      "source": [
        "# Create subplots\n",
        "fig, axes = plt.subplots(1, 2, figsize=(10, 4))\n",
        "\n",
        "# Plot precision for each algorithm\n",
        "for algorithm in precision_results['model'].unique():\n",
        "    subset = precision_results[precision_results['model'] == algorithm]\n",
        "    axes[0].plot(subset['topk'], subset['precision'], marker='o', label=algorithm, alpha=.7)\n",
        "    axes[0].set_title('Precision of Different Recommendation Algorithms')\n",
        "    axes[0].set_xlabel('Top-N')\n",
        "    axes[0].set_ylabel('Precision')\n",
        "    axes[0].legend(title='Algorithm')\n",
        "    axes[0].grid(True)\n",
        "\n",
        "# Plot recall for each algorithm\n",
        "for algorithm in recall_results['model'].unique():\n",
        "    subset = recall_results[recall_results['model'] == algorithm]\n",
        "    axes[1].plot(subset['topk'], subset['recall'], marker='o', label=algorithm, alpha=.7)\n",
        "    axes[1].set_title('Recall of Different Recommendation Algorithms')\n",
        "    axes[1].set_xlabel('Top-N')\n",
        "    axes[1].set_ylabel('Recall')\n",
        "    axes[1].legend(title='Algorithm')\n",
        "    axes[1].grid(True)\n",
        "\n",
        "plt.tight_layout()\n",
        "plt.show()"
      ],
      "metadata": {
        "execution": {
          "iopub.status.busy": "2024-11-08T07:14:30.798402Z",
          "iopub.execute_input": "2024-11-08T07:14:30.799539Z",
          "iopub.status.idle": "2024-11-08T07:14:31.806803Z",
          "shell.execute_reply.started": "2024-11-08T07:14:30.799479Z",
          "shell.execute_reply": "2024-11-08T07:14:31.80546Z"
        },
        "trusted": true,
        "id": "HTUm6Yxe6u4_"
      },
      "outputs": [],
      "execution_count": null
    },
    {
      "cell_type": "markdown",
      "source": [
        "## Machine Learning(Regression) Model\n",
        "\n",
        "- 딥러닝 모델의 경우 비정형 데이터(이미지, 오디오, 텍스트 등)에서 스스로 피처를 추출하고 복잡한 관계를 학습하는데 특화된 반면\n",
        "- 간단한 데이터나 Tabular 데이터셋에는 잘 맞지 않는 경향이 있음.\n",
        "- 이 경우 Linear Regression 과 같은 전통적인 구조가 간단하여 속도가 빠르고 설명력이 높고 리소스 및 운영 코스트 효율이 높은 머신러닝 모델을 주로 이용.\n",
        "- 수많은 Regression 알고리즘 중에서 몇개를 선정하여 아래와 같이 딕셔너리를 선언하여 각 성능을 체크.\n",
        "\n",
        "\n"
      ],
      "metadata": {
        "id": "n0tyY3Fk6u5A"
      }
    },
    {
      "cell_type": "code",
      "source": [
        "from sklearn.ensemble import RandomForestRegressor, GradientBoostingRegressor, VotingRegressor, ExtraTreesRegressor\n",
        "from sklearn.neural_network import MLPRegressor\n",
        "from xgboost import XGBRegressor\n",
        "from sklearn.linear_model import LinearRegression, Ridge, ElasticNet\n",
        "from sklearn.metrics import mean_absolute_error, mean_squared_error\n",
        "\n",
        "# Regression 알고리즘 후보 (이중 높은 성능을 보이는 모델을 실험을 통해 빠르게 찾는 과정이 중요)\n",
        "models = {\n",
        "    'Linear Regression': LinearRegression(),\n",
        "    'Ridge': Ridge(),\n",
        "    'ElasticNet': ElasticNet(),\n",
        "    'Random Forest': RandomForestRegressor(n_estimators=100, random_state=42),\n",
        "    'Gradient Boosting': GradientBoostingRegressor(n_estimators=100, random_state=42),\n",
        "    'ExtraTreesRegressor': ExtraTreesRegressor(),\n",
        "}\n",
        "\n",
        "models"
      ],
      "metadata": {
        "execution": {
          "iopub.status.busy": "2024-11-08T07:18:18.333017Z",
          "iopub.execute_input": "2024-11-08T07:18:18.333584Z",
          "iopub.status.idle": "2024-11-08T07:18:18.843224Z",
          "shell.execute_reply.started": "2024-11-08T07:18:18.333539Z",
          "shell.execute_reply": "2024-11-08T07:18:18.841954Z"
        },
        "trusted": true,
        "id": "ZDfM5gwX6u5A"
      },
      "outputs": [],
      "execution_count": null
    },
    {
      "cell_type": "code",
      "source": [
        "df.head()"
      ],
      "metadata": {
        "execution": {
          "iopub.status.busy": "2024-11-08T07:18:27.94277Z",
          "iopub.execute_input": "2024-11-08T07:18:27.943564Z",
          "iopub.status.idle": "2024-11-08T07:18:27.966125Z",
          "shell.execute_reply.started": "2024-11-08T07:18:27.943503Z",
          "shell.execute_reply": "2024-11-08T07:18:27.964784Z"
        },
        "trusted": true,
        "id": "K0kgxWEb6u5A"
      },
      "outputs": [],
      "execution_count": null
    },
    {
      "cell_type": "code",
      "source": [
        "# Preprocessing\n",
        "df_mf = df[['user_id', 'isbn', 'rating']].drop_duplicates()\n",
        "\n",
        "user_list = df_mf.groupby(\"user_id\").size().reset_index()\n",
        "user_list.columns = ['user_id', 'review_cnt']\n",
        "user_list = user_list[user_list['review_cnt'] >= 30]\n",
        "\n",
        "df_mf = df_mf[df_mf['user_id'].isin(user_list.user_id)]"
      ],
      "metadata": {
        "execution": {
          "iopub.status.busy": "2024-11-08T07:18:59.807997Z",
          "iopub.execute_input": "2024-11-08T07:18:59.809275Z",
          "iopub.status.idle": "2024-11-08T07:18:59.959868Z",
          "shell.execute_reply.started": "2024-11-08T07:18:59.809156Z",
          "shell.execute_reply": "2024-11-08T07:18:59.958669Z"
        },
        "trusted": true,
        "id": "No8TCG076u5B"
      },
      "outputs": [],
      "execution_count": null
    },
    {
      "cell_type": "code",
      "source": [
        "df_mf.head()"
      ],
      "metadata": {
        "execution": {
          "iopub.status.busy": "2024-11-08T07:19:00.711613Z",
          "iopub.execute_input": "2024-11-08T07:19:00.71207Z",
          "iopub.status.idle": "2024-11-08T07:19:00.727606Z",
          "shell.execute_reply.started": "2024-11-08T07:19:00.712026Z",
          "shell.execute_reply": "2024-11-08T07:19:00.726136Z"
        },
        "trusted": true,
        "id": "7_wLiVDs6u5B"
      },
      "outputs": [],
      "execution_count": null
    },
    {
      "cell_type": "code",
      "source": [
        "from sklearn.model_selection import StratifiedShuffleSplit\n",
        "from sklearn.feature_extraction.text import TfidfVectorizer\n",
        "\n",
        "split = StratifiedShuffleSplit(n_splits=1, test_size=0.3, random_state=42)\n",
        "\n",
        "for train_idx, test_idx in split.split(df_mf, df_mf['user_id']):\n",
        "    strat_train_set = df_mf.iloc[train_idx]\n",
        "    strat_test_set = df_mf.iloc[test_idx]"
      ],
      "metadata": {
        "execution": {
          "iopub.status.busy": "2024-11-08T07:19:07.51343Z",
          "iopub.execute_input": "2024-11-08T07:19:07.513881Z",
          "iopub.status.idle": "2024-11-08T07:19:07.694551Z",
          "shell.execute_reply.started": "2024-11-08T07:19:07.513844Z",
          "shell.execute_reply": "2024-11-08T07:19:07.69324Z"
        },
        "trusted": true,
        "id": "kmsqpmLe6u5B"
      },
      "outputs": [],
      "execution_count": null
    },
    {
      "cell_type": "code",
      "source": [
        "strat_train_set.head()"
      ],
      "metadata": {
        "execution": {
          "iopub.status.busy": "2024-11-08T07:19:39.102464Z",
          "iopub.execute_input": "2024-11-08T07:19:39.102923Z",
          "iopub.status.idle": "2024-11-08T07:19:39.116415Z",
          "shell.execute_reply.started": "2024-11-08T07:19:39.102881Z",
          "shell.execute_reply": "2024-11-08T07:19:39.114993Z"
        },
        "trusted": true,
        "id": "z79XaYbp6u5C"
      },
      "outputs": [],
      "execution_count": null
    },
    {
      "cell_type": "code",
      "source": [
        "print(strat_train_set.user_id.nunique())\n",
        "print(strat_test_set.user_id.nunique())"
      ],
      "metadata": {
        "execution": {
          "iopub.status.busy": "2024-11-08T07:19:41.383896Z",
          "iopub.execute_input": "2024-11-08T07:19:41.384856Z",
          "iopub.status.idle": "2024-11-08T07:19:41.39448Z",
          "shell.execute_reply.started": "2024-11-08T07:19:41.384794Z",
          "shell.execute_reply": "2024-11-08T07:19:41.393209Z"
        },
        "trusted": true,
        "id": "5HLbLsDw6u5C"
      },
      "outputs": [],
      "execution_count": null
    },
    {
      "cell_type": "code",
      "source": [
        "book_info.head()"
      ],
      "metadata": {
        "execution": {
          "iopub.status.busy": "2024-11-08T07:19:52.983177Z",
          "iopub.execute_input": "2024-11-08T07:19:52.983746Z",
          "iopub.status.idle": "2024-11-08T07:19:53.010548Z",
          "shell.execute_reply.started": "2024-11-08T07:19:52.983688Z",
          "shell.execute_reply": "2024-11-08T07:19:53.009367Z"
        },
        "trusted": true,
        "id": "-C93qdYW6u5C"
      },
      "outputs": [],
      "execution_count": null
    },
    {
      "cell_type": "code",
      "source": [
        "user_info = df[['user_id', 'age']].drop_duplicates()\n",
        "user_info.head()"
      ],
      "metadata": {
        "execution": {
          "iopub.status.busy": "2024-11-08T07:20:22.424581Z",
          "iopub.execute_input": "2024-11-08T07:20:22.425501Z",
          "iopub.status.idle": "2024-11-08T07:20:22.478881Z",
          "shell.execute_reply.started": "2024-11-08T07:20:22.42544Z",
          "shell.execute_reply": "2024-11-08T07:20:22.477581Z"
        },
        "trusted": true,
        "id": "r6ZFDddD6u5C"
      },
      "outputs": [],
      "execution_count": null
    },
    {
      "cell_type": "code",
      "source": [
        "def encode_categorical_columns(df):\n",
        "    categorical_columns = ['isbn', 'book_author', 'category']\n",
        "    for column in categorical_columns:\n",
        "        df[f'{column}_encoded'] = df[column].astype('category').cat.codes\n",
        "    return df\n",
        "\n",
        "def prepare_data(df, book_info, user_info):\n",
        "    merged_df = df.merge(book_info, on=['isbn'])\\\n",
        "                  .merge(user_info[['user_id', 'age']].drop_duplicates(), on='user_id')\n",
        "    encoded_df = encode_categorical_columns(merged_df)\n",
        "    return encoded_df\n",
        "\n",
        "strat_train_set = prepare_data(strat_train_set, book_info, user_info)\n",
        "strat_test_set = prepare_data(strat_test_set, book_info, user_info)"
      ],
      "metadata": {
        "execution": {
          "iopub.status.busy": "2024-11-08T07:21:47.940528Z",
          "iopub.execute_input": "2024-11-08T07:21:47.940996Z",
          "iopub.status.idle": "2024-11-08T07:21:48.836877Z",
          "shell.execute_reply.started": "2024-11-08T07:21:47.940955Z",
          "shell.execute_reply": "2024-11-08T07:21:48.835645Z"
        },
        "trusted": true,
        "id": "Gvj41FiA6u5E"
      },
      "outputs": [],
      "execution_count": null
    },
    {
      "cell_type": "code",
      "source": [
        "strat_train_set.head(2)"
      ],
      "metadata": {
        "execution": {
          "iopub.status.busy": "2024-11-08T07:21:57.846953Z",
          "iopub.execute_input": "2024-11-08T07:21:57.84761Z",
          "iopub.status.idle": "2024-11-08T07:21:57.867434Z",
          "shell.execute_reply.started": "2024-11-08T07:21:57.847538Z",
          "shell.execute_reply": "2024-11-08T07:21:57.866034Z"
        },
        "trusted": true,
        "id": "Sxo7KkNA6u5E"
      },
      "outputs": [],
      "execution_count": null
    },
    {
      "cell_type": "code",
      "source": [
        "def split_data(df):\n",
        "    features = ['age', 'isbn_encoded', 'book_author_encoded', 'year_of_publication',\n",
        "                'rating_mean', 'rating_count', 'category_encoded']\n",
        "\n",
        "    X = df[features]\n",
        "    y = df['rating']\n",
        "    return X, y\n",
        "\n",
        "X_train, y_train = split_data(strat_train_set)\n",
        "X_test, y_test = split_data(strat_test_set)"
      ],
      "metadata": {
        "execution": {
          "iopub.status.busy": "2024-11-08T07:22:35.36745Z",
          "iopub.execute_input": "2024-11-08T07:22:35.368535Z",
          "iopub.status.idle": "2024-11-08T07:22:35.381128Z",
          "shell.execute_reply.started": "2024-11-08T07:22:35.368489Z",
          "shell.execute_reply": "2024-11-08T07:22:35.37989Z"
        },
        "trusted": true,
        "id": "kj_UhfJr6u5E"
      },
      "outputs": [],
      "execution_count": null
    },
    {
      "cell_type": "code",
      "source": [
        "X_train.head()"
      ],
      "metadata": {
        "execution": {
          "iopub.status.busy": "2024-11-08T07:22:37.476991Z",
          "iopub.execute_input": "2024-11-08T07:22:37.478442Z",
          "iopub.status.idle": "2024-11-08T07:22:37.49791Z",
          "shell.execute_reply.started": "2024-11-08T07:22:37.478351Z",
          "shell.execute_reply": "2024-11-08T07:22:37.496468Z"
        },
        "trusted": true,
        "id": "5JLIKS826u5F"
      },
      "outputs": [],
      "execution_count": null
    },
    {
      "cell_type": "code",
      "source": [
        "y_train.head()"
      ],
      "metadata": {
        "execution": {
          "iopub.status.busy": "2024-11-08T07:23:20.462879Z",
          "iopub.execute_input": "2024-11-08T07:23:20.463416Z",
          "iopub.status.idle": "2024-11-08T07:23:20.473246Z",
          "shell.execute_reply.started": "2024-11-08T07:23:20.463354Z",
          "shell.execute_reply": "2024-11-08T07:23:20.471873Z"
        },
        "trusted": true,
        "id": "RVJSx3fR6u5G"
      },
      "outputs": [],
      "execution_count": null
    },
    {
      "cell_type": "code",
      "source": [
        "print(X_train.shape)\n",
        "print(y_train.shape)\n",
        "print(X_test.shape)\n",
        "print(y_test.shape)"
      ],
      "metadata": {
        "execution": {
          "iopub.status.busy": "2024-11-08T07:23:43.165272Z",
          "iopub.execute_input": "2024-11-08T07:23:43.166437Z",
          "iopub.status.idle": "2024-11-08T07:23:43.172696Z",
          "shell.execute_reply.started": "2024-11-08T07:23:43.166358Z",
          "shell.execute_reply": "2024-11-08T07:23:43.171478Z"
        },
        "trusted": true,
        "id": "jW-flsFR6u5G"
      },
      "outputs": [],
      "execution_count": null
    },
    {
      "cell_type": "code",
      "source": [
        "X_test.head()"
      ],
      "metadata": {
        "execution": {
          "iopub.status.busy": "2024-11-08T07:24:00.731726Z",
          "iopub.execute_input": "2024-11-08T07:24:00.732184Z",
          "iopub.status.idle": "2024-11-08T07:24:00.748846Z",
          "shell.execute_reply.started": "2024-11-08T07:24:00.732141Z",
          "shell.execute_reply": "2024-11-08T07:24:00.747368Z"
        },
        "trusted": true,
        "id": "kkXe5KX86u5G"
      },
      "outputs": [],
      "execution_count": null
    },
    {
      "cell_type": "code",
      "source": [
        "models"
      ],
      "metadata": {
        "execution": {
          "iopub.status.busy": "2024-11-08T07:24:28.512968Z",
          "iopub.execute_input": "2024-11-08T07:24:28.514181Z",
          "iopub.status.idle": "2024-11-08T07:24:28.523419Z",
          "shell.execute_reply.started": "2024-11-08T07:24:28.514131Z",
          "shell.execute_reply": "2024-11-08T07:24:28.522048Z"
        },
        "trusted": true,
        "id": "3Cagex6s6u5H"
      },
      "outputs": [],
      "execution_count": null
    },
    {
      "cell_type": "code",
      "source": [
        "results = {}\n",
        "# Iterate over the models and calculate the MAE and RMSE values\n",
        "for name, model in models.items():\n",
        "    model.fit(X_train, y_train)\n",
        "    y_pred = model.predict(X_test)\n",
        "    mae = mean_absolute_error(y_test, y_pred)\n",
        "    rmse = np.sqrt(mean_squared_error(y_test, y_pred))\n",
        "    #print(name, model)\n",
        "    results[name] = {'MAE': mae, 'RMSE': rmse}"
      ],
      "metadata": {
        "execution": {
          "iopub.status.busy": "2024-11-08T07:24:33.344556Z",
          "iopub.execute_input": "2024-11-08T07:24:33.345054Z",
          "iopub.status.idle": "2024-11-08T07:26:30.95213Z",
          "shell.execute_reply.started": "2024-11-08T07:24:33.345009Z",
          "shell.execute_reply": "2024-11-08T07:26:30.951091Z"
        },
        "trusted": true,
        "id": "x4FgZLUH6u5H"
      },
      "outputs": [],
      "execution_count": null
    },
    {
      "cell_type": "code",
      "source": [
        "pd.DataFrame(results)"
      ],
      "metadata": {
        "execution": {
          "iopub.status.busy": "2024-11-08T07:26:34.514262Z",
          "iopub.execute_input": "2024-11-08T07:26:34.515475Z",
          "iopub.status.idle": "2024-11-08T07:26:34.530885Z",
          "shell.execute_reply.started": "2024-11-08T07:26:34.515413Z",
          "shell.execute_reply": "2024-11-08T07:26:34.5295Z"
        },
        "trusted": true,
        "id": "wnTrRNZ36u5J"
      },
      "outputs": [],
      "execution_count": null
    },
    {
      "cell_type": "code",
      "source": [
        "sns.set(style=\"whitegrid\")\n",
        "\n",
        "plt.figure(figsize=(12, 4))\n",
        "\n",
        "plt.subplot(1, 2, 1)\n",
        "plt.bar(results.keys(), [value['RMSE'] for value in results.values()])\n",
        "plt.ylabel('RMSE')\n",
        "plt.xticks(rotation=15)\n",
        "plt.title('RMSE Values for Each Model')\n",
        "\n",
        "plt.subplot(1, 2, 2)\n",
        "plt.bar(results.keys(), [value['MAE'] for value in results.values()])\n",
        "plt.xticks(rotation=15)\n",
        "plt.ylabel('MAE')\n",
        "plt.title('MAE Values for Each Model')\n",
        "\n",
        "plt.tight_layout()\n",
        "plt.show()"
      ],
      "metadata": {
        "execution": {
          "iopub.status.busy": "2024-11-08T07:27:03.651368Z",
          "iopub.execute_input": "2024-11-08T07:27:03.651892Z",
          "iopub.status.idle": "2024-11-08T07:27:04.381043Z",
          "shell.execute_reply.started": "2024-11-08T07:27:03.651847Z",
          "shell.execute_reply": "2024-11-08T07:27:04.379787Z"
        },
        "trusted": true,
        "id": "I5JSiLIc6u5J"
      },
      "outputs": [],
      "execution_count": null
    },
    {
      "cell_type": "code",
      "source": [
        "# Set the style of the visualization\n",
        "sns.set(style=\"whitegrid\")\n",
        "\n",
        "# Create subplots\n",
        "fig, axes = plt.subplots(1, 2, figsize=(12, 4), sharey=False)\n",
        "\n",
        "# Bar plot for RMSE\n",
        "sns.barplot(x='Algorithm', y='RMSE', data=results_df, palette='viridis', ax=axes[0])\n",
        "axes[0].set_title('RMSE for Each Model')\n",
        "axes[0].tick_params(axis='x', rotation=0)\n",
        "\n",
        "# Bar plot for MAE\n",
        "sns.barplot(x='Algorithm', y='MAE', data=results_df, palette='viridis', ax=axes[1])\n",
        "axes[1].set_title('MAE for Each Model')\n",
        "axes[1].tick_params(axis='x', rotation=0)\n",
        "\n",
        "# Adjust layout\n",
        "plt.tight_layout()\n",
        "plt.show()"
      ],
      "metadata": {
        "execution": {
          "iopub.status.busy": "2024-11-08T07:27:39.726567Z",
          "iopub.execute_input": "2024-11-08T07:27:39.727032Z",
          "iopub.status.idle": "2024-11-08T07:27:40.399584Z",
          "shell.execute_reply.started": "2024-11-08T07:27:39.726988Z",
          "shell.execute_reply": "2024-11-08T07:27:40.398092Z"
        },
        "trusted": true,
        "id": "0v87th3D6u5K"
      },
      "outputs": [],
      "execution_count": null
    },
    {
      "cell_type": "markdown",
      "source": [
        "- Note\n",
        "    - Feature 기반의 모델이 성능이 좋으나 항상 Feature 정보가 있는 것은 아니며,\n",
        "    - Feature Quailty에 의해 성능이 크게 영향을 받는다는 단점이 존재. (예, 장애 및 수집오류로 인한 이슈)\n",
        "    - 상황에 맞춰 두 방향성을 모두 고려하여 최적화하여 이용하는 것이 필요. (예, ML 모델의 보안으로 cf, mf 이용 등)"
      ],
      "metadata": {
        "id": "ykC2F8pb6u5L"
      }
    },
    {
      "cell_type": "code",
      "source": [
        "models"
      ],
      "metadata": {
        "execution": {
          "iopub.status.busy": "2024-11-08T07:30:18.757567Z",
          "iopub.execute_input": "2024-11-08T07:30:18.758045Z",
          "iopub.status.idle": "2024-11-08T07:30:18.768347Z",
          "shell.execute_reply.started": "2024-11-08T07:30:18.758001Z",
          "shell.execute_reply": "2024-11-08T07:30:18.766922Z"
        },
        "trusted": true,
        "id": "ZqL1VtSq6u5L"
      },
      "outputs": [],
      "execution_count": null
    },
    {
      "cell_type": "code",
      "source": [],
      "metadata": {
        "id": "t_dZ8F6z6u5L"
      },
      "outputs": [],
      "execution_count": null
    },
    {
      "cell_type": "code",
      "source": [
        "# Dictionary to store models and their predictions\n",
        "models_predictions = {}\n",
        "\n",
        "# Evaluate models and get hit ratios\n",
        "top_n_values = [1, 2, 3, 4, 5, 6, 7]\n",
        "ml_precision_results = []\n",
        "ml_recall_results = []\n",
        "threshold = 7\n",
        "\n",
        "for model_name, model in models.items():\n",
        "    print(f\"Evaluating {model_name}...\")\n",
        "\n",
        "    model.fit(X_train, y_train)\n",
        "    y_pred = model.predict(X_test)\n",
        "\n",
        "    models_predictions[model_name] = {\n",
        "       'model': model,\n",
        "        'predictions': y_pred\n",
        "    }\n",
        "\n",
        "    # Get precision for different Top-N values\n",
        "    for top_n in top_n_values:\n",
        "        ml_precision, ml_recall = get_precision_recall_from_testdata(strat_test_set, top_n, threshold, y_pred)\n",
        "        ml_precision_results.append({'model': model_name, 'topk': top_n, 'precision': ml_precision})\n",
        "        ml_recall_results.append({'model': model_name, 'topk': top_n,'recall': ml_recall})"
      ],
      "metadata": {
        "execution": {
          "iopub.status.busy": "2024-11-08T07:30:24.203545Z",
          "iopub.execute_input": "2024-11-08T07:30:24.203983Z",
          "iopub.status.idle": "2024-11-08T07:32:24.477191Z",
          "shell.execute_reply.started": "2024-11-08T07:30:24.203945Z",
          "shell.execute_reply": "2024-11-08T07:32:24.475998Z"
        },
        "trusted": true,
        "id": "3KQJyXr-6u5L"
      },
      "outputs": [],
      "execution_count": null
    },
    {
      "cell_type": "code",
      "source": [
        "ml_precision_results = pd.DataFrame(ml_precision_results)\n",
        "ml_precision_results.head()"
      ],
      "metadata": {
        "execution": {
          "iopub.status.busy": "2024-11-08T07:32:28.947866Z",
          "iopub.execute_input": "2024-11-08T07:32:28.948338Z",
          "iopub.status.idle": "2024-11-08T07:32:28.961789Z",
          "shell.execute_reply.started": "2024-11-08T07:32:28.948293Z",
          "shell.execute_reply": "2024-11-08T07:32:28.960588Z"
        },
        "trusted": true,
        "id": "d4pEkXYB6u5L"
      },
      "outputs": [],
      "execution_count": null
    },
    {
      "cell_type": "code",
      "source": [
        "ml_recall_results = pd.DataFrame(ml_recall_results)\n",
        "ml_recall_results.tail()"
      ],
      "metadata": {
        "execution": {
          "iopub.status.busy": "2024-11-08T07:32:29.596651Z",
          "iopub.execute_input": "2024-11-08T07:32:29.597139Z",
          "iopub.status.idle": "2024-11-08T07:32:29.610654Z",
          "shell.execute_reply.started": "2024-11-08T07:32:29.59709Z",
          "shell.execute_reply": "2024-11-08T07:32:29.60943Z"
        },
        "trusted": true,
        "id": "GY1lOCS16u5M"
      },
      "outputs": [],
      "execution_count": null
    },
    {
      "cell_type": "code",
      "source": [
        "ml_precision_results.pivot_table(index='model', columns='topk', values='precision')"
      ],
      "metadata": {
        "execution": {
          "iopub.status.busy": "2024-11-08T07:32:35.268674Z",
          "iopub.execute_input": "2024-11-08T07:32:35.269144Z",
          "iopub.status.idle": "2024-11-08T07:32:35.295659Z",
          "shell.execute_reply.started": "2024-11-08T07:32:35.269097Z",
          "shell.execute_reply": "2024-11-08T07:32:35.294443Z"
        },
        "trusted": true,
        "id": "3fi-S43d6u5N"
      },
      "outputs": [],
      "execution_count": null
    },
    {
      "cell_type": "code",
      "source": [
        "ml_recall_results.pivot_table(index='model', columns='topk', values='recall')"
      ],
      "metadata": {
        "execution": {
          "iopub.status.busy": "2024-11-08T07:32:35.417523Z",
          "iopub.execute_input": "2024-11-08T07:32:35.417982Z",
          "iopub.status.idle": "2024-11-08T07:32:35.44452Z",
          "shell.execute_reply.started": "2024-11-08T07:32:35.417939Z",
          "shell.execute_reply": "2024-11-08T07:32:35.442343Z"
        },
        "trusted": true,
        "id": "hDfRXePJ6u5N"
      },
      "outputs": [],
      "execution_count": null
    },
    {
      "cell_type": "code",
      "source": [
        "# Create subplots\n",
        "fig, axes = plt.subplots(1, 2, figsize=(10, 4))\n",
        "\n",
        "# Plot precision for each algorithm\n",
        "for algorithm in ml_precision_results['model'].unique():\n",
        "    subset = ml_precision_results[ml_precision_results['model'] == algorithm]\n",
        "    axes[0].plot(subset['topk'], subset['precision'], marker='o', label=algorithm, alpha=.7)\n",
        "    axes[0].set_title('Precision of Different Recommendation Algorithms')\n",
        "    axes[0].set_xlabel('Top-N')\n",
        "    axes[0].set_ylabel('Precision')\n",
        "    axes[0].legend(title='Algorithm')\n",
        "    axes[0].grid(True)\n",
        "\n",
        "# Plot recall for each algorithm\n",
        "for algorithm in ml_recall_results['model'].unique():\n",
        "    subset = ml_recall_results[ml_recall_results['model'] == algorithm]\n",
        "    axes[1].plot(subset['topk'], subset['recall'], marker='o', label=algorithm, alpha=.7)\n",
        "    axes[1].set_title('Recall of Different Recommendation Algorithms')\n",
        "    axes[1].set_xlabel('Top-N')\n",
        "    axes[1].set_ylabel('Recall')\n",
        "    axes[1].legend(title='Algorithm')\n",
        "    axes[1].grid(True)\n",
        "\n",
        "plt.tight_layout()\n",
        "plt.show()"
      ],
      "metadata": {
        "execution": {
          "iopub.status.busy": "2024-11-08T07:32:57.196686Z",
          "iopub.execute_input": "2024-11-08T07:32:57.197159Z",
          "iopub.status.idle": "2024-11-08T07:32:58.371889Z",
          "shell.execute_reply.started": "2024-11-08T07:32:57.197117Z",
          "shell.execute_reply": "2024-11-08T07:32:58.370735Z"
        },
        "trusted": true,
        "id": "YCkbehYV6u5N"
      },
      "outputs": [],
      "execution_count": null
    },
    {
      "cell_type": "code",
      "source": [
        "# Create subplots\n",
        "fig, axes = plt.subplots(1, 2, figsize=(10, 4))\n",
        "\n",
        "# Plot precision for each algorithm\n",
        "for algorithm in precision_results['model'].unique():\n",
        "    subset = precision_results[precision_results['model'] == algorithm]\n",
        "    axes[0].plot(subset['topk'], subset['precision'], marker='o', label=algorithm, alpha=.7)\n",
        "    axes[0].set_title('Precision of Different Recommendation Algorithms')\n",
        "    axes[0].set_xlabel('Top-N')\n",
        "    axes[0].set_ylabel('Precision')\n",
        "    axes[0].legend(title='Algorithm')\n",
        "    axes[0].grid(True)\n",
        "\n",
        "# Plot recall for each algorithm\n",
        "for algorithm in recall_results['model'].unique():\n",
        "    subset = recall_results[recall_results['model'] == algorithm]\n",
        "    axes[1].plot(subset['topk'], subset['recall'], marker='o', label=algorithm, alpha=.7)\n",
        "    axes[1].set_title('Recall of Different Recommendation Algorithms')\n",
        "    axes[1].set_xlabel('Top-N')\n",
        "    axes[1].set_ylabel('Recall')\n",
        "    axes[1].legend(title='Algorithm')\n",
        "    axes[1].grid(True)\n",
        "\n",
        "plt.tight_layout()\n",
        "plt.show()"
      ],
      "metadata": {
        "execution": {
          "iopub.status.busy": "2024-11-08T07:45:30.712904Z",
          "iopub.execute_input": "2024-11-08T07:45:30.713462Z",
          "iopub.status.idle": "2024-11-08T07:45:31.852066Z",
          "shell.execute_reply.started": "2024-11-08T07:45:30.713415Z",
          "shell.execute_reply": "2024-11-08T07:45:31.850837Z"
        },
        "trusted": true,
        "id": "p_Rz6KLD6u5O"
      },
      "outputs": [],
      "execution_count": null
    },
    {
      "cell_type": "markdown",
      "source": [
        "# 5강 Content-Based Filtering & Popularity\n",
        "- Content-Based Filtering 은 이전 성능을 비교했던 추천 알고리즘과 다소 목적이 다름.\n",
        "- 새로운 유저, 아이템에 대해 추천할 내용이 없는 경우 Cold Start 문제라고 하며 이는 추천시스템에서 반드시 다루어야할 과제.\n",
        "- Cold Start 문제를 사용자/아이템 프로파일링, 군집화를 이용해 해결할 수 있으나, 이를 위해 정교한 추가 데이터 분석이 필요.\n",
        "- Content-Based Filtering과 Popularity-based 추천을 통해 해결하는 과정을 진행.\n",
        "\n",
        "## Content-based filtering\n",
        "- 유저 과거에 혹은 최근에 선호했던 아이템의 특성을 기반으로 비슷한 특성의 새로운 아이템을 추천하는 방법.\n",
        "  - 1) 유저가 선호하는 아이템을 정의하고,\n",
        "  - 2) 해당 아이템과 유사한 다른 아이템을 찾아서 추천합니다(유사도가 높은 순서대로)\n",
        "- 아이템 별로 임베딩을 진행하고 모든 아이템 x 아이템 쌍별로 코사인 유사도를 이용해 유사도 기준으로 유사 아이템을 찾아낼수 있음.\n",
        "- 개인화된 추천 아이템을 제공하나, 유사한 아이템이 중복적으로 추천되므로 새로운 아이템(Novelty, Serendipity)이 부족할수 있음.\n",
        "- 따라서 단독 모델로 쓰이기 보다, 보완용 혹은 하이브리드용으로 주로 쓰임.\n",
        "\n",
        "## Popularity-based 추천\n",
        "- 비개인화된 추천이며, 가장 많이 팔린 아이템, 평점이 높은 아이템 순으로 정렬하여 누구에게나 동일하게 추천하는 단순한 방식.\n",
        "- 개인화가 반영되지 않아 성능이나 사용자 피드백이 좋지 않은 경향이 있어, 사용하지 않는 추세."
      ],
      "metadata": {
        "id": "2-KavtnW6u5Q"
      }
    },
    {
      "cell_type": "code",
      "source": [
        "# Content-based filtering\n",
        "import re\n",
        "import nltk\n",
        "#nltk.download('stopwords')\n",
        "from nltk.corpus import stopwords\n",
        "stop_words = set(stopwords.words('english'))\n",
        "from sklearn.feature_extraction.text import TfidfVectorizer\n",
        "from sklearn.metrics.pairwise import cosine_similarity, linear_kernel"
      ],
      "metadata": {
        "execution": {
          "iopub.status.busy": "2024-11-08T07:57:29.505831Z",
          "iopub.execute_input": "2024-11-08T07:57:29.506369Z",
          "iopub.status.idle": "2024-11-08T07:57:30.12384Z",
          "shell.execute_reply.started": "2024-11-08T07:57:29.506322Z",
          "shell.execute_reply": "2024-11-08T07:57:30.122606Z"
        },
        "trusted": true,
        "id": "VhPKDA7n6u5X"
      },
      "outputs": [],
      "execution_count": null
    },
    {
      "cell_type": "code",
      "source": [
        "#!pip install nltk"
      ],
      "metadata": {
        "id": "ZdpxmHh46u5Y"
      },
      "outputs": [],
      "execution_count": null
    },
    {
      "cell_type": "code",
      "source": [
        "df.head(2)"
      ],
      "metadata": {
        "execution": {
          "iopub.status.busy": "2024-11-08T07:57:49.680016Z",
          "iopub.execute_input": "2024-11-08T07:57:49.680532Z",
          "iopub.status.idle": "2024-11-08T07:57:49.702778Z",
          "shell.execute_reply.started": "2024-11-08T07:57:49.680486Z",
          "shell.execute_reply": "2024-11-08T07:57:49.701321Z"
        },
        "trusted": true,
        "id": "-3q61NqN6u5Y"
      },
      "outputs": [],
      "execution_count": null
    },
    {
      "cell_type": "code",
      "source": [
        "book_info.head(2)"
      ],
      "metadata": {
        "execution": {
          "iopub.status.busy": "2024-11-08T07:57:54.230968Z",
          "iopub.execute_input": "2024-11-08T07:57:54.231597Z",
          "iopub.status.idle": "2024-11-08T07:57:54.250976Z",
          "shell.execute_reply.started": "2024-11-08T07:57:54.231525Z",
          "shell.execute_reply": "2024-11-08T07:57:54.249655Z"
        },
        "trusted": true,
        "id": "MjIm97x86u5Y"
      },
      "outputs": [],
      "execution_count": null
    },
    {
      "cell_type": "code",
      "source": [
        "# book selection\n",
        "book_rec = book_info[(book_info['rating_count'] >= 3) & (book_info['rating_mean'] >= 4)]\n",
        "\n",
        "# summary added\n",
        "book_rec = book_rec.merge(df[['isbn', 'summary']].drop_duplicates(), on='isbn', how='left').fillna(\"\")"
      ],
      "metadata": {
        "execution": {
          "iopub.status.busy": "2024-11-08T07:58:51.932124Z",
          "iopub.execute_input": "2024-11-08T07:58:51.933058Z",
          "iopub.status.idle": "2024-11-08T07:58:52.232784Z",
          "shell.execute_reply.started": "2024-11-08T07:58:51.933009Z",
          "shell.execute_reply": "2024-11-08T07:58:52.231434Z"
        },
        "trusted": true,
        "id": "5TPQXg1G6u5Z"
      },
      "outputs": [],
      "execution_count": null
    },
    {
      "cell_type": "code",
      "source": [
        "book_rec.head()"
      ],
      "metadata": {
        "execution": {
          "iopub.status.busy": "2024-11-08T07:58:53.766056Z",
          "iopub.execute_input": "2024-11-08T07:58:53.766537Z",
          "iopub.status.idle": "2024-11-08T07:58:53.783984Z",
          "shell.execute_reply.started": "2024-11-08T07:58:53.766478Z",
          "shell.execute_reply": "2024-11-08T07:58:53.782649Z"
        },
        "trusted": true,
        "id": "1EOLs2t96u5Z"
      },
      "outputs": [],
      "execution_count": null
    },
    {
      "cell_type": "code",
      "source": [
        "# Function to clean and extract meaningful keywords\n",
        "def clean_text(summary):\n",
        "    # Remove punctuation, numbers, and special characters using regex\n",
        "    cleaned_summary = re.sub(r'[^a-zA-Z\\s]', '', summary)\n",
        "\n",
        "    # Tokenize the summary by splitting on whitespace\n",
        "    words = cleaned_summary.lower().split()\n",
        "\n",
        "    # Filter out stopwords and short words (less than 3 characters)\n",
        "    meaningful_words = [word for word in words if word not in stop_words and len(word) > 2]\n",
        "\n",
        "    return ' '.join(meaningful_words)  # Return as a single string"
      ],
      "metadata": {
        "execution": {
          "iopub.status.busy": "2024-11-08T08:00:40.449498Z",
          "iopub.execute_input": "2024-11-08T08:00:40.450726Z",
          "iopub.status.idle": "2024-11-08T08:00:40.457895Z",
          "shell.execute_reply.started": "2024-11-08T08:00:40.450675Z",
          "shell.execute_reply": "2024-11-08T08:00:40.456483Z"
        },
        "trusted": true,
        "id": "xRa9UxSo6u5Z"
      },
      "outputs": [],
      "execution_count": null
    },
    {
      "cell_type": "code",
      "source": [
        "# Apply the cleaning function to the 'summary' column\n",
        "book_rec['cleaned_summary'] = book_rec['summary'].apply(clean_text)\n",
        "book_rec['keywords'] = book_rec['book_title']+' '+book_rec['book_author']+' '+book_rec['cleaned_summary']+' '+book_rec['category']\n",
        "\n",
        "book_rec = book_rec[['isbn', 'book_title', 'keywords']]\n",
        "book_rec['keywords'] = book_rec['keywords'].apply(clean_text)"
      ],
      "metadata": {
        "execution": {
          "iopub.status.busy": "2024-11-08T08:01:32.099068Z",
          "iopub.execute_input": "2024-11-08T08:01:32.10026Z",
          "iopub.status.idle": "2024-11-08T08:01:32.945994Z",
          "shell.execute_reply.started": "2024-11-08T08:01:32.100206Z",
          "shell.execute_reply": "2024-11-08T08:01:32.944845Z"
        },
        "trusted": true,
        "id": "O6_T-hIR6u5Z"
      },
      "outputs": [],
      "execution_count": null
    },
    {
      "cell_type": "code",
      "source": [
        "book_rec.head(2)"
      ],
      "metadata": {
        "execution": {
          "iopub.status.busy": "2024-11-08T08:01:40.387112Z",
          "iopub.execute_input": "2024-11-08T08:01:40.388102Z",
          "iopub.status.idle": "2024-11-08T08:01:40.399667Z",
          "shell.execute_reply.started": "2024-11-08T08:01:40.388056Z",
          "shell.execute_reply": "2024-11-08T08:01:40.398317Z"
        },
        "trusted": true,
        "id": "ld6E1GWW6u5Z"
      },
      "outputs": [],
      "execution_count": null
    },
    {
      "cell_type": "code",
      "source": [
        "book_rec.shape"
      ],
      "metadata": {
        "execution": {
          "iopub.status.busy": "2024-11-08T08:02:05.157991Z",
          "iopub.execute_input": "2024-11-08T08:02:05.158602Z",
          "iopub.status.idle": "2024-11-08T08:02:05.168575Z",
          "shell.execute_reply.started": "2024-11-08T08:02:05.158538Z",
          "shell.execute_reply": "2024-11-08T08:02:05.166991Z"
        },
        "trusted": true,
        "id": "XQvumKqU6u5Z"
      },
      "outputs": [],
      "execution_count": null
    },
    {
      "cell_type": "code",
      "source": [
        "tfidf = TfidfVectorizer(stop_words='english', max_features=1000, min_df=10)\n",
        "tfidf_matrix = tfidf.fit_transform(book_rec['keywords'])\n",
        "\n",
        "cosine_sim = linear_kernel(tfidf_matrix, tfidf_matrix)"
      ],
      "metadata": {
        "execution": {
          "iopub.status.busy": "2024-11-08T08:03:27.299937Z",
          "iopub.execute_input": "2024-11-08T08:03:27.300468Z",
          "iopub.status.idle": "2024-11-08T08:03:43.187851Z",
          "shell.execute_reply.started": "2024-11-08T08:03:27.300416Z",
          "shell.execute_reply": "2024-11-08T08:03:43.186484Z"
        },
        "trusted": true,
        "id": "FTzYCAVs6u5b"
      },
      "outputs": [],
      "execution_count": null
    },
    {
      "cell_type": "code",
      "source": [
        "tfidf_matrix"
      ],
      "metadata": {
        "execution": {
          "iopub.status.busy": "2024-11-08T08:03:43.189996Z",
          "iopub.execute_input": "2024-11-08T08:03:43.190527Z",
          "iopub.status.idle": "2024-11-08T08:03:43.198485Z",
          "shell.execute_reply.started": "2024-11-08T08:03:43.190479Z",
          "shell.execute_reply": "2024-11-08T08:03:43.197232Z"
        },
        "trusted": true,
        "id": "i8rwKmsH6u5b"
      },
      "outputs": [],
      "execution_count": null
    },
    {
      "cell_type": "code",
      "source": [
        "cosine_sim"
      ],
      "metadata": {
        "execution": {
          "iopub.status.busy": "2024-11-08T08:06:38.007184Z",
          "iopub.execute_input": "2024-11-08T08:06:38.007697Z",
          "iopub.status.idle": "2024-11-08T08:06:38.016457Z",
          "shell.execute_reply.started": "2024-11-08T08:06:38.007651Z",
          "shell.execute_reply": "2024-11-08T08:06:38.015217Z"
        },
        "trusted": true,
        "id": "zwlzeN_z6u5b"
      },
      "outputs": [],
      "execution_count": null
    },
    {
      "cell_type": "code",
      "source": [
        "book_rec[book_rec['isbn'] == my_isbn]"
      ],
      "metadata": {
        "execution": {
          "iopub.status.busy": "2024-11-08T08:10:46.526523Z",
          "iopub.execute_input": "2024-11-08T08:10:46.526941Z",
          "iopub.status.idle": "2024-11-08T08:10:46.547842Z",
          "shell.execute_reply.started": "2024-11-08T08:10:46.526902Z",
          "shell.execute_reply": "2024-11-08T08:10:46.546604Z"
        },
        "trusted": true,
        "id": "yjkivYGp6u5c"
      },
      "outputs": [],
      "execution_count": null
    },
    {
      "cell_type": "code",
      "source": [
        "# 0385504209, 059035342X, 0345370775, 0345337662, 0345339681\n",
        "my_isbn = '0345339681' # 추천기준 아이템\n",
        "top_n = 10\n",
        "\n",
        "idx = book_rec[book_rec['isbn'] == my_isbn].index[0]\n",
        "sim_scores = list(enumerate(cosine_sim[idx]))\n",
        "sim_scores = sorted(sim_scores, key=lambda x: x[1], reverse=True)\n",
        "sim_scores = sim_scores[1:top_n+1]\n",
        "book_indices = [i[0] for i in sim_scores]\n",
        "book_rec.iloc[book_indices]"
      ],
      "metadata": {
        "execution": {
          "iopub.status.busy": "2024-11-08T08:11:10.433773Z",
          "iopub.execute_input": "2024-11-08T08:11:10.434258Z",
          "iopub.status.idle": "2024-11-08T08:11:10.479582Z",
          "shell.execute_reply.started": "2024-11-08T08:11:10.434215Z",
          "shell.execute_reply": "2024-11-08T08:11:10.478333Z"
        },
        "trusted": true,
        "id": "RcBwL3IC6u5c"
      },
      "outputs": [],
      "execution_count": null
    },
    {
      "cell_type": "code",
      "source": [
        "book_rec[book_rec['isbn'] == my_isbn]"
      ],
      "metadata": {
        "execution": {
          "iopub.status.busy": "2024-11-08T08:11:31.736207Z",
          "iopub.execute_input": "2024-11-08T08:11:31.737677Z",
          "iopub.status.idle": "2024-11-08T08:11:31.758467Z",
          "shell.execute_reply.started": "2024-11-08T08:11:31.737622Z",
          "shell.execute_reply": "2024-11-08T08:11:31.756947Z"
        },
        "trusted": true,
        "id": "GZqkh6t86u5c"
      },
      "outputs": [],
      "execution_count": null
    },
    {
      "cell_type": "code",
      "source": [
        "#3426600218, 0385504209, 059035342X, 0345370775, 0345337662, 0345339681\n",
        "my_isbn = '3426600218'\n",
        "top_n = 10\n",
        "\n",
        "def get_recom_items(my_isbn, top_n, cosine_sim, book_rec, std_book_include=True):\n",
        "\n",
        "    idx = book_rec[book_rec['isbn'] == my_isbn].index[0]\n",
        "    sim_scores = list(enumerate(cosine_sim[idx]))\n",
        "    sim_scores = sorted(sim_scores, key=lambda x: x[1], reverse=True)\n",
        "    if std_book_include:\n",
        "        sim_scores = sim_scores[:top_n+1]\n",
        "    else:\n",
        "        sim_scores = sim_scores[1:top_n+1]\n",
        "    book_indices = [i[0] for i in sim_scores]\n",
        "\n",
        "    return book_rec.iloc[book_indices]"
      ],
      "metadata": {
        "execution": {
          "iopub.status.busy": "2024-11-08T08:11:48.844947Z",
          "iopub.execute_input": "2024-11-08T08:11:48.845452Z",
          "iopub.status.idle": "2024-11-08T08:11:48.85442Z",
          "shell.execute_reply.started": "2024-11-08T08:11:48.845404Z",
          "shell.execute_reply": "2024-11-08T08:11:48.852786Z"
        },
        "trusted": true,
        "id": "Tkhu4wto6u5c"
      },
      "outputs": [],
      "execution_count": null
    },
    {
      "cell_type": "code",
      "source": [
        "recom_result = get_recom_items(my_isbn, top_n, cosine_sim, book_rec, std_book_include=False)\n",
        "recom_result"
      ],
      "metadata": {
        "execution": {
          "iopub.status.busy": "2024-11-08T08:12:26.3856Z",
          "iopub.execute_input": "2024-11-08T08:12:26.386224Z",
          "iopub.status.idle": "2024-11-08T08:12:26.445783Z",
          "shell.execute_reply.started": "2024-11-08T08:12:26.386157Z",
          "shell.execute_reply": "2024-11-08T08:12:26.443949Z"
        },
        "trusted": true,
        "id": "M_zdSkv76u5c"
      },
      "outputs": [],
      "execution_count": null
    },
    {
      "cell_type": "markdown",
      "source": [
        "- Note\n",
        "  - 보통 유저별 최근 구매 아이템중에 빈도가 많거나 평가 좋은 아이템을 기준으로 이용\n",
        "  - 없는 경우, 자주 클릭한 아이템을 이용하거나 세그먼트별 대표아이템을 대안으로 이용\n",
        "  - 그래도 없으면 회원가입시 간단한 설문조사로 파악(e.g. Netflix)"
      ],
      "metadata": {
        "id": "bYwJEQij6u5d"
      }
    },
    {
      "cell_type": "code",
      "source": [
        "# Popularity Recommendation, but NON-personalized\n",
        "category_list = book_info.groupby(['category']).size()\n",
        "category_list.sort_values(ascending=False)[:10]"
      ],
      "metadata": {
        "execution": {
          "iopub.status.busy": "2024-11-08T08:13:42.681951Z",
          "iopub.execute_input": "2024-11-08T08:13:42.682568Z",
          "iopub.status.idle": "2024-11-08T08:13:42.745704Z",
          "shell.execute_reply.started": "2024-11-08T08:13:42.682509Z",
          "shell.execute_reply": "2024-11-08T08:13:42.74392Z"
        },
        "trusted": true,
        "id": "CrXfZnea6u5d"
      },
      "outputs": [],
      "execution_count": null
    },
    {
      "cell_type": "code",
      "source": [
        "#my_cate = 'Business & Economics'\n",
        "my_cate = 'Business & Economics'\n",
        "book_info.query(\"category == @my_cate\").sort_values(\"rating_count\", ascending=False)[:10]"
      ],
      "metadata": {
        "execution": {
          "iopub.status.busy": "2024-11-08T08:14:31.10011Z",
          "iopub.execute_input": "2024-11-08T08:14:31.101398Z",
          "iopub.status.idle": "2024-11-08T08:14:31.149976Z",
          "shell.execute_reply.started": "2024-11-08T08:14:31.10131Z",
          "shell.execute_reply": "2024-11-08T08:14:31.148498Z"
        },
        "trusted": true,
        "id": "R0EfwPZA6u5d"
      },
      "outputs": [],
      "execution_count": null
    },
    {
      "cell_type": "code",
      "source": [
        "book_rec.head()"
      ],
      "metadata": {
        "execution": {
          "iopub.status.busy": "2024-11-08T08:29:24.303092Z",
          "iopub.execute_input": "2024-11-08T08:29:24.303593Z",
          "iopub.status.idle": "2024-11-08T08:29:24.317662Z",
          "shell.execute_reply.started": "2024-11-08T08:29:24.303548Z",
          "shell.execute_reply": "2024-11-08T08:29:24.316129Z"
        },
        "trusted": true,
        "id": "Ig7hiDhm6u5e"
      },
      "outputs": [],
      "execution_count": null
    },
    {
      "cell_type": "code",
      "source": [
        "df_mf['user_id']"
      ],
      "metadata": {
        "execution": {
          "iopub.status.busy": "2024-11-08T08:31:21.590005Z",
          "iopub.execute_input": "2024-11-08T08:31:21.590534Z",
          "iopub.status.idle": "2024-11-08T08:31:21.600506Z",
          "shell.execute_reply.started": "2024-11-08T08:31:21.590487Z",
          "shell.execute_reply": "2024-11-08T08:31:21.599137Z"
        },
        "trusted": true,
        "id": "XwXUHTAS6u5e"
      },
      "outputs": [],
      "execution_count": null
    },
    {
      "cell_type": "code",
      "source": [
        "# Content-based & Populiarty Hybrid\n",
        "user_id = 219008\n",
        "top_n = 10\n",
        "\n",
        "def get_recommended_items_content(user_id, top_n):\n",
        "\n",
        "    # the previous book that the user liked the most\n",
        "    most_liked_isbn = df_mf[df_mf['user_id'] == user_id].sort_values(\"rating\", ascending=False)['isbn']\n",
        "    if most_liked_isbn.empty:\n",
        "        return pd.DataFrame()\n",
        "    most_liked_isbn = most_liked_isbn.values[0] # get the isbm\n",
        "\n",
        "    # popularity-based if none\n",
        "    if most_liked_isbn not in book_rec['isbn'].values:\n",
        "        predictions = book_info.sort_values(\"rating_count\", ascending=False)[:top_n]\n",
        "        predictions['user_id'] = user_id\n",
        "        predictions = predictions[['user_id', 'isbn', 'book_title', 'book_author']]\n",
        "\n",
        "    # using content-based\n",
        "    else:\n",
        "        idx = book_rec[book_rec['isbn'] == most_liked_isbn].index[0]\n",
        "        sim_scores = list(enumerate(cosine_sim[idx]))\n",
        "        sim_scores = sorted(sim_scores, key=lambda x: x[1], reverse=True)[1:top_n+1]\n",
        "        book_indices = [i[0] for i in sim_scores]\n",
        "        recommend_books = book_rec.iloc[book_indices]['isbn']\n",
        "        predictions = book_info[book_info['isbn'].isin(recommend_books)]\n",
        "        predictions['user_id'] = user_id\n",
        "        predictions = predictions[['user_id', 'isbn', 'book_title', 'book_author']]\n",
        "    return predictions\n",
        "\n",
        "get_recommended_items_content(user_id, top_n)"
      ],
      "metadata": {
        "execution": {
          "iopub.status.busy": "2024-11-08T08:31:30.528439Z",
          "iopub.execute_input": "2024-11-08T08:31:30.528924Z",
          "iopub.status.idle": "2024-11-08T08:31:30.625908Z",
          "shell.execute_reply.started": "2024-11-08T08:31:30.528884Z",
          "shell.execute_reply": "2024-11-08T08:31:30.624653Z"
        },
        "trusted": true,
        "id": "0m9f2azg6u5e"
      },
      "outputs": [],
      "execution_count": null
    },
    {
      "cell_type": "markdown",
      "source": [
        "# 6강 최종 추천모델 클래스 구성\n",
        "- 지금까지 3실험한 알고리즘중 일부를 선정해 하나의 추천 클래스를 구성.\n",
        "- 클래스 하나에 **Matrix Factorization(SVD), Machine Learning(GBR), Content+Poupularity** 추천을 생성하는 코드를 작성."
      ],
      "metadata": {
        "id": "qpI755kk6u5e"
      }
    },
    {
      "cell_type": "markdown",
      "source": [
        "## SVD Recommender"
      ],
      "metadata": {
        "id": "bFH6DToo6u5e"
      }
    },
    {
      "cell_type": "code",
      "source": [
        "import pandas as pd\n",
        "from surprise import Dataset, Reader\n",
        "from surprise import SVD\n",
        "from sklearn.ensemble import GradientBoostingRegressor\n",
        "\n",
        "class SVDRecommender:\n",
        "    def __init__(self, df_mf):\n",
        "        self.df_mf = df_mf\n",
        "        self.svd_model = self.fit_svd_model()\n",
        "\n",
        "    def fit_svd_model(self):\n",
        "        # Preprocessing\n",
        "        df_mf = self.df_mf[['user_id', 'isbn', 'rating']].drop_duplicates()\n",
        "        user_list = df_mf.groupby(\"user_id\").size().reset_index(name='review_cnt')\n",
        "        user_list = user_list[user_list['review_cnt'] >= 30]\n",
        "\n",
        "        df_mf = df_mf[df_mf['user_id'].isin(user_list['user_id'])]\n",
        "\n",
        "        # Ensure reader is defined\n",
        "        reader = Reader(rating_scale=(1, 5))  # Adjust scale as needed\n",
        "\n",
        "        # Train\n",
        "        train_data = Dataset.load_from_df(df_mf[['user_id', 'isbn', 'rating']], reader)\n",
        "        trainset = train_data.build_full_trainset()\n",
        "        svd = SVD()\n",
        "        svd.fit(trainset)\n",
        "\n",
        "        return svd"
      ],
      "metadata": {
        "execution": {
          "iopub.status.busy": "2024-11-08T08:34:18.776588Z",
          "iopub.execute_input": "2024-11-08T08:34:18.777121Z",
          "iopub.status.idle": "2024-11-08T08:34:18.788839Z",
          "shell.execute_reply.started": "2024-11-08T08:34:18.777074Z",
          "shell.execute_reply": "2024-11-08T08:34:18.787342Z"
        },
        "trusted": true,
        "id": "CPYz3y376u5e"
      },
      "outputs": [],
      "execution_count": null
    },
    {
      "cell_type": "markdown",
      "source": [
        "## GBR Recommender"
      ],
      "metadata": {
        "id": "7FD-Z4eC6u5f"
      }
    },
    {
      "cell_type": "code",
      "source": [
        "class GBRRecommender:\n",
        "    def __init__(self, ml_train_set, book_info, user_info):\n",
        "        self.ml_train_set = ml_train_set\n",
        "        self.book_info = book_info\n",
        "        self.user_info = user_info\n",
        "        self.gbr_model = self.fit_gbr_model()\n",
        "\n",
        "    def fit_gbr_model(self):\n",
        "        # Prepare data for GBR fitting\n",
        "        df_mf = self.preprocessing(self.ml_train_set)\n",
        "\n",
        "        # Train\n",
        "        X_train, y_train = self.split_data(df_mf)\n",
        "        gbr_model = GradientBoostingRegressor(random_state=42)\n",
        "        gbr_model.fit(X_train, y_train)\n",
        "\n",
        "        return gbr_model\n",
        "\n",
        "    def preprocessing(self, df):\n",
        "        df_mf = df[['user_id', 'isbn', 'rating']].drop_duplicates()\n",
        "        user_list = df_mf.groupby(\"user_id\").size().reset_index(name='review_cnt')\n",
        "        user_list = user_list[user_list['review_cnt'] >= 30]\n",
        "\n",
        "        df_mf = df_mf[df_mf['user_id'].isin(user_list['user_id'])]\n",
        "\n",
        "        merged_df = df_mf.merge(self.book_info, on='isbn')\\\n",
        "                          .merge(self.user_info[['user_id', 'age']].drop_duplicates(), on='user_id')\n",
        "        return self.encode_categorical_columns(merged_df)\n",
        "\n",
        "    def encode_categorical_columns(self, df):\n",
        "        \"\"\"Encode categorical columns in the DataFrame.\"\"\"\n",
        "        categorical_columns = ['isbn', 'book_author', 'category']\n",
        "        for column in categorical_columns:\n",
        "            df[f'{column}_encoded'] = df[column].astype('category').cat.codes\n",
        "        return df\n",
        "\n",
        "    def split_data(self, df):\n",
        "\n",
        "        features = ['age', 'isbn_encoded', 'book_author_encoded', 'year_of_publication',\n",
        "                    'rating_mean', 'rating_count', 'category_encoded']\n",
        "\n",
        "        # Check if all features exist in the DataFrame\n",
        "        missing_features = [feature for feature in features if feature not in df.columns]\n",
        "        if missing_features:\n",
        "            print(f\"Missing features: {missing_features}\")\n",
        "            raise KeyError(f\"None of {missing_features} are in the input DataFrame\")\n",
        "\n",
        "        X = df[features]\n",
        "        y = df['rating']\n",
        "        return X, y"
      ],
      "metadata": {
        "execution": {
          "iopub.status.busy": "2024-11-08T08:37:34.937701Z",
          "iopub.execute_input": "2024-11-08T08:37:34.938235Z",
          "iopub.status.idle": "2024-11-08T08:37:34.954336Z",
          "shell.execute_reply.started": "2024-11-08T08:37:34.938189Z",
          "shell.execute_reply": "2024-11-08T08:37:34.952922Z"
        },
        "trusted": true,
        "id": "fK1a_0nl6u5f"
      },
      "outputs": [],
      "execution_count": null
    },
    {
      "cell_type": "markdown",
      "source": [
        "## Final Book Recommender with SVD, GBR, Content&Popularity\n",
        "- SVD Recommender와 GBR Recommender 클래스를 상속받아 Book Recommender 에서는 3개의 알고리즘을 이용해 추천셋 생성"
      ],
      "metadata": {
        "id": "dUv0vuIP6u5f"
      }
    },
    {
      "cell_type": "code",
      "source": [
        "class BookRecommender(SVDRecommender, GBRRecommender):\n",
        "\n",
        "    def __init__(self, df_mf, book_info, book_rec, ml_train_set, cosine_sim):\n",
        "        SVDRecommender.__init__(self, df_mf)\n",
        "        GBRRecommender.__init__(self, ml_train_set, book_info, ml_train_set[['user_id', 'age']].drop_duplicates())\n",
        "\n",
        "        self.book_info = book_info\n",
        "        self.book_rec = book_rec\n",
        "        self.cosine_sim = cosine_sim\n",
        "\n",
        "    def get_recommended_items_mf(self, user_id, top_n):\n",
        "        \"\"\"Matrix Factorization based recommendations\"\"\"\n",
        "        user_reviewed_iid = self.df_mf[self.df_mf['user_id'] == user_id]['isbn']\n",
        "        iid_to_est = self.df_mf[~self.df_mf['isbn'].isin(user_reviewed_iid)]['isbn'].drop_duplicates()\n",
        "        testset = [(user_id, iid, None) for iid in iid_to_est]\n",
        "\n",
        "        predictions = self.svd_model.test(testset)\n",
        "        predictions = pd.DataFrame(predictions)[['uid', 'iid', 'est']]\n",
        "        predictions.columns = ['user_id', 'isbn', 'predicted_rating']\n",
        "        predictions['predicted_rank'] = predictions['predicted_rating'].rank(method='first', ascending=False)\n",
        "        predictions = predictions.sort_values(\"predicted_rank\")[:top_n]\n",
        "        predictions = predictions.merge(self.book_info, on='isbn')\n",
        "\n",
        "        return predictions[['user_id', 'isbn', 'book_title', 'book_author']]\n",
        "\n",
        "    def get_recommended_items_ml(self, user_id, top_n):\n",
        "        \"\"\"Machine Learning (GBR) based recommendations\"\"\"\n",
        "        user_reviewed_iid = self.df_mf[self.df_mf['user_id'] == user_id]['isbn']\n",
        "        iid_to_est = self.df_mf[~self.df_mf['isbn'].isin(user_reviewed_iid)]['isbn'].drop_duplicates()\n",
        "        ml_test_set = self.ml_train_set[self.ml_train_set['isbn'].isin(iid_to_est)]\n",
        "        user_age = self.ml_train_set[self.ml_train_set['user_id'] == user_id]['age'].unique()\n",
        "\n",
        "        features = ['age', 'isbn_encoded', 'book_author_encoded', 'year_of_publication',\n",
        "                    'rating_mean', 'rating_count', 'category_encoded']\n",
        "\n",
        "        X = ml_test_set[features].query(\"age == @user_age\")\n",
        "        y_pred = self.gbr_model.predict(X)\n",
        "\n",
        "        gbr_rec_result = X.copy()\n",
        "        gbr_rec_result['y_pred'] = y_pred\n",
        "        gbr_rec_result = gbr_rec_result.sort_values(\"y_pred\", ascending=False)[:top_n]\n",
        "        gbr_rec_result = gbr_rec_result.merge(self.ml_train_set[['isbn_encoded', 'isbn', 'book_title', 'book_author']].drop_duplicates(), on='isbn_encoded')\n",
        "        gbr_rec_result = gbr_rec_result[['isbn', 'book_title', 'book_author']]\n",
        "        gbr_rec_result['user_id'] = user_id\n",
        "        gbr_rec_result = gbr_rec_result.reindex(columns=['user_id', 'isbn', 'book_title', 'book_author'])\n",
        "\n",
        "        return gbr_rec_result\n",
        "\n",
        "    def get_recommended_items_content(self, user_id, top_n):\n",
        "        \"\"\" Content-based recommendations \"\"\"\n",
        "        most_liked_isbn = self.df_mf[self.df_mf['user_id'] == user_id].sort_values(\"rating\", ascending=False)['isbn']\n",
        "\n",
        "        if most_liked_isbn.empty:\n",
        "            return pd.DataFrame()  # Return empty DataFrame if user has no ratings\n",
        "\n",
        "        most_liked_isbn = most_liked_isbn.values[0]\n",
        "\n",
        "        if most_liked_isbn not in self.book_rec['isbn'].values:\n",
        "            predictions = self.book_info.sort_values(\"rating_count\", ascending=False)[:top_n]\n",
        "            predictions['user_id'] = user_id\n",
        "            return predictions[['user_id', 'isbn', 'book_title', 'book_author']]\n",
        "        else:\n",
        "            idx = self.book_rec[self.book_rec['isbn'] == most_liked_isbn].index[0]\n",
        "            sim_scores = list(enumerate(self.cosine_sim[idx]))\n",
        "            sim_scores = sorted(sim_scores, key=lambda x: x[1], reverse=True)[1:top_n+1]\n",
        "            book_indices = [i[0] for i in sim_scores]\n",
        "            recommend_books = self.book_rec.iloc[book_indices]['isbn']\n",
        "            predictions = self.book_info[self.book_info['isbn'].isin(recommend_books)]\n",
        "            predictions['user_id'] = user_id\n",
        "            return predictions[['user_id', 'isbn', 'book_title', 'book_author']]\n",
        "\n",
        "\n",
        "book_recommender = BookRecommender(df_mf, book_info, book_rec, strat_train_set, cosine_sim)"
      ],
      "metadata": {
        "execution": {
          "iopub.status.busy": "2024-11-08T08:58:09.65771Z",
          "iopub.execute_input": "2024-11-08T08:58:09.65833Z",
          "iopub.status.idle": "2024-11-08T08:58:32.770523Z",
          "shell.execute_reply.started": "2024-11-08T08:58:09.65828Z",
          "shell.execute_reply": "2024-11-08T08:58:32.769071Z"
        },
        "trusted": true,
        "id": "KkdfyCs16u5g"
      },
      "outputs": [],
      "execution_count": null
    },
    {
      "cell_type": "code",
      "source": [
        "# randome user_ids\n",
        "unique_user_ids = df_mf['user_id'].unique()\n",
        "np.random.shuffle(unique_user_ids)\n",
        "print(unique_user_ids[:20])"
      ],
      "metadata": {
        "execution": {
          "iopub.status.busy": "2024-11-08T08:58:32.772952Z",
          "iopub.execute_input": "2024-11-08T08:58:32.773365Z",
          "iopub.status.idle": "2024-11-08T08:58:32.781771Z",
          "shell.execute_reply.started": "2024-11-08T08:58:32.773323Z",
          "shell.execute_reply": "2024-11-08T08:58:32.780485Z"
        },
        "trusted": true,
        "id": "eFl9l_n16u5i"
      },
      "outputs": [],
      "execution_count": null
    },
    {
      "cell_type": "code",
      "source": [
        "user_id = 28255\n",
        "top_n = 10\n",
        "\n",
        "mf_rec_result = book_recommender.get_recommended_items_mf(user_id, top_n)\n",
        "mf_rec_result"
      ],
      "metadata": {
        "execution": {
          "iopub.status.busy": "2024-11-08T08:58:56.061563Z",
          "iopub.execute_input": "2024-11-08T08:58:56.062649Z",
          "iopub.status.idle": "2024-11-08T08:58:58.52765Z",
          "shell.execute_reply.started": "2024-11-08T08:58:56.0626Z",
          "shell.execute_reply": "2024-11-08T08:58:58.526465Z"
        },
        "trusted": true,
        "id": "aaaiSP8z6u5j"
      },
      "outputs": [],
      "execution_count": null
    },
    {
      "cell_type": "code",
      "source": [
        "ml_rec_result = book_recommender.get_recommended_items_ml(user_id, top_n)\n",
        "ml_rec_result"
      ],
      "metadata": {
        "execution": {
          "iopub.status.busy": "2024-11-08T08:59:08.958143Z",
          "iopub.execute_input": "2024-11-08T08:59:08.958918Z",
          "iopub.status.idle": "2024-11-08T08:59:09.342855Z",
          "shell.execute_reply.started": "2024-11-08T08:59:08.958871Z",
          "shell.execute_reply": "2024-11-08T08:59:09.341559Z"
        },
        "trusted": true,
        "id": "hAvr2cwn6u5j"
      },
      "outputs": [],
      "execution_count": null
    },
    {
      "cell_type": "code",
      "source": [
        "content_rec_result = book_recommender.get_recommended_items_content(user_id, top_n)\n",
        "content_rec_result"
      ],
      "metadata": {
        "execution": {
          "iopub.status.busy": "2024-11-08T08:59:25.597189Z",
          "iopub.execute_input": "2024-11-08T08:59:25.598004Z",
          "iopub.status.idle": "2024-11-08T08:59:25.687098Z",
          "shell.execute_reply.started": "2024-11-08T08:59:25.597953Z",
          "shell.execute_reply": "2024-11-08T08:59:25.685867Z"
        },
        "trusted": true,
        "id": "qL1KWua76u5j"
      },
      "outputs": [],
      "execution_count": null
    },
    {
      "cell_type": "code",
      "source": [],
      "metadata": {
        "id": "HhtafSr76u5l"
      },
      "outputs": [],
      "execution_count": null
    }
  ]
}