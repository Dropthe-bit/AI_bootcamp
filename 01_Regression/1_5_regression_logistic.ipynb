{
  "cells": [
    {
      "cell_type": "code",
      "source": [
        "# # 초기 1회 실행\n",
        "# from google.colab import drive\n",
        "# drive.mount('/content/drive')"
      ],
      "metadata": {
        "id": "6rMRWTFWNytb"
      },
      "execution_count": 1,
      "outputs": []
    },
    {
      "cell_type": "code",
      "source": [
        "# 📥 데이터 다운로드 (Download Dataset)\n",
        "# GitHub에서 csv 파일을 다운로드합니다.\n",
        "\n",
        "!wget https://raw.githubusercontent.com/Dropthe-bit/ai_portfolio/main/data/diabete_lgr_tr.csv\n",
        "!wget https://raw.githubusercontent.com/Dropthe-bit/ai_portfolio/main/data/diabete_lgr_te.csv"
      ],
      "metadata": {
        "colab": {
          "base_uri": "https://localhost:8080/"
        },
        "id": "puC3esHXuqzI",
        "outputId": "54a89b9b-9180-4632-8c8f-3262c1fe8357"
      },
      "execution_count": 2,
      "outputs": [
        {
          "output_type": "stream",
          "name": "stdout",
          "text": [
            "--2025-06-24 06:59:37--  https://raw.githubusercontent.com/Dropthe-bit/ai_portfolio/main/data/diabete_lgr_tr.csv\n",
            "Resolving raw.githubusercontent.com (raw.githubusercontent.com)... 185.199.108.133, 185.199.109.133, 185.199.110.133, ...\n",
            "Connecting to raw.githubusercontent.com (raw.githubusercontent.com)|185.199.108.133|:443... connected.\n",
            "HTTP request sent, awaiting response... 200 OK\n",
            "Length: 16675 (16K) [text/plain]\n",
            "Saving to: ‘diabete_lgr_tr.csv’\n",
            "\n",
            "\rdiabete_lgr_tr.csv    0%[                    ]       0  --.-KB/s               \rdiabete_lgr_tr.csv  100%[===================>]  16.28K  --.-KB/s    in 0s      \n",
            "\n",
            "2025-06-24 06:59:37 (81.4 MB/s) - ‘diabete_lgr_tr.csv’ saved [16675/16675]\n",
            "\n",
            "--2025-06-24 06:59:37--  https://raw.githubusercontent.com/Dropthe-bit/ai_portfolio/main/data/diabete_lgr_te.csv\n",
            "Resolving raw.githubusercontent.com (raw.githubusercontent.com)... 185.199.110.133, 185.199.109.133, 185.199.111.133, ...\n",
            "Connecting to raw.githubusercontent.com (raw.githubusercontent.com)|185.199.110.133|:443... connected.\n",
            "HTTP request sent, awaiting response... 200 OK\n",
            "Length: 7194 (7.0K) [text/plain]\n",
            "Saving to: ‘diabete_lgr_te.csv’\n",
            "\n",
            "diabete_lgr_te.csv  100%[===================>]   7.03K  --.-KB/s    in 0s      \n",
            "\n",
            "2025-06-24 06:59:37 (61.2 MB/s) - ‘diabete_lgr_te.csv’ saved [7194/7194]\n",
            "\n"
          ]
        }
      ]
    },
    {
      "cell_type": "markdown",
      "metadata": {
        "id": "8A4S_OzM8R0Z"
      },
      "source": [
        "# Logistic Regression Model"
      ]
    },
    {
      "cell_type": "code",
      "execution_count": 3,
      "metadata": {
        "id": "1-kLuhgK8R0b",
        "colab": {
          "base_uri": "https://localhost:8080/"
        },
        "outputId": "20fce845-f5b9-40e5-c062-a36170cf7ae5"
      },
      "outputs": [
        {
          "output_type": "stream",
          "name": "stdout",
          "text": [
            "mlxtend is already installed.\n"
          ]
        }
      ],
      "source": [
        "## 필요 패키지 설치 및 import\n",
        "import importlib.util\n",
        "import subprocess\n",
        "import sys\n",
        "def install_and_import(packages):\n",
        "    for pkg in packages:\n",
        "        package = pkg\n",
        "        try:\n",
        "            importlib.util.find_spec(package)\n",
        "            print(f\"{package} is already installed.\")\n",
        "        except ImportError:\n",
        "            # 모듈이 설치되어 있지 않은 경우 설치시도\n",
        "            print(f\"{package} is not installed. Installing...\")\n",
        "            subprocess.check_call([sys.executable, \"-m\", \"pip\", \"install\", package])\n",
        "            subprocess.check_call([\"conda\", \"install\", package, \"-y\"])\n",
        "\n",
        "            # 설치 후 다시 임포트를 시도\n",
        "            importlib.import_module(package)\n",
        "            print(f\"{package} has been successfully installed.\")\n",
        "\n",
        "        # finally:\n",
        "        #     globals()[package] = importlib.import_module(package)\n",
        "        except Exception as e:\n",
        "            # 설치 중 예외가 발생한 경우, 에러 메시지를 출력\n",
        "            print(f\"An error occurred while installing {package}: {str(e)}\")\n",
        "\n",
        "# 예시 사용법\n",
        "install_and_import(['mlxtend'])\n"
      ]
    },
    {
      "cell_type": "code",
      "execution_count": 4,
      "metadata": {
        "id": "MxFuEfec8R0f"
      },
      "outputs": [],
      "source": [
        "## 필요 모듈 임포트\n",
        "import numpy as np\n",
        "import pandas as pd\n",
        "import matplotlib.pyplot as plt\n",
        "\n",
        "import seaborn as sns\n",
        "import statsmodels.api as sm\n",
        "import scipy.stats as stats\n",
        "\n",
        "from sklearn.linear_model import LogisticRegression\n",
        "from mlxtend.feature_selection import SequentialFeatureSelector as SFS ## sklearn 하고 이름은 같으나 다름\n",
        "from sklearn.metrics import accuracy_score\n"
      ]
    },
    {
      "cell_type": "markdown",
      "source": [
        "# 데이터 읽기"
      ],
      "metadata": {
        "id": "Z_f9Nr-qsA3x"
      }
    },
    {
      "cell_type": "markdown",
      "source": [
        "- Pima Indians Diabetes 데이터셋\n",
        "  - Pregnancies(preg): 임신 횟수\n",
        "  - Glucose(plas): 포도당 부하 검사에서의 혈장 포도당 농도 (mg/dL)\n",
        "  - BloodPressure(pres): 이완기 혈압 (mm Hg)\n",
        "  - SkinThickness(skin): 삼두근 피부 주름 두께 (mm)\n",
        "  - Insulin(insu): 2시간 혈청 인슐린 (mu U/ml)\n",
        "  - BMI(mass): 체질량 지수 (체중(kg)/(신장(m))^2)\n",
        "  - DiabetesPedigreeFunction(pedi): 당뇨병 가족력 함수 (당뇨병 가족력에 따른 위험도)\n",
        "  - Age(age): 나이 (년)\n",
        "  - Outcome(class): 클래스 변수 (0 = 당뇨병 없음, 1 = 당뇨병)\n",
        "\n",
        "- 1세 이상의 Pima 인디언 여성들의 의료 기록으로 구성\n",
        "- 변수들을 사용하여 당뇨병 발병 여부를 예측하는 것이 목표임"
      ],
      "metadata": {
        "id": "Dd649TqWswiZ"
      }
    },
    {
      "cell_type": "code",
      "source": [
        "rd = pd.read_csv('diabete_lgr_tr.csv')\n",
        "rd"
      ],
      "metadata": {
        "colab": {
          "base_uri": "https://localhost:8080/",
          "height": 424
        },
        "id": "wa9noc0j6Kan",
        "outputId": "03d5421a-d00e-470b-db33-0a174ccb974b"
      },
      "execution_count": 5,
      "outputs": [
        {
          "output_type": "execute_result",
          "data": {
            "text/plain": [
              "     preg  plas  pres  skin  insu  mass   pedi  age  class\n",
              "0       0   129    80     0     0  31.2  0.703   29      0\n",
              "1       3    88    58    11    54  24.8  0.267   22      0\n",
              "2       7   150    78    29   126  35.2  0.692   54      1\n",
              "3       0   134    58    20   291  26.4  0.352   21      0\n",
              "4       1    83    68     0     0  18.2  0.624   27      0\n",
              "..    ...   ...   ...   ...   ...   ...    ...  ...    ...\n",
              "532     0   132    78     0     0  32.4  0.393   21      0\n",
              "533     1   119    44    47    63  35.5  0.280   25      0\n",
              "534     4   131    68    21   166  33.1  0.160   28      0\n",
              "535     2   111    60     0     0  26.2  0.343   23      0\n",
              "536    10   125    70    26   115  31.1  0.205   41      1\n",
              "\n",
              "[537 rows x 9 columns]"
            ],
            "text/html": [
              "\n",
              "  <div id=\"df-a321965a-2da6-47fd-b50b-5ae2f279de08\" class=\"colab-df-container\">\n",
              "    <div>\n",
              "<style scoped>\n",
              "    .dataframe tbody tr th:only-of-type {\n",
              "        vertical-align: middle;\n",
              "    }\n",
              "\n",
              "    .dataframe tbody tr th {\n",
              "        vertical-align: top;\n",
              "    }\n",
              "\n",
              "    .dataframe thead th {\n",
              "        text-align: right;\n",
              "    }\n",
              "</style>\n",
              "<table border=\"1\" class=\"dataframe\">\n",
              "  <thead>\n",
              "    <tr style=\"text-align: right;\">\n",
              "      <th></th>\n",
              "      <th>preg</th>\n",
              "      <th>plas</th>\n",
              "      <th>pres</th>\n",
              "      <th>skin</th>\n",
              "      <th>insu</th>\n",
              "      <th>mass</th>\n",
              "      <th>pedi</th>\n",
              "      <th>age</th>\n",
              "      <th>class</th>\n",
              "    </tr>\n",
              "  </thead>\n",
              "  <tbody>\n",
              "    <tr>\n",
              "      <th>0</th>\n",
              "      <td>0</td>\n",
              "      <td>129</td>\n",
              "      <td>80</td>\n",
              "      <td>0</td>\n",
              "      <td>0</td>\n",
              "      <td>31.2</td>\n",
              "      <td>0.703</td>\n",
              "      <td>29</td>\n",
              "      <td>0</td>\n",
              "    </tr>\n",
              "    <tr>\n",
              "      <th>1</th>\n",
              "      <td>3</td>\n",
              "      <td>88</td>\n",
              "      <td>58</td>\n",
              "      <td>11</td>\n",
              "      <td>54</td>\n",
              "      <td>24.8</td>\n",
              "      <td>0.267</td>\n",
              "      <td>22</td>\n",
              "      <td>0</td>\n",
              "    </tr>\n",
              "    <tr>\n",
              "      <th>2</th>\n",
              "      <td>7</td>\n",
              "      <td>150</td>\n",
              "      <td>78</td>\n",
              "      <td>29</td>\n",
              "      <td>126</td>\n",
              "      <td>35.2</td>\n",
              "      <td>0.692</td>\n",
              "      <td>54</td>\n",
              "      <td>1</td>\n",
              "    </tr>\n",
              "    <tr>\n",
              "      <th>3</th>\n",
              "      <td>0</td>\n",
              "      <td>134</td>\n",
              "      <td>58</td>\n",
              "      <td>20</td>\n",
              "      <td>291</td>\n",
              "      <td>26.4</td>\n",
              "      <td>0.352</td>\n",
              "      <td>21</td>\n",
              "      <td>0</td>\n",
              "    </tr>\n",
              "    <tr>\n",
              "      <th>4</th>\n",
              "      <td>1</td>\n",
              "      <td>83</td>\n",
              "      <td>68</td>\n",
              "      <td>0</td>\n",
              "      <td>0</td>\n",
              "      <td>18.2</td>\n",
              "      <td>0.624</td>\n",
              "      <td>27</td>\n",
              "      <td>0</td>\n",
              "    </tr>\n",
              "    <tr>\n",
              "      <th>...</th>\n",
              "      <td>...</td>\n",
              "      <td>...</td>\n",
              "      <td>...</td>\n",
              "      <td>...</td>\n",
              "      <td>...</td>\n",
              "      <td>...</td>\n",
              "      <td>...</td>\n",
              "      <td>...</td>\n",
              "      <td>...</td>\n",
              "    </tr>\n",
              "    <tr>\n",
              "      <th>532</th>\n",
              "      <td>0</td>\n",
              "      <td>132</td>\n",
              "      <td>78</td>\n",
              "      <td>0</td>\n",
              "      <td>0</td>\n",
              "      <td>32.4</td>\n",
              "      <td>0.393</td>\n",
              "      <td>21</td>\n",
              "      <td>0</td>\n",
              "    </tr>\n",
              "    <tr>\n",
              "      <th>533</th>\n",
              "      <td>1</td>\n",
              "      <td>119</td>\n",
              "      <td>44</td>\n",
              "      <td>47</td>\n",
              "      <td>63</td>\n",
              "      <td>35.5</td>\n",
              "      <td>0.280</td>\n",
              "      <td>25</td>\n",
              "      <td>0</td>\n",
              "    </tr>\n",
              "    <tr>\n",
              "      <th>534</th>\n",
              "      <td>4</td>\n",
              "      <td>131</td>\n",
              "      <td>68</td>\n",
              "      <td>21</td>\n",
              "      <td>166</td>\n",
              "      <td>33.1</td>\n",
              "      <td>0.160</td>\n",
              "      <td>28</td>\n",
              "      <td>0</td>\n",
              "    </tr>\n",
              "    <tr>\n",
              "      <th>535</th>\n",
              "      <td>2</td>\n",
              "      <td>111</td>\n",
              "      <td>60</td>\n",
              "      <td>0</td>\n",
              "      <td>0</td>\n",
              "      <td>26.2</td>\n",
              "      <td>0.343</td>\n",
              "      <td>23</td>\n",
              "      <td>0</td>\n",
              "    </tr>\n",
              "    <tr>\n",
              "      <th>536</th>\n",
              "      <td>10</td>\n",
              "      <td>125</td>\n",
              "      <td>70</td>\n",
              "      <td>26</td>\n",
              "      <td>115</td>\n",
              "      <td>31.1</td>\n",
              "      <td>0.205</td>\n",
              "      <td>41</td>\n",
              "      <td>1</td>\n",
              "    </tr>\n",
              "  </tbody>\n",
              "</table>\n",
              "<p>537 rows × 9 columns</p>\n",
              "</div>\n",
              "    <div class=\"colab-df-buttons\">\n",
              "\n",
              "  <div class=\"colab-df-container\">\n",
              "    <button class=\"colab-df-convert\" onclick=\"convertToInteractive('df-a321965a-2da6-47fd-b50b-5ae2f279de08')\"\n",
              "            title=\"Convert this dataframe to an interactive table.\"\n",
              "            style=\"display:none;\">\n",
              "\n",
              "  <svg xmlns=\"http://www.w3.org/2000/svg\" height=\"24px\" viewBox=\"0 -960 960 960\">\n",
              "    <path d=\"M120-120v-720h720v720H120Zm60-500h600v-160H180v160Zm220 220h160v-160H400v160Zm0 220h160v-160H400v160ZM180-400h160v-160H180v160Zm440 0h160v-160H620v160ZM180-180h160v-160H180v160Zm440 0h160v-160H620v160Z\"/>\n",
              "  </svg>\n",
              "    </button>\n",
              "\n",
              "  <style>\n",
              "    .colab-df-container {\n",
              "      display:flex;\n",
              "      gap: 12px;\n",
              "    }\n",
              "\n",
              "    .colab-df-convert {\n",
              "      background-color: #E8F0FE;\n",
              "      border: none;\n",
              "      border-radius: 50%;\n",
              "      cursor: pointer;\n",
              "      display: none;\n",
              "      fill: #1967D2;\n",
              "      height: 32px;\n",
              "      padding: 0 0 0 0;\n",
              "      width: 32px;\n",
              "    }\n",
              "\n",
              "    .colab-df-convert:hover {\n",
              "      background-color: #E2EBFA;\n",
              "      box-shadow: 0px 1px 2px rgba(60, 64, 67, 0.3), 0px 1px 3px 1px rgba(60, 64, 67, 0.15);\n",
              "      fill: #174EA6;\n",
              "    }\n",
              "\n",
              "    .colab-df-buttons div {\n",
              "      margin-bottom: 4px;\n",
              "    }\n",
              "\n",
              "    [theme=dark] .colab-df-convert {\n",
              "      background-color: #3B4455;\n",
              "      fill: #D2E3FC;\n",
              "    }\n",
              "\n",
              "    [theme=dark] .colab-df-convert:hover {\n",
              "      background-color: #434B5C;\n",
              "      box-shadow: 0px 1px 3px 1px rgba(0, 0, 0, 0.15);\n",
              "      filter: drop-shadow(0px 1px 2px rgba(0, 0, 0, 0.3));\n",
              "      fill: #FFFFFF;\n",
              "    }\n",
              "  </style>\n",
              "\n",
              "    <script>\n",
              "      const buttonEl =\n",
              "        document.querySelector('#df-a321965a-2da6-47fd-b50b-5ae2f279de08 button.colab-df-convert');\n",
              "      buttonEl.style.display =\n",
              "        google.colab.kernel.accessAllowed ? 'block' : 'none';\n",
              "\n",
              "      async function convertToInteractive(key) {\n",
              "        const element = document.querySelector('#df-a321965a-2da6-47fd-b50b-5ae2f279de08');\n",
              "        const dataTable =\n",
              "          await google.colab.kernel.invokeFunction('convertToInteractive',\n",
              "                                                    [key], {});\n",
              "        if (!dataTable) return;\n",
              "\n",
              "        const docLinkHtml = 'Like what you see? Visit the ' +\n",
              "          '<a target=\"_blank\" href=https://colab.research.google.com/notebooks/data_table.ipynb>data table notebook</a>'\n",
              "          + ' to learn more about interactive tables.';\n",
              "        element.innerHTML = '';\n",
              "        dataTable['output_type'] = 'display_data';\n",
              "        await google.colab.output.renderOutput(dataTable, element);\n",
              "        const docLink = document.createElement('div');\n",
              "        docLink.innerHTML = docLinkHtml;\n",
              "        element.appendChild(docLink);\n",
              "      }\n",
              "    </script>\n",
              "  </div>\n",
              "\n",
              "\n",
              "    <div id=\"df-24c51511-2995-44db-a837-981a6f9a0894\">\n",
              "      <button class=\"colab-df-quickchart\" onclick=\"quickchart('df-24c51511-2995-44db-a837-981a6f9a0894')\"\n",
              "                title=\"Suggest charts\"\n",
              "                style=\"display:none;\">\n",
              "\n",
              "<svg xmlns=\"http://www.w3.org/2000/svg\" height=\"24px\"viewBox=\"0 0 24 24\"\n",
              "     width=\"24px\">\n",
              "    <g>\n",
              "        <path d=\"M19 3H5c-1.1 0-2 .9-2 2v14c0 1.1.9 2 2 2h14c1.1 0 2-.9 2-2V5c0-1.1-.9-2-2-2zM9 17H7v-7h2v7zm4 0h-2V7h2v10zm4 0h-2v-4h2v4z\"/>\n",
              "    </g>\n",
              "</svg>\n",
              "      </button>\n",
              "\n",
              "<style>\n",
              "  .colab-df-quickchart {\n",
              "      --bg-color: #E8F0FE;\n",
              "      --fill-color: #1967D2;\n",
              "      --hover-bg-color: #E2EBFA;\n",
              "      --hover-fill-color: #174EA6;\n",
              "      --disabled-fill-color: #AAA;\n",
              "      --disabled-bg-color: #DDD;\n",
              "  }\n",
              "\n",
              "  [theme=dark] .colab-df-quickchart {\n",
              "      --bg-color: #3B4455;\n",
              "      --fill-color: #D2E3FC;\n",
              "      --hover-bg-color: #434B5C;\n",
              "      --hover-fill-color: #FFFFFF;\n",
              "      --disabled-bg-color: #3B4455;\n",
              "      --disabled-fill-color: #666;\n",
              "  }\n",
              "\n",
              "  .colab-df-quickchart {\n",
              "    background-color: var(--bg-color);\n",
              "    border: none;\n",
              "    border-radius: 50%;\n",
              "    cursor: pointer;\n",
              "    display: none;\n",
              "    fill: var(--fill-color);\n",
              "    height: 32px;\n",
              "    padding: 0;\n",
              "    width: 32px;\n",
              "  }\n",
              "\n",
              "  .colab-df-quickchart:hover {\n",
              "    background-color: var(--hover-bg-color);\n",
              "    box-shadow: 0 1px 2px rgba(60, 64, 67, 0.3), 0 1px 3px 1px rgba(60, 64, 67, 0.15);\n",
              "    fill: var(--button-hover-fill-color);\n",
              "  }\n",
              "\n",
              "  .colab-df-quickchart-complete:disabled,\n",
              "  .colab-df-quickchart-complete:disabled:hover {\n",
              "    background-color: var(--disabled-bg-color);\n",
              "    fill: var(--disabled-fill-color);\n",
              "    box-shadow: none;\n",
              "  }\n",
              "\n",
              "  .colab-df-spinner {\n",
              "    border: 2px solid var(--fill-color);\n",
              "    border-color: transparent;\n",
              "    border-bottom-color: var(--fill-color);\n",
              "    animation:\n",
              "      spin 1s steps(1) infinite;\n",
              "  }\n",
              "\n",
              "  @keyframes spin {\n",
              "    0% {\n",
              "      border-color: transparent;\n",
              "      border-bottom-color: var(--fill-color);\n",
              "      border-left-color: var(--fill-color);\n",
              "    }\n",
              "    20% {\n",
              "      border-color: transparent;\n",
              "      border-left-color: var(--fill-color);\n",
              "      border-top-color: var(--fill-color);\n",
              "    }\n",
              "    30% {\n",
              "      border-color: transparent;\n",
              "      border-left-color: var(--fill-color);\n",
              "      border-top-color: var(--fill-color);\n",
              "      border-right-color: var(--fill-color);\n",
              "    }\n",
              "    40% {\n",
              "      border-color: transparent;\n",
              "      border-right-color: var(--fill-color);\n",
              "      border-top-color: var(--fill-color);\n",
              "    }\n",
              "    60% {\n",
              "      border-color: transparent;\n",
              "      border-right-color: var(--fill-color);\n",
              "    }\n",
              "    80% {\n",
              "      border-color: transparent;\n",
              "      border-right-color: var(--fill-color);\n",
              "      border-bottom-color: var(--fill-color);\n",
              "    }\n",
              "    90% {\n",
              "      border-color: transparent;\n",
              "      border-bottom-color: var(--fill-color);\n",
              "    }\n",
              "  }\n",
              "</style>\n",
              "\n",
              "      <script>\n",
              "        async function quickchart(key) {\n",
              "          const quickchartButtonEl =\n",
              "            document.querySelector('#' + key + ' button');\n",
              "          quickchartButtonEl.disabled = true;  // To prevent multiple clicks.\n",
              "          quickchartButtonEl.classList.add('colab-df-spinner');\n",
              "          try {\n",
              "            const charts = await google.colab.kernel.invokeFunction(\n",
              "                'suggestCharts', [key], {});\n",
              "          } catch (error) {\n",
              "            console.error('Error during call to suggestCharts:', error);\n",
              "          }\n",
              "          quickchartButtonEl.classList.remove('colab-df-spinner');\n",
              "          quickchartButtonEl.classList.add('colab-df-quickchart-complete');\n",
              "        }\n",
              "        (() => {\n",
              "          let quickchartButtonEl =\n",
              "            document.querySelector('#df-24c51511-2995-44db-a837-981a6f9a0894 button');\n",
              "          quickchartButtonEl.style.display =\n",
              "            google.colab.kernel.accessAllowed ? 'block' : 'none';\n",
              "        })();\n",
              "      </script>\n",
              "    </div>\n",
              "\n",
              "  <div id=\"id_db548299-b806-4174-b4cd-3061d19a6ffd\">\n",
              "    <style>\n",
              "      .colab-df-generate {\n",
              "        background-color: #E8F0FE;\n",
              "        border: none;\n",
              "        border-radius: 50%;\n",
              "        cursor: pointer;\n",
              "        display: none;\n",
              "        fill: #1967D2;\n",
              "        height: 32px;\n",
              "        padding: 0 0 0 0;\n",
              "        width: 32px;\n",
              "      }\n",
              "\n",
              "      .colab-df-generate:hover {\n",
              "        background-color: #E2EBFA;\n",
              "        box-shadow: 0px 1px 2px rgba(60, 64, 67, 0.3), 0px 1px 3px 1px rgba(60, 64, 67, 0.15);\n",
              "        fill: #174EA6;\n",
              "      }\n",
              "\n",
              "      [theme=dark] .colab-df-generate {\n",
              "        background-color: #3B4455;\n",
              "        fill: #D2E3FC;\n",
              "      }\n",
              "\n",
              "      [theme=dark] .colab-df-generate:hover {\n",
              "        background-color: #434B5C;\n",
              "        box-shadow: 0px 1px 3px 1px rgba(0, 0, 0, 0.15);\n",
              "        filter: drop-shadow(0px 1px 2px rgba(0, 0, 0, 0.3));\n",
              "        fill: #FFFFFF;\n",
              "      }\n",
              "    </style>\n",
              "    <button class=\"colab-df-generate\" onclick=\"generateWithVariable('rd')\"\n",
              "            title=\"Generate code using this dataframe.\"\n",
              "            style=\"display:none;\">\n",
              "\n",
              "  <svg xmlns=\"http://www.w3.org/2000/svg\" height=\"24px\"viewBox=\"0 0 24 24\"\n",
              "       width=\"24px\">\n",
              "    <path d=\"M7,19H8.4L18.45,9,17,7.55,7,17.6ZM5,21V16.75L18.45,3.32a2,2,0,0,1,2.83,0l1.4,1.43a1.91,1.91,0,0,1,.58,1.4,1.91,1.91,0,0,1-.58,1.4L9.25,21ZM18.45,9,17,7.55Zm-12,3A5.31,5.31,0,0,0,4.9,8.1,5.31,5.31,0,0,0,1,6.5,5.31,5.31,0,0,0,4.9,4.9,5.31,5.31,0,0,0,6.5,1,5.31,5.31,0,0,0,8.1,4.9,5.31,5.31,0,0,0,12,6.5,5.46,5.46,0,0,0,6.5,12Z\"/>\n",
              "  </svg>\n",
              "    </button>\n",
              "    <script>\n",
              "      (() => {\n",
              "      const buttonEl =\n",
              "        document.querySelector('#id_db548299-b806-4174-b4cd-3061d19a6ffd button.colab-df-generate');\n",
              "      buttonEl.style.display =\n",
              "        google.colab.kernel.accessAllowed ? 'block' : 'none';\n",
              "\n",
              "      buttonEl.onclick = () => {\n",
              "        google.colab.notebook.generateWithVariable('rd');\n",
              "      }\n",
              "      })();\n",
              "    </script>\n",
              "  </div>\n",
              "\n",
              "    </div>\n",
              "  </div>\n"
            ],
            "application/vnd.google.colaboratory.intrinsic+json": {
              "type": "dataframe",
              "variable_name": "rd",
              "summary": "{\n  \"name\": \"rd\",\n  \"rows\": 537,\n  \"fields\": [\n    {\n      \"column\": \"preg\",\n      \"properties\": {\n        \"dtype\": \"number\",\n        \"std\": 3,\n        \"min\": 0,\n        \"max\": 17,\n        \"num_unique_values\": 16,\n        \"samples\": [\n          0,\n          3,\n          12\n        ],\n        \"semantic_type\": \"\",\n        \"description\": \"\"\n      }\n    },\n    {\n      \"column\": \"plas\",\n      \"properties\": {\n        \"dtype\": \"number\",\n        \"std\": 32,\n        \"min\": 0,\n        \"max\": 197,\n        \"num_unique_values\": 125,\n        \"samples\": [\n          125,\n          158,\n          144\n        ],\n        \"semantic_type\": \"\",\n        \"description\": \"\"\n      }\n    },\n    {\n      \"column\": \"pres\",\n      \"properties\": {\n        \"dtype\": \"number\",\n        \"std\": 21,\n        \"min\": 0,\n        \"max\": 122,\n        \"num_unique_values\": 45,\n        \"samples\": [\n          98,\n          54,\n          24\n        ],\n        \"semantic_type\": \"\",\n        \"description\": \"\"\n      }\n    },\n    {\n      \"column\": \"skin\",\n      \"properties\": {\n        \"dtype\": \"number\",\n        \"std\": 16,\n        \"min\": 0,\n        \"max\": 99,\n        \"num_unique_values\": 49,\n        \"samples\": [\n          33,\n          31,\n          52\n        ],\n        \"semantic_type\": \"\",\n        \"description\": \"\"\n      }\n    },\n    {\n      \"column\": \"insu\",\n      \"properties\": {\n        \"dtype\": \"number\",\n        \"std\": 113,\n        \"min\": 0,\n        \"max\": 846,\n        \"num_unique_values\": 156,\n        \"samples\": [\n          146,\n          116,\n          48\n        ],\n        \"semantic_type\": \"\",\n        \"description\": \"\"\n      }\n    },\n    {\n      \"column\": \"mass\",\n      \"properties\": {\n        \"dtype\": \"number\",\n        \"std\": 8.323986247399043,\n        \"min\": 0.0,\n        \"max\": 67.1,\n        \"num_unique_values\": 221,\n        \"samples\": [\n          23.7,\n          32.3,\n          43.4\n        ],\n        \"semantic_type\": \"\",\n        \"description\": \"\"\n      }\n    },\n    {\n      \"column\": \"pedi\",\n      \"properties\": {\n        \"dtype\": \"number\",\n        \"std\": 0.3280807594272428,\n        \"min\": 0.078,\n        \"max\": 2.42,\n        \"num_unique_values\": 404,\n        \"samples\": [\n          0.498,\n          0.612,\n          0.108\n        ],\n        \"semantic_type\": \"\",\n        \"description\": \"\"\n      }\n    },\n    {\n      \"column\": \"age\",\n      \"properties\": {\n        \"dtype\": \"number\",\n        \"std\": 11,\n        \"min\": 21,\n        \"max\": 81,\n        \"num_unique_values\": 50,\n        \"samples\": [\n          47,\n          51,\n          60\n        ],\n        \"semantic_type\": \"\",\n        \"description\": \"\"\n      }\n    },\n    {\n      \"column\": \"class\",\n      \"properties\": {\n        \"dtype\": \"number\",\n        \"std\": 0,\n        \"min\": 0,\n        \"max\": 1,\n        \"num_unique_values\": 2,\n        \"samples\": [\n          1,\n          0\n        ],\n        \"semantic_type\": \"\",\n        \"description\": \"\"\n      }\n    }\n  ]\n}"
            }
          },
          "metadata": {},
          "execution_count": 5
        }
      ]
    },
    {
      "cell_type": "markdown",
      "source": [
        "## 종속 변수 확인"
      ],
      "metadata": {
        "id": "fqHTYv8xZA3r"
      }
    },
    {
      "cell_type": "code",
      "source": [
        "##  'class' 변수 범주형으로 변경\n",
        "rd['class'] = rd['class'].astype('category')\n"
      ],
      "metadata": {
        "id": "bruVmmjv79oO"
      },
      "execution_count": 6,
      "outputs": []
    },
    {
      "cell_type": "code",
      "source": [
        "## Logistic regression model\n",
        "X = rd.drop(columns=['class'])\n",
        "\n",
        "X = sm.add_constant(X)  # 상수항을 모델에 넣어줘야 함 Adds a constant term to the predictor!!\n",
        "\n",
        "y = rd['class']"
      ],
      "metadata": {
        "id": "okvNniPP8Fjh"
      },
      "execution_count": 7,
      "outputs": []
    },
    {
      "cell_type": "markdown",
      "source": [
        "## 로지스틱 모델 적합"
      ],
      "metadata": {
        "id": "PJFwEcoJZI75"
      }
    },
    {
      "cell_type": "markdown",
      "source": [
        "### 모델 적합"
      ],
      "metadata": {
        "id": "DCWnn_9Dcc9U"
      }
    },
    {
      "cell_type": "code",
      "source": [
        "## statsmodels 사용!!\n",
        "model_sm = sm.Logit(exog = X, # 독립변수\n",
        "                                             endog = y,) # 종속변수\n",
        "result_sm = model_sm.fit()\n",
        "\n",
        "# Summary of the model\n",
        "print(result_sm.summary())\n"
      ],
      "metadata": {
        "colab": {
          "base_uri": "https://localhost:8080/"
        },
        "id": "PukJPVH78Il6",
        "outputId": "7edf1b50-88b8-41df-ac28-291f55e42122"
      },
      "execution_count": 8,
      "outputs": [
        {
          "output_type": "stream",
          "name": "stdout",
          "text": [
            "Optimization terminated successfully.\n",
            "         Current function value: 0.479288\n",
            "         Iterations 6\n",
            "                           Logit Regression Results                           \n",
            "==============================================================================\n",
            "Dep. Variable:                  class   No. Observations:                  537\n",
            "Model:                          Logit   Df Residuals:                      528\n",
            "Method:                           MLE   Df Model:                            8\n",
            "Date:                Tue, 24 Jun 2025   Pseudo R-squ.:                  0.2529\n",
            "Time:                        06:59:45   Log-Likelihood:                -257.38\n",
            "converged:                       True   LL-Null:                       -344.51\n",
            "Covariance Type:            nonrobust   LLR p-value:                 1.639e-33\n",
            "==============================================================================\n",
            "                 coef    std err          z      P>|z|      [0.025      0.975]\n",
            "------------------------------------------------------------------------------\n",
            "const         -8.0064      0.822     -9.737      0.000      -9.618      -6.395\n",
            "preg           0.1108      0.037      2.954      0.003       0.037       0.184\n",
            "plas           0.0310      0.004      7.447      0.000       0.023       0.039\n",
            "pres          -0.0149      0.006     -2.622      0.009      -0.026      -0.004\n",
            "skin          -0.0007      0.008     -0.092      0.927      -0.017       0.015\n",
            "insu          -0.0017      0.001     -1.629      0.103      -0.004       0.000\n",
            "mass           0.1008      0.017      5.762      0.000       0.067       0.135\n",
            "pedi           0.9019      0.355      2.544      0.011       0.207       1.597\n",
            "age            0.0138      0.011      1.259      0.208      -0.008       0.035\n",
            "==============================================================================\n"
          ]
        }
      ]
    },
    {
      "cell_type": "markdown",
      "source": [
        "### 결과 해석1\n",
        "- overview:\n",
        "  - 로지스틱 회귀 모델의 경우, R2 및 (adjusted R2)는 일반적으로 사용X\n",
        "  -  R2 및 adj R2 는 주로 선형 회귀 모델에서 사용\n",
        "  -  로지스틱 회귀 모델에서는 대안적인 적합도 평가 지표를 사용(로그-유사도(log-likelihood) 및 pseudo R2)\n",
        "  - 로지스틱에서는 **주로 새로운(테스트) 데이터에 대한 정확도**로 모델 평가\n",
        "  \n",
        "\n",
        "- 모델 적합도\n",
        "  - Pseudo R-squared: 0.2529 - 모델이 종속 변수 변동의 약 25.29%를 설명\n",
        "  - Log-Likelihood: -257.38 - 로그 가능도 값은 모델의 적합도를 나타냄\n",
        "  - LL-Null: -344.51 - 기본 모델의 로그 가능도 값임\n",
        "  - LLR p-value: 1.639e-33 - 모델의 유의성, 매우 작은 값이므로 모델이 유의미함\n",
        "- 변수별 회귀 계수 및 유의성\n",
        "  - const (절편): -8.0064 - 절편의 p-value가 0.000으로 매우 유의미\n",
        "  - preg (임신 횟수): 0.1108 - p-value가 0.003으로 유의미하며, 임신 횟수가 증가할수록 당뇨병 발생 확률이 증가\n",
        "  - plas (혈장 포도당 농도): 0.0310 - p-value가 0.000으로 매우 유의미하며, 혈장 포도당 농도가 증가할수록 당뇨병 발생 확률이 증가\n",
        "  - pres (혈압): -0.0149 - p-value가 0.009로 유의미하며, 혈압이 증가할수록 당뇨병 발생 확률이 감소\n",
        "  - skin (피부 두께): -0.0007 - p-value가 0.927로 유의미하지 않음\n",
        "  - insu (인슐린 농도): -0.0017 - p-value가 0.103으로 유의미하지 않음\n",
        "  - mass (체질량 지수): 0.1008 - p-value가 0.000으로 매우 유의미하며, 체질량 지수가 증가할수록 당뇨병 발생 확률이 증가\n",
        "  - pedi (당뇨병 계통 기능): 0.9019 - p-value가 0.011로 유의미하며, 당뇨병 계통 기능 값이 높을수록 당뇨병 발생 확률이 증가\n",
        "  - age (나이): 0.0138 - p-value가 0.208로 유의미하지 않음\n",
        "- 요약\n",
        "  - 혈장 포도당 농도, 임신 횟수, 혈압, 체질량 지수, 당뇨병 계통 기능 등이 중요한 요인\n",
        "  - 피부 두께, 인슐린 농도, 나이는 유의미하지 않은 변수로 추정됨"
      ],
      "metadata": {
        "id": "xwvpwX3PZplC"
      }
    },
    {
      "cell_type": "markdown",
      "source": [
        "### 결과 해석2\n",
        "- 모델이 전체 변동을 많이 설명못하지만..모델 자체는 유의미 한 경우\n",
        "  - 1. 변수가 유의미할 때\n",
        "    - 모델의 개별 독립 변수들이 통계적으로 유의미한 경우, 모델 전체의 설명력이 낮더라도 중요한 통찰을 제공할 수 있음.\n",
        "    - 예:특정 변수들이 종속 변수와 강한 관계가 있음을 나타내는 경우임\n",
        "  - 2. 모델의 유의성 테스트 (LLR p-value)가 매우 낮을 때(LLR: 로그 우도 레시오)\n",
        "    - 모델의 로그 가능도 비율 테스트(LLR p-value)가 매우 낮아 모델이 유의미함을 나타내는 경우, 설명력이 낮더라도 모델이 종속 변수와 독립 변수 간의 관계를 의미 있게 설명하고 있다고 판단할 수도 있음..\n",
        "  - 3. 변동의 일부만 설명해도 실용적일 때\n",
        "    - 설명력이 낮더라도 실제 응용에서 유용할 수도 있음  \n",
        "    - 예) 의료 진단에서 특정 위험 요인을 식별하여 환자를 모니터링하거나 조기 경고 시스템을 만드는 데 사용할 수 있음.   \n",
        "    - 설명력이 낮더라도 중요한 인사이트를 제공해 의사결정에 도움을 줄 수 있음\n",
        "  - 4. 다른 모델과 비교할 때 유의미할 때\n",
        "    - 다른 모델들과 비교했을 때 상대적으로 더 나은 성능을 보일 때, 설명력이 낮더라도 유의미하다고 할 수 있음\n",
        "    - 예시:) 다른 모델들보다 더 높은 설명력이나 더 좋은 예측 성능을 보일 수 있음\n",
        "  - 5. 데이터의 특성\n",
        "    - 사회과학, 경제학, 심리학 등의 연구에서는 설명력이 낮아도 유의미한 결과로 간주될 수 있음\n",
        "    - 많은 외부 요인들이 영향을 미치는 분야에 따라서는 R2 값이 상대적으로 낮게 나올 수도 있음\n",
        "    - 이때 변수 간의 관계가 유의미하다면 중요한 발견으로 여겨질 수 있음"
      ],
      "metadata": {
        "id": "Uek6PouSbm8B"
      }
    },
    {
      "cell_type": "markdown",
      "source": [
        "### 회귀식 만들기"
      ],
      "metadata": {
        "id": "JFMnqRkpjiko"
      }
    },
    {
      "cell_type": "code",
      "source": [
        "## 회귀식 만들기\n",
        "coefficients = result_sm.params\n",
        "\n",
        "# 회귀식 생성\n",
        "logit_equation = f\"log(p / (1 - p)) = {coefficients.iloc[0]:.4f}\"\n",
        "for i in range(1, len(coefficients)):\n",
        "    logit_equation += f\" + ({coefficients.iloc[i]:.4f} * {X.columns[i]})\"\n",
        "\n",
        "print(\"\\nLogistic Regression Equation:\")\n",
        "print(logit_equation)"
      ],
      "metadata": {
        "colab": {
          "base_uri": "https://localhost:8080/"
        },
        "id": "4MH8wX2ijFg4",
        "outputId": "7f02baa7-7a2d-407b-be8b-49af6ee8ccde"
      },
      "execution_count": 9,
      "outputs": [
        {
          "output_type": "stream",
          "name": "stdout",
          "text": [
            "\n",
            "Logistic Regression Equation:\n",
            "log(p / (1 - p)) = -8.0064 + (0.1108 * preg) + (0.0310 * plas) + (-0.0149 * pres) + (-0.0007 * skin) + (-0.0017 * insu) + (0.1008 * mass) + (0.9019 * pedi) + (0.0138 * age)\n"
          ]
        }
      ]
    },
    {
      "cell_type": "code",
      "source": [
        "## 오즈 비 계산\n",
        "# Odds Ratios\n",
        "odds_ratios = np.exp(result_sm.params)\n",
        "print(\"Odds Ratios:\\n\",\n",
        "      odds_ratios,\n",
        "      sep = '') # 첫줄 space 방지..\n",
        "\n"
      ],
      "metadata": {
        "colab": {
          "base_uri": "https://localhost:8080/"
        },
        "id": "YFcWNR9yZPZf",
        "outputId": "7180052f-cf08-4e3a-f4b4-28b329bf5231"
      },
      "execution_count": 10,
      "outputs": [
        {
          "output_type": "stream",
          "name": "stdout",
          "text": [
            "Odds Ratios:\n",
            "const    0.000333\n",
            "preg     1.117129\n",
            "plas     1.031520\n",
            "pres     0.985243\n",
            "skin     0.999257\n",
            "insu     0.998274\n",
            "mass     1.106045\n",
            "pedi     2.464335\n",
            "age      1.013884\n",
            "dtype: float64\n"
          ]
        }
      ]
    },
    {
      "cell_type": "markdown",
      "source": [
        "#### 변수 선택법 적용\n"
      ],
      "metadata": {
        "id": "hYRqytzBdSgP"
      }
    },
    {
      "cell_type": "code",
      "source": [
        "## sklearn 사용, statsmodels도 사용은 가능\n",
        "log_reg = LogisticRegression(max_iter=10000, solver='liblinear')\n",
        "\n",
        "## 전진 선택법 적용\n",
        "sfs = SFS(log_reg,\n",
        "          k_features = 'best',\n",
        "          forward = True,\n",
        "          floating = False, ## True 이면 각 단계에서 변수를 추가하거나 제거할 때, 이전에 선택/제거된 변수들도 재고려한다는 의미\n",
        "          scoring =  'r2',\n",
        "          cv = 0, # cv > 1 이면, 여러번 반복해서 더 정확하게 추정 가능 보통 5, 10 사용\n",
        "          verbose = 2)\n",
        "\n",
        "sfs = sfs.fit(X, y)\n",
        "\n",
        "\n",
        "## 선택된 변수들\n",
        "selected_features = list(sfs.k_feature_names_)\n",
        "selected_features"
      ],
      "metadata": {
        "colab": {
          "base_uri": "https://localhost:8080/"
        },
        "id": "Zj4ftuRVZOlI",
        "outputId": "6dbd0e91-491c-483b-8bd3-f571b0c841c5"
      },
      "execution_count": 11,
      "outputs": [
        {
          "output_type": "stream",
          "name": "stderr",
          "text": [
            "[Parallel(n_jobs=1)]: Done   9 out of   9 | elapsed:    0.1s finished\n",
            "\n",
            "[2025-06-24 06:59:45] Features: 1/9 -- score: -0.1605075483930718[Parallel(n_jobs=1)]: Done   8 out of   8 | elapsed:    0.0s finished\n",
            "\n",
            "[2025-06-24 06:59:46] Features: 2/9 -- score: -0.07761415207928102[Parallel(n_jobs=1)]: Done   7 out of   7 | elapsed:    0.1s finished\n",
            "\n",
            "[2025-06-24 06:59:46] Features: 3/9 -- score: -0.011299435028248261[Parallel(n_jobs=1)]: Done   6 out of   6 | elapsed:    0.0s finished\n",
            "\n",
            "[2025-06-24 06:59:46] Features: 4/9 -- score: -0.027878114291006506[Parallel(n_jobs=1)]: Done   5 out of   5 | elapsed:    0.1s finished\n",
            "\n",
            "[2025-06-24 06:59:46] Features: 5/9 -- score: -0.011299435028248261[Parallel(n_jobs=1)]: Done   4 out of   4 | elapsed:    0.1s finished\n",
            "\n",
            "[2025-06-24 06:59:46] Features: 6/9 -- score: 0.005279244234509872[Parallel(n_jobs=1)]: Done   3 out of   3 | elapsed:    0.0s finished\n",
            "\n",
            "[2025-06-24 06:59:46] Features: 7/9 -- score: -0.019588774659627273[Parallel(n_jobs=1)]: Done   2 out of   2 | elapsed:    0.0s finished\n",
            "\n",
            "[2025-06-24 06:59:46] Features: 8/9 -- score: -0.027878114291006506[Parallel(n_jobs=1)]: Done   1 out of   1 | elapsed:    0.0s finished\n",
            "\n",
            "[2025-06-24 06:59:46] Features: 9/9 -- score: -0.05274613318514376"
          ]
        },
        {
          "output_type": "execute_result",
          "data": {
            "text/plain": [
              "['const', 'plas', 'pres', 'skin', 'mass', 'pedi']"
            ]
          },
          "metadata": {},
          "execution_count": 11
        }
      ]
    },
    {
      "cell_type": "code",
      "source": [
        "## 변수 선택법 적용시 회귀계수 확인\n",
        "X_selected = X[selected_features]\n",
        "final_model_lr = LogisticRegression(max_iter=10000,\n",
        "                                 solver='liblinear')\n",
        "final_model_lr.fit(X_selected, y)\n",
        "\n",
        "\n",
        "## 회귀 계수와 변수명 정리\n",
        "coefficients = final_model_lr.coef_[0]  # 로지스틱 회귀는 다중 클래스가 아닌 경우 하나의 계수 배열을 반환\n",
        "intercept = final_model_lr.intercept_[0]\n",
        "\n",
        "## 데이터프레임으로 정리\n",
        "coef_df = pd.DataFrame({\n",
        "    'Feature': selected_features,\n",
        "    'Coefficient': coefficients\n",
        "})\n",
        "\n",
        "coef_df\n",
        "\n"
      ],
      "metadata": {
        "colab": {
          "base_uri": "https://localhost:8080/",
          "height": 238
        },
        "id": "wMIdO4KbgRM9",
        "outputId": "9bf54c60-a7be-47ef-9a10-bd686e2b741e"
      },
      "execution_count": 12,
      "outputs": [
        {
          "output_type": "execute_result",
          "data": {
            "text/plain": [
              "  Feature  Coefficient\n",
              "0   const    -2.839996\n",
              "1    plas     0.026096\n",
              "2    pres    -0.012162\n",
              "3    skin    -0.007711\n",
              "4    mass     0.076225\n",
              "5    pedi     0.644515"
            ],
            "text/html": [
              "\n",
              "  <div id=\"df-e7cc1cff-e9e7-42b2-855e-af572e07b0b1\" class=\"colab-df-container\">\n",
              "    <div>\n",
              "<style scoped>\n",
              "    .dataframe tbody tr th:only-of-type {\n",
              "        vertical-align: middle;\n",
              "    }\n",
              "\n",
              "    .dataframe tbody tr th {\n",
              "        vertical-align: top;\n",
              "    }\n",
              "\n",
              "    .dataframe thead th {\n",
              "        text-align: right;\n",
              "    }\n",
              "</style>\n",
              "<table border=\"1\" class=\"dataframe\">\n",
              "  <thead>\n",
              "    <tr style=\"text-align: right;\">\n",
              "      <th></th>\n",
              "      <th>Feature</th>\n",
              "      <th>Coefficient</th>\n",
              "    </tr>\n",
              "  </thead>\n",
              "  <tbody>\n",
              "    <tr>\n",
              "      <th>0</th>\n",
              "      <td>const</td>\n",
              "      <td>-2.839996</td>\n",
              "    </tr>\n",
              "    <tr>\n",
              "      <th>1</th>\n",
              "      <td>plas</td>\n",
              "      <td>0.026096</td>\n",
              "    </tr>\n",
              "    <tr>\n",
              "      <th>2</th>\n",
              "      <td>pres</td>\n",
              "      <td>-0.012162</td>\n",
              "    </tr>\n",
              "    <tr>\n",
              "      <th>3</th>\n",
              "      <td>skin</td>\n",
              "      <td>-0.007711</td>\n",
              "    </tr>\n",
              "    <tr>\n",
              "      <th>4</th>\n",
              "      <td>mass</td>\n",
              "      <td>0.076225</td>\n",
              "    </tr>\n",
              "    <tr>\n",
              "      <th>5</th>\n",
              "      <td>pedi</td>\n",
              "      <td>0.644515</td>\n",
              "    </tr>\n",
              "  </tbody>\n",
              "</table>\n",
              "</div>\n",
              "    <div class=\"colab-df-buttons\">\n",
              "\n",
              "  <div class=\"colab-df-container\">\n",
              "    <button class=\"colab-df-convert\" onclick=\"convertToInteractive('df-e7cc1cff-e9e7-42b2-855e-af572e07b0b1')\"\n",
              "            title=\"Convert this dataframe to an interactive table.\"\n",
              "            style=\"display:none;\">\n",
              "\n",
              "  <svg xmlns=\"http://www.w3.org/2000/svg\" height=\"24px\" viewBox=\"0 -960 960 960\">\n",
              "    <path d=\"M120-120v-720h720v720H120Zm60-500h600v-160H180v160Zm220 220h160v-160H400v160Zm0 220h160v-160H400v160ZM180-400h160v-160H180v160Zm440 0h160v-160H620v160ZM180-180h160v-160H180v160Zm440 0h160v-160H620v160Z\"/>\n",
              "  </svg>\n",
              "    </button>\n",
              "\n",
              "  <style>\n",
              "    .colab-df-container {\n",
              "      display:flex;\n",
              "      gap: 12px;\n",
              "    }\n",
              "\n",
              "    .colab-df-convert {\n",
              "      background-color: #E8F0FE;\n",
              "      border: none;\n",
              "      border-radius: 50%;\n",
              "      cursor: pointer;\n",
              "      display: none;\n",
              "      fill: #1967D2;\n",
              "      height: 32px;\n",
              "      padding: 0 0 0 0;\n",
              "      width: 32px;\n",
              "    }\n",
              "\n",
              "    .colab-df-convert:hover {\n",
              "      background-color: #E2EBFA;\n",
              "      box-shadow: 0px 1px 2px rgba(60, 64, 67, 0.3), 0px 1px 3px 1px rgba(60, 64, 67, 0.15);\n",
              "      fill: #174EA6;\n",
              "    }\n",
              "\n",
              "    .colab-df-buttons div {\n",
              "      margin-bottom: 4px;\n",
              "    }\n",
              "\n",
              "    [theme=dark] .colab-df-convert {\n",
              "      background-color: #3B4455;\n",
              "      fill: #D2E3FC;\n",
              "    }\n",
              "\n",
              "    [theme=dark] .colab-df-convert:hover {\n",
              "      background-color: #434B5C;\n",
              "      box-shadow: 0px 1px 3px 1px rgba(0, 0, 0, 0.15);\n",
              "      filter: drop-shadow(0px 1px 2px rgba(0, 0, 0, 0.3));\n",
              "      fill: #FFFFFF;\n",
              "    }\n",
              "  </style>\n",
              "\n",
              "    <script>\n",
              "      const buttonEl =\n",
              "        document.querySelector('#df-e7cc1cff-e9e7-42b2-855e-af572e07b0b1 button.colab-df-convert');\n",
              "      buttonEl.style.display =\n",
              "        google.colab.kernel.accessAllowed ? 'block' : 'none';\n",
              "\n",
              "      async function convertToInteractive(key) {\n",
              "        const element = document.querySelector('#df-e7cc1cff-e9e7-42b2-855e-af572e07b0b1');\n",
              "        const dataTable =\n",
              "          await google.colab.kernel.invokeFunction('convertToInteractive',\n",
              "                                                    [key], {});\n",
              "        if (!dataTable) return;\n",
              "\n",
              "        const docLinkHtml = 'Like what you see? Visit the ' +\n",
              "          '<a target=\"_blank\" href=https://colab.research.google.com/notebooks/data_table.ipynb>data table notebook</a>'\n",
              "          + ' to learn more about interactive tables.';\n",
              "        element.innerHTML = '';\n",
              "        dataTable['output_type'] = 'display_data';\n",
              "        await google.colab.output.renderOutput(dataTable, element);\n",
              "        const docLink = document.createElement('div');\n",
              "        docLink.innerHTML = docLinkHtml;\n",
              "        element.appendChild(docLink);\n",
              "      }\n",
              "    </script>\n",
              "  </div>\n",
              "\n",
              "\n",
              "    <div id=\"df-5075f620-7a6e-4380-955a-fd0c73ac674f\">\n",
              "      <button class=\"colab-df-quickchart\" onclick=\"quickchart('df-5075f620-7a6e-4380-955a-fd0c73ac674f')\"\n",
              "                title=\"Suggest charts\"\n",
              "                style=\"display:none;\">\n",
              "\n",
              "<svg xmlns=\"http://www.w3.org/2000/svg\" height=\"24px\"viewBox=\"0 0 24 24\"\n",
              "     width=\"24px\">\n",
              "    <g>\n",
              "        <path d=\"M19 3H5c-1.1 0-2 .9-2 2v14c0 1.1.9 2 2 2h14c1.1 0 2-.9 2-2V5c0-1.1-.9-2-2-2zM9 17H7v-7h2v7zm4 0h-2V7h2v10zm4 0h-2v-4h2v4z\"/>\n",
              "    </g>\n",
              "</svg>\n",
              "      </button>\n",
              "\n",
              "<style>\n",
              "  .colab-df-quickchart {\n",
              "      --bg-color: #E8F0FE;\n",
              "      --fill-color: #1967D2;\n",
              "      --hover-bg-color: #E2EBFA;\n",
              "      --hover-fill-color: #174EA6;\n",
              "      --disabled-fill-color: #AAA;\n",
              "      --disabled-bg-color: #DDD;\n",
              "  }\n",
              "\n",
              "  [theme=dark] .colab-df-quickchart {\n",
              "      --bg-color: #3B4455;\n",
              "      --fill-color: #D2E3FC;\n",
              "      --hover-bg-color: #434B5C;\n",
              "      --hover-fill-color: #FFFFFF;\n",
              "      --disabled-bg-color: #3B4455;\n",
              "      --disabled-fill-color: #666;\n",
              "  }\n",
              "\n",
              "  .colab-df-quickchart {\n",
              "    background-color: var(--bg-color);\n",
              "    border: none;\n",
              "    border-radius: 50%;\n",
              "    cursor: pointer;\n",
              "    display: none;\n",
              "    fill: var(--fill-color);\n",
              "    height: 32px;\n",
              "    padding: 0;\n",
              "    width: 32px;\n",
              "  }\n",
              "\n",
              "  .colab-df-quickchart:hover {\n",
              "    background-color: var(--hover-bg-color);\n",
              "    box-shadow: 0 1px 2px rgba(60, 64, 67, 0.3), 0 1px 3px 1px rgba(60, 64, 67, 0.15);\n",
              "    fill: var(--button-hover-fill-color);\n",
              "  }\n",
              "\n",
              "  .colab-df-quickchart-complete:disabled,\n",
              "  .colab-df-quickchart-complete:disabled:hover {\n",
              "    background-color: var(--disabled-bg-color);\n",
              "    fill: var(--disabled-fill-color);\n",
              "    box-shadow: none;\n",
              "  }\n",
              "\n",
              "  .colab-df-spinner {\n",
              "    border: 2px solid var(--fill-color);\n",
              "    border-color: transparent;\n",
              "    border-bottom-color: var(--fill-color);\n",
              "    animation:\n",
              "      spin 1s steps(1) infinite;\n",
              "  }\n",
              "\n",
              "  @keyframes spin {\n",
              "    0% {\n",
              "      border-color: transparent;\n",
              "      border-bottom-color: var(--fill-color);\n",
              "      border-left-color: var(--fill-color);\n",
              "    }\n",
              "    20% {\n",
              "      border-color: transparent;\n",
              "      border-left-color: var(--fill-color);\n",
              "      border-top-color: var(--fill-color);\n",
              "    }\n",
              "    30% {\n",
              "      border-color: transparent;\n",
              "      border-left-color: var(--fill-color);\n",
              "      border-top-color: var(--fill-color);\n",
              "      border-right-color: var(--fill-color);\n",
              "    }\n",
              "    40% {\n",
              "      border-color: transparent;\n",
              "      border-right-color: var(--fill-color);\n",
              "      border-top-color: var(--fill-color);\n",
              "    }\n",
              "    60% {\n",
              "      border-color: transparent;\n",
              "      border-right-color: var(--fill-color);\n",
              "    }\n",
              "    80% {\n",
              "      border-color: transparent;\n",
              "      border-right-color: var(--fill-color);\n",
              "      border-bottom-color: var(--fill-color);\n",
              "    }\n",
              "    90% {\n",
              "      border-color: transparent;\n",
              "      border-bottom-color: var(--fill-color);\n",
              "    }\n",
              "  }\n",
              "</style>\n",
              "\n",
              "      <script>\n",
              "        async function quickchart(key) {\n",
              "          const quickchartButtonEl =\n",
              "            document.querySelector('#' + key + ' button');\n",
              "          quickchartButtonEl.disabled = true;  // To prevent multiple clicks.\n",
              "          quickchartButtonEl.classList.add('colab-df-spinner');\n",
              "          try {\n",
              "            const charts = await google.colab.kernel.invokeFunction(\n",
              "                'suggestCharts', [key], {});\n",
              "          } catch (error) {\n",
              "            console.error('Error during call to suggestCharts:', error);\n",
              "          }\n",
              "          quickchartButtonEl.classList.remove('colab-df-spinner');\n",
              "          quickchartButtonEl.classList.add('colab-df-quickchart-complete');\n",
              "        }\n",
              "        (() => {\n",
              "          let quickchartButtonEl =\n",
              "            document.querySelector('#df-5075f620-7a6e-4380-955a-fd0c73ac674f button');\n",
              "          quickchartButtonEl.style.display =\n",
              "            google.colab.kernel.accessAllowed ? 'block' : 'none';\n",
              "        })();\n",
              "      </script>\n",
              "    </div>\n",
              "\n",
              "  <div id=\"id_df6fa4e1-863d-438c-b393-ed392a3e42c6\">\n",
              "    <style>\n",
              "      .colab-df-generate {\n",
              "        background-color: #E8F0FE;\n",
              "        border: none;\n",
              "        border-radius: 50%;\n",
              "        cursor: pointer;\n",
              "        display: none;\n",
              "        fill: #1967D2;\n",
              "        height: 32px;\n",
              "        padding: 0 0 0 0;\n",
              "        width: 32px;\n",
              "      }\n",
              "\n",
              "      .colab-df-generate:hover {\n",
              "        background-color: #E2EBFA;\n",
              "        box-shadow: 0px 1px 2px rgba(60, 64, 67, 0.3), 0px 1px 3px 1px rgba(60, 64, 67, 0.15);\n",
              "        fill: #174EA6;\n",
              "      }\n",
              "\n",
              "      [theme=dark] .colab-df-generate {\n",
              "        background-color: #3B4455;\n",
              "        fill: #D2E3FC;\n",
              "      }\n",
              "\n",
              "      [theme=dark] .colab-df-generate:hover {\n",
              "        background-color: #434B5C;\n",
              "        box-shadow: 0px 1px 3px 1px rgba(0, 0, 0, 0.15);\n",
              "        filter: drop-shadow(0px 1px 2px rgba(0, 0, 0, 0.3));\n",
              "        fill: #FFFFFF;\n",
              "      }\n",
              "    </style>\n",
              "    <button class=\"colab-df-generate\" onclick=\"generateWithVariable('coef_df')\"\n",
              "            title=\"Generate code using this dataframe.\"\n",
              "            style=\"display:none;\">\n",
              "\n",
              "  <svg xmlns=\"http://www.w3.org/2000/svg\" height=\"24px\"viewBox=\"0 0 24 24\"\n",
              "       width=\"24px\">\n",
              "    <path d=\"M7,19H8.4L18.45,9,17,7.55,7,17.6ZM5,21V16.75L18.45,3.32a2,2,0,0,1,2.83,0l1.4,1.43a1.91,1.91,0,0,1,.58,1.4,1.91,1.91,0,0,1-.58,1.4L9.25,21ZM18.45,9,17,7.55Zm-12,3A5.31,5.31,0,0,0,4.9,8.1,5.31,5.31,0,0,0,1,6.5,5.31,5.31,0,0,0,4.9,4.9,5.31,5.31,0,0,0,6.5,1,5.31,5.31,0,0,0,8.1,4.9,5.31,5.31,0,0,0,12,6.5,5.46,5.46,0,0,0,6.5,12Z\"/>\n",
              "  </svg>\n",
              "    </button>\n",
              "    <script>\n",
              "      (() => {\n",
              "      const buttonEl =\n",
              "        document.querySelector('#id_df6fa4e1-863d-438c-b393-ed392a3e42c6 button.colab-df-generate');\n",
              "      buttonEl.style.display =\n",
              "        google.colab.kernel.accessAllowed ? 'block' : 'none';\n",
              "\n",
              "      buttonEl.onclick = () => {\n",
              "        google.colab.notebook.generateWithVariable('coef_df');\n",
              "      }\n",
              "      })();\n",
              "    </script>\n",
              "  </div>\n",
              "\n",
              "    </div>\n",
              "  </div>\n"
            ],
            "application/vnd.google.colaboratory.intrinsic+json": {
              "type": "dataframe",
              "variable_name": "coef_df",
              "summary": "{\n  \"name\": \"coef_df\",\n  \"rows\": 6,\n  \"fields\": [\n    {\n      \"column\": \"Feature\",\n      \"properties\": {\n        \"dtype\": \"string\",\n        \"num_unique_values\": 6,\n        \"samples\": [\n          \"const\",\n          \"plas\",\n          \"pedi\"\n        ],\n        \"semantic_type\": \"\",\n        \"description\": \"\"\n      }\n    },\n    {\n      \"column\": \"Coefficient\",\n      \"properties\": {\n        \"dtype\": \"number\",\n        \"std\": 1.2444697669744857,\n        \"min\": -2.83999614615336,\n        \"max\": 0.644515182234019,\n        \"num_unique_values\": 6,\n        \"samples\": [\n          -2.83999614615336,\n          0.02609604961955207,\n          0.644515182234019\n        ],\n        \"semantic_type\": \"\",\n        \"description\": \"\"\n      }\n    }\n  ]\n}"
            }
          },
          "metadata": {},
          "execution_count": 12
        }
      ]
    },
    {
      "cell_type": "code",
      "source": [],
      "metadata": {
        "id": "0UgfingJhQaN"
      },
      "execution_count": 12,
      "outputs": []
    },
    {
      "cell_type": "code",
      "source": [
        "## statsmodels 사용!!\n",
        "model_sm_sel = sm.Logit(exog = X_selected,# 독립변수\n",
        "                       endog = y) # 종속변수\n",
        "final_result_sm = model_sm_sel.fit()\n",
        "\n",
        "# Summary of the model\n",
        "print(final_result_sm.summary())\n"
      ],
      "metadata": {
        "colab": {
          "base_uri": "https://localhost:8080/"
        },
        "id": "HKpMh7aThQct",
        "outputId": "18d4e0c6-f75f-49a0-e145-6a1bb6baa930"
      },
      "execution_count": 13,
      "outputs": [
        {
          "output_type": "stream",
          "name": "stdout",
          "text": [
            "Optimization terminated successfully.\n",
            "         Current function value: 0.501343\n",
            "         Iterations 6\n",
            "                           Logit Regression Results                           \n",
            "==============================================================================\n",
            "Dep. Variable:                  class   No. Observations:                  537\n",
            "Model:                          Logit   Df Residuals:                      531\n",
            "Method:                           MLE   Df Model:                            5\n",
            "Date:                Tue, 24 Jun 2025   Pseudo R-squ.:                  0.2185\n",
            "Time:                        06:59:46   Log-Likelihood:                -269.22\n",
            "converged:                       True   LL-Null:                       -344.51\n",
            "Covariance Type:            nonrobust   LLR p-value:                 1.002e-30\n",
            "==============================================================================\n",
            "                 coef    std err          z      P>|z|      [0.025      0.975]\n",
            "------------------------------------------------------------------------------\n",
            "const         -7.1326      0.751     -9.494      0.000      -8.605      -5.660\n",
            "plas           0.0301      0.004      8.174      0.000       0.023       0.037\n",
            "pres          -0.0093      0.005     -1.736      0.083      -0.020       0.001\n",
            "skin          -0.0104      0.007     -1.477      0.140      -0.024       0.003\n",
            "mass           0.0963      0.017      5.679      0.000       0.063       0.130\n",
            "pedi           0.8640      0.346      2.498      0.012       0.186       1.542\n",
            "==============================================================================\n"
          ]
        }
      ]
    },
    {
      "cell_type": "markdown",
      "source": [
        "### 오즈비와 신뢰구간 차팅(참고)"
      ],
      "metadata": {
        "id": "GUWb_krZ9_IW"
      }
    },
    {
      "cell_type": "code",
      "source": [
        "## 오즈비와 신뢰구간 계산 based on the statsmodels\n",
        "\n",
        "## 전체 변수 사용시\n",
        "conf_int = np.exp(result_sm.conf_int())\n",
        "odds_ratios = np.exp(result_sm.params)\n",
        "\n",
        "## 변수 선택시\n",
        "# conf_int = np.exp(final_result_sm.conf_int())\n",
        "# odds_ratios = np.exp(final_result_sm.params)\n",
        "\n",
        "## 데이터프레임 생성\n",
        "odds_df = pd.DataFrame({\n",
        "    'OR': odds_ratios,\n",
        "    'Lower CI': conf_int[0],\n",
        "    'Upper CI': conf_int[1]\n",
        "})\n",
        "\n",
        "## 상수항 제거 (있다면)\n",
        "if 'const' in odds_df.index:\n",
        "    odds_df = odds_df.drop('const')\n",
        "\n",
        "## 플롯 생성\n",
        "fig, ax = plt.subplots(figsize=(10, len(odds_df) * 0.5))\n",
        "\n",
        "## 오즈비와 신뢰구간 플로팅\n",
        "odds_df = odds_df.sort_values('OR')\n",
        "y_pos = np.arange(len(odds_df))\n",
        "ax.errorbar(odds_df['OR'], y_pos,\n",
        "            xerr = [odds_df['OR'] - odds_df['Lower CI'],\n",
        "                    odds_df['Upper CI'] - odds_df['OR']],\n",
        "            fmt = 'o', capsize = 5, capthick = 2, ecolor = 'black')\n",
        "\n",
        "## y축 레이블 설정\n",
        "ax.set_yticks(y_pos)\n",
        "ax.set_yticklabels(odds_df.index)\n",
        "\n",
        "## x축을 로그 스케일로 설정\n",
        "ax.set_xscale('log')\n",
        "\n",
        "## 1인 지점에 수직선 추가 (오즈비가 1인 경우 효과 없음을 의미함!)\n",
        "ax.axvline(x = 1, color = 'red', linestyle = '--')\n",
        "\n",
        "## 레이블과 제목 추가\n",
        "ax.set_xlabel('Odds Ratio (log scale)')\n",
        "ax.set_title('Odds Ratios with 95% Confidence Intervals')\n",
        "\n",
        "## 그리드 추가\n",
        "ax.grid(True, which = 'both', linestyle = '--', linewidth = 0.5)\n",
        "\n",
        "## 플롯 표시\n",
        "plt.tight_layout()\n",
        "plt.show()"
      ],
      "metadata": {
        "colab": {
          "base_uri": "https://localhost:8080/",
          "height": 407
        },
        "id": "VNlRBZE39xd2",
        "outputId": "3a9f93a4-e857-46d0-aa94-78b8870bd6a8"
      },
      "execution_count": 14,
      "outputs": [
        {
          "output_type": "display_data",
          "data": {
            "text/plain": [
              "<Figure size 1000x400 with 1 Axes>"
            ],
            "image/png": "[encoded data removed]"
          },
          "metadata": {}
        }
      ]
    },
    {
      "cell_type": "markdown",
      "source": [
        "- 오즈비가 1보다 크면 해당 변수의 값이 증가할 때 종속 변수(예: 질병 발생)의 오즈가 증가한다는 의미\n",
        "- 오즈비가 1보다 작으면 해당 변수의 값이 증가할 때 종속 변수의 오즈가 감소한다는 의미\n",
        "- 오즈비가 1이면 해당 변수의 값이 종속 변수의 오즈에 영향을 미치지 않는다는 의미\n",
        "\n",
        "- 신뢰구간 (Confidence Interval)\n",
        "  - 각 점은 해당 변수의 오즈비를 나타내고, 수평선은 95% 신뢰구간\n",
        "  - 신뢰구간이 1을 포함하지 않으면 해당 변수는 통계적으로 유의미\n",
        "  - 신뢰구간이 1을 포함하면 해당 변수는 통계적으로 유의미하지 않을 수 있음\n",
        "- 수직선 (1의 지점)\n",
        "  - x축에 있는 수직선(빨간색 점선)은 오즈비가 1인 지점\n",
        "  - 오즈비가 1보다 크면 긍정적인 효과를, 1보다 작으면 부정적인 효과를 의미"
      ],
      "metadata": {
        "id": "6RPio2O9yXei"
      }
    },
    {
      "cell_type": "markdown",
      "source": [
        "## 새로운 데이터에 대해 적용해보기"
      ],
      "metadata": {
        "id": "fUIcBDKkcvq5"
      }
    },
    {
      "cell_type": "markdown",
      "source": [
        "![image.png](data:image/png;base64,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)"
      ],
      "metadata": {
        "id": "c73pbw1rpiAQ"
      }
    },
    {
      "cell_type": "code",
      "source": [
        "## Predicting probabilities for a new patient\n",
        "patient1 = pd.DataFrame({\n",
        "    'const': 1,\n",
        "    'preg': [4],\n",
        "    'plas': [50],\n",
        "    'pres': [80],\n",
        "    'skin': [30],\n",
        "    'insu': [20],\n",
        "    'mass': [75],\t ##\n",
        "    'pedi': [0.8],\n",
        "    'age': [35]\n",
        "})\n",
        "\n",
        "pred_prob_patient1 = result_sm.predict(patient1)\n",
        "print(\"환자 1의 당뇨병 예측 확률:\", pred_prob_patient1[0])"
      ],
      "metadata": {
        "colab": {
          "base_uri": "https://localhost:8080/"
        },
        "id": "k5HigXKN8RW0",
        "outputId": "29653213-b787-4e8b-91a6-0883e08eeae0"
      },
      "execution_count": 15,
      "outputs": [
        {
          "output_type": "stream",
          "name": "stdout",
          "text": [
            "환자 1의 당뇨병 예측 확률: 0.8183950934837545\n"
          ]
        }
      ]
    },
    {
      "cell_type": "markdown",
      "source": [
        "### 변수 1단위 올라 갔을때.."
      ],
      "metadata": {
        "id": "XxA2iAM9c7YM"
      }
    },
    {
      "cell_type": "code",
      "source": [
        "patient1_mass76 = patient1.copy()\n",
        "patient1_mass76['mass'] = 76\n",
        "\n",
        "### statsmodels\n",
        "## statsmodels 사용!!\n",
        "\n",
        "## 로짓 계산\n",
        "logit_patient1_mass75 = result_sm.predict(patient1,\n",
        "                                          which = \"linear\")[0] ## 로짓 출력시 which=\"linear\"\n",
        "logit_patient1_mass76 = result_sm.predict(patient1_mass76,\n",
        "                                          which = \"linear\")[0]\n",
        "\n",
        "print(\"logit_patient1_mass75:\", logit_patient1_mass75)\n",
        "print(\"logit_patient1_mass76:\", logit_patient1_mass76)"
      ],
      "metadata": {
        "colab": {
          "base_uri": "https://localhost:8080/"
        },
        "id": "2HuVwH2vdKY7",
        "outputId": "12a2acfa-4a65-4b65-e3a9-f8088ca49f63"
      },
      "execution_count": 16,
      "outputs": [
        {
          "output_type": "stream",
          "name": "stdout",
          "text": [
            "logit_patient1_mass75: 1.5055117353015208\n",
            "logit_patient1_mass76: 1.6063020619064203\n"
          ]
        }
      ]
    },
    {
      "cell_type": "markdown",
      "source": [
        "### 오즈 변화 확인"
      ],
      "metadata": {
        "id": "Sz8Cw1o7p-qI"
      }
    },
    {
      "cell_type": "code",
      "source": [
        "## 로지스틱 회귀: 𝑳𝒐𝒈𝒊𝒕(로그오즈)은 𝜷만큼 변화 (오즈비는 𝒆^𝜷 만큼 변화)\n",
        "## 로그오즈(로짓) 변화\n",
        "logit_diff7675 = logit_patient1_mass76 - logit_patient1_mass75\n",
        "logit_diff7675"
      ],
      "metadata": {
        "colab": {
          "base_uri": "https://localhost:8080/"
        },
        "id": "X811IRo-pMwa",
        "outputId": "abe69de2-b76f-4663-f386-8ca6217db767"
      },
      "execution_count": 17,
      "outputs": [
        {
          "output_type": "execute_result",
          "data": {
            "text/plain": [
              "np.float64(0.1007903266048995)"
            ]
          },
          "metadata": {},
          "execution_count": 17
        }
      ]
    },
    {
      "cell_type": "code",
      "source": [
        "## The change in odds where the event will occur is\n",
        "## 오즈비 변화 (오즈비는 𝒆^𝜷 만큼 변화)\n",
        "## np.exp(1) ## 오일러 상수 or 자연로그의 밑, 통칭 e\n",
        "\n",
        "odds_ratio_7675 = np.exp(logit_diff7675) # e^beta\n",
        "odds_ratio_7675"
      ],
      "metadata": {
        "colab": {
          "base_uri": "https://localhost:8080/"
        },
        "id": "c0GLtoWQp42N",
        "outputId": "e5c11ead-c074-433a-8f64-7bad26835839"
      },
      "execution_count": 18,
      "outputs": [
        {
          "output_type": "execute_result",
          "data": {
            "text/plain": [
              "np.float64(1.106044709299908)"
            ]
          },
          "metadata": {},
          "execution_count": 18
        }
      ]
    },
    {
      "cell_type": "code",
      "source": [
        "### 개별 오즈 계산\n",
        "## odds_75\n",
        "odds_75 = np.exp(logit_patient1_mass75)\n",
        "print(odds_75)\n",
        "\n",
        "## odds_76\n",
        "odds_76 = np.exp(logit_patient1_mass76)\n",
        "print(odds_76) # = odds_75 * np.exp(coef_of_mass) #\n",
        "\n",
        "## odds_diff\n",
        "odds_diff = odds_76/odds_75\n",
        "print(\"odds_diff:\", odds_diff)"
      ],
      "metadata": {
        "colab": {
          "base_uri": "https://localhost:8080/"
        },
        "id": "LrlIv0M8rInw",
        "outputId": "8c4081a0-26c9-4844-c602-a88b4809cc5e"
      },
      "execution_count": 19,
      "outputs": [
        {
          "output_type": "stream",
          "name": "stdout",
          "text": [
            "4.506459154563343\n",
            "4.984345305580921\n",
            "odds_diff: 1.1060447092999077\n"
          ]
        }
      ]
    },
    {
      "cell_type": "code",
      "source": [
        "## mass의 회귀 계수로 계산하기\n",
        "coef_of_mass = result_sm.params[result_sm.params.index == 'mass'].values[0] #\n",
        "print(\"coef_of_mass:\", coef_of_mass)\n",
        "print('e ^ beta:', np.exp(coef_of_mass))"
      ],
      "metadata": {
        "colab": {
          "base_uri": "https://localhost:8080/"
        },
        "id": "04kjH7X7Jmg1",
        "outputId": "d4e5c047-3203-4388-f6de-df33cce641ec"
      },
      "execution_count": 20,
      "outputs": [
        {
          "output_type": "stream",
          "name": "stdout",
          "text": [
            "coef_of_mass: 0.10079032660489938\n",
            "e ^ beta: 1.1060447092999077\n"
          ]
        }
      ]
    },
    {
      "cell_type": "code",
      "source": [
        "pred_prob_patient1_76 = result_sm.predict(patient1_mass76)\n",
        "print(\"환자 1의 + mass 76 당뇨병 예측 확률:\", pred_prob_patient1_76[0])"
      ],
      "metadata": {
        "colab": {
          "base_uri": "https://localhost:8080/"
        },
        "id": "r_KQmNOpJKMA",
        "outputId": "15d38fd7-945a-461f-b83c-65a3850733d3"
      },
      "execution_count": 21,
      "outputs": [
        {
          "output_type": "stream",
          "name": "stdout",
          "text": [
            "환자 1의 + mass 76 당뇨병 예측 확률: 0.8328973431617636\n"
          ]
        }
      ]
    },
    {
      "cell_type": "markdown",
      "source": [
        "### 여러개 데이터에 대해서 적용"
      ],
      "metadata": {
        "id": "qRoKZyhJr1kr"
      }
    },
    {
      "cell_type": "code",
      "source": [
        "## Predicting probabilities for a test set\n",
        "patient2 = pd.read_csv('diabete_lgr_te.csv')\n",
        "\n",
        "X_test = patient2.drop(columns=['class'])\n",
        "X_test = sm.add_constant(X_test)  # Adds a constant term to the predictor\n",
        "y_test = patient2['class']\n",
        "\n",
        "## 개별 환자에 대한 확률 값 계산\n",
        "pred_prob = result_sm.predict(X_test)\n",
        "pred_prob"
      ],
      "metadata": {
        "colab": {
          "base_uri": "https://localhost:8080/",
          "height": 458
        },
        "id": "cWPgimWU8Rh8",
        "outputId": "c305ca65-787a-4527-b4cd-a2f609b4e481"
      },
      "execution_count": 22,
      "outputs": [
        {
          "output_type": "execute_result",
          "data": {
            "text/plain": [
              "0      0.055433\n",
              "1      0.880567\n",
              "2      0.536215\n",
              "3      0.381089\n",
              "4      0.436319\n",
              "         ...   \n",
              "226    0.681580\n",
              "227    0.423524\n",
              "228    0.089604\n",
              "229    0.338149\n",
              "230    0.082564\n",
              "Length: 231, dtype: float64"
            ],
            "text/html": [
              "<div>\n",
              "<style scoped>\n",
              "    .dataframe tbody tr th:only-of-type {\n",
              "        vertical-align: middle;\n",
              "    }\n",
              "\n",
              "    .dataframe tbody tr th {\n",
              "        vertical-align: top;\n",
              "    }\n",
              "\n",
              "    .dataframe thead th {\n",
              "        text-align: right;\n",
              "    }\n",
              "</style>\n",
              "<table border=\"1\" class=\"dataframe\">\n",
              "  <thead>\n",
              "    <tr style=\"text-align: right;\">\n",
              "      <th></th>\n",
              "      <th>0</th>\n",
              "    </tr>\n",
              "  </thead>\n",
              "  <tbody>\n",
              "    <tr>\n",
              "      <th>0</th>\n",
              "      <td>0.055433</td>\n",
              "    </tr>\n",
              "    <tr>\n",
              "      <th>1</th>\n",
              "      <td>0.880567</td>\n",
              "    </tr>\n",
              "    <tr>\n",
              "      <th>2</th>\n",
              "      <td>0.536215</td>\n",
              "    </tr>\n",
              "    <tr>\n",
              "      <th>3</th>\n",
              "      <td>0.381089</td>\n",
              "    </tr>\n",
              "    <tr>\n",
              "      <th>4</th>\n",
              "      <td>0.436319</td>\n",
              "    </tr>\n",
              "    <tr>\n",
              "      <th>...</th>\n",
              "      <td>...</td>\n",
              "    </tr>\n",
              "    <tr>\n",
              "      <th>226</th>\n",
              "      <td>0.681580</td>\n",
              "    </tr>\n",
              "    <tr>\n",
              "      <th>227</th>\n",
              "      <td>0.423524</td>\n",
              "    </tr>\n",
              "    <tr>\n",
              "      <th>228</th>\n",
              "      <td>0.089604</td>\n",
              "    </tr>\n",
              "    <tr>\n",
              "      <th>229</th>\n",
              "      <td>0.338149</td>\n",
              "    </tr>\n",
              "    <tr>\n",
              "      <th>230</th>\n",
              "      <td>0.082564</td>\n",
              "    </tr>\n",
              "  </tbody>\n",
              "</table>\n",
              "<p>231 rows × 1 columns</p>\n",
              "</div><br><label><b>dtype:</b> float64</label>"
            ]
          },
          "metadata": {},
          "execution_count": 22
        }
      ]
    },
    {
      "cell_type": "code",
      "source": [
        "## 0,1 분류, 기본 threshold = 0.5\n",
        "pred_class = (pred_prob > 0.5).astype(int)\n",
        "accuracy = accuracy_score(y_test, pred_class)\n",
        "print(\"Accuracy at 0.5 threshold:\", accuracy) ## 정확도 계산"
      ],
      "metadata": {
        "colab": {
          "base_uri": "https://localhost:8080/"
        },
        "id": "UeU9G3BI8RkY",
        "outputId": "dce3ea56-7591-4bce-a0a2-24be8f9bde94"
      },
      "execution_count": 23,
      "outputs": [
        {
          "output_type": "stream",
          "name": "stdout",
          "text": [
            "Accuracy at 0.5 threshold: 0.7965367965367965\n"
          ]
        }
      ]
    },
    {
      "cell_type": "markdown",
      "source": [
        "### 0,1 로 만들기\n"
      ],
      "metadata": {
        "id": "12sAOApHVJBF"
      }
    },
    {
      "cell_type": "code",
      "source": [
        "## 값이 0.5보다 크면 1로, 아니면 0으로 변환\n",
        "def make_binary(value, threshold = 0.5):\n",
        "    output = (value > threshold).astype(int)\n",
        "    return output\n",
        "\n",
        "pred_class = make_binary(pred_prob > 0.5)\n",
        "pred_class"
      ],
      "metadata": {
        "colab": {
          "base_uri": "https://localhost:8080/",
          "height": 458
        },
        "id": "Mji62brGVLAN",
        "outputId": "26d0d85f-8dff-4434-c552-90e87f64ca30"
      },
      "execution_count": 24,
      "outputs": [
        {
          "output_type": "execute_result",
          "data": {
            "text/plain": [
              "0      0\n",
              "1      1\n",
              "2      1\n",
              "3      0\n",
              "4      0\n",
              "      ..\n",
              "226    1\n",
              "227    0\n",
              "228    0\n",
              "229    0\n",
              "230    0\n",
              "Length: 231, dtype: int64"
            ],
            "text/html": [
              "<div>\n",
              "<style scoped>\n",
              "    .dataframe tbody tr th:only-of-type {\n",
              "        vertical-align: middle;\n",
              "    }\n",
              "\n",
              "    .dataframe tbody tr th {\n",
              "        vertical-align: top;\n",
              "    }\n",
              "\n",
              "    .dataframe thead th {\n",
              "        text-align: right;\n",
              "    }\n",
              "</style>\n",
              "<table border=\"1\" class=\"dataframe\">\n",
              "  <thead>\n",
              "    <tr style=\"text-align: right;\">\n",
              "      <th></th>\n",
              "      <th>0</th>\n",
              "    </tr>\n",
              "  </thead>\n",
              "  <tbody>\n",
              "    <tr>\n",
              "      <th>0</th>\n",
              "      <td>0</td>\n",
              "    </tr>\n",
              "    <tr>\n",
              "      <th>1</th>\n",
              "      <td>1</td>\n",
              "    </tr>\n",
              "    <tr>\n",
              "      <th>2</th>\n",
              "      <td>1</td>\n",
              "    </tr>\n",
              "    <tr>\n",
              "      <th>3</th>\n",
              "      <td>0</td>\n",
              "    </tr>\n",
              "    <tr>\n",
              "      <th>4</th>\n",
              "      <td>0</td>\n",
              "    </tr>\n",
              "    <tr>\n",
              "      <th>...</th>\n",
              "      <td>...</td>\n",
              "    </tr>\n",
              "    <tr>\n",
              "      <th>226</th>\n",
              "      <td>1</td>\n",
              "    </tr>\n",
              "    <tr>\n",
              "      <th>227</th>\n",
              "      <td>0</td>\n",
              "    </tr>\n",
              "    <tr>\n",
              "      <th>228</th>\n",
              "      <td>0</td>\n",
              "    </tr>\n",
              "    <tr>\n",
              "      <th>229</th>\n",
              "      <td>0</td>\n",
              "    </tr>\n",
              "    <tr>\n",
              "      <th>230</th>\n",
              "      <td>0</td>\n",
              "    </tr>\n",
              "  </tbody>\n",
              "</table>\n",
              "<p>231 rows × 1 columns</p>\n",
              "</div><br><label><b>dtype:</b> int64</label>"
            ]
          },
          "metadata": {},
          "execution_count": 24
        }
      ]
    },
    {
      "cell_type": "code",
      "source": [
        "## 확률값과, 예측 값\n",
        "result_df =  pd.DataFrame({'pred_prob': pred_prob, # 예측 확률값\n",
        "                            'pred_class': pred_class, # 예측 클래스 값\n",
        "                            'class_true': y_test}) # 정답\n",
        "result_df"
      ],
      "metadata": {
        "colab": {
          "base_uri": "https://localhost:8080/",
          "height": 424
        },
        "id": "fb9YHUK8WCyq",
        "outputId": "04850290-af73-4a9a-839c-999fcf5750fc"
      },
      "execution_count": 25,
      "outputs": [
        {
          "output_type": "execute_result",
          "data": {
            "text/plain": [
              "     pred_prob  pred_class  class_true\n",
              "0     0.055433           0           0\n",
              "1     0.880567           1           1\n",
              "2     0.536215           1           1\n",
              "3     0.381089           0           1\n",
              "4     0.436319           0           0\n",
              "..         ...         ...         ...\n",
              "226   0.681580           1           1\n",
              "227   0.423524           0           1\n",
              "228   0.089604           0           0\n",
              "229   0.338149           0           0\n",
              "230   0.082564           0           0\n",
              "\n",
              "[231 rows x 3 columns]"
            ],
            "text/html": [
              "\n",
              "  <div id=\"df-b060f4ef-d5bd-4cfa-8988-a71a50fe7738\" class=\"colab-df-container\">\n",
              "    <div>\n",
              "<style scoped>\n",
              "    .dataframe tbody tr th:only-of-type {\n",
              "        vertical-align: middle;\n",
              "    }\n",
              "\n",
              "    .dataframe tbody tr th {\n",
              "        vertical-align: top;\n",
              "    }\n",
              "\n",
              "    .dataframe thead th {\n",
              "        text-align: right;\n",
              "    }\n",
              "</style>\n",
              "<table border=\"1\" class=\"dataframe\">\n",
              "  <thead>\n",
              "    <tr style=\"text-align: right;\">\n",
              "      <th></th>\n",
              "      <th>pred_prob</th>\n",
              "      <th>pred_class</th>\n",
              "      <th>class_true</th>\n",
              "    </tr>\n",
              "  </thead>\n",
              "  <tbody>\n",
              "    <tr>\n",
              "      <th>0</th>\n",
              "      <td>0.055433</td>\n",
              "      <td>0</td>\n",
              "      <td>0</td>\n",
              "    </tr>\n",
              "    <tr>\n",
              "      <th>1</th>\n",
              "      <td>0.880567</td>\n",
              "      <td>1</td>\n",
              "      <td>1</td>\n",
              "    </tr>\n",
              "    <tr>\n",
              "      <th>2</th>\n",
              "      <td>0.536215</td>\n",
              "      <td>1</td>\n",
              "      <td>1</td>\n",
              "    </tr>\n",
              "    <tr>\n",
              "      <th>3</th>\n",
              "      <td>0.381089</td>\n",
              "      <td>0</td>\n",
              "      <td>1</td>\n",
              "    </tr>\n",
              "    <tr>\n",
              "      <th>4</th>\n",
              "      <td>0.436319</td>\n",
              "      <td>0</td>\n",
              "      <td>0</td>\n",
              "    </tr>\n",
              "    <tr>\n",
              "      <th>...</th>\n",
              "      <td>...</td>\n",
              "      <td>...</td>\n",
              "      <td>...</td>\n",
              "    </tr>\n",
              "    <tr>\n",
              "      <th>226</th>\n",
              "      <td>0.681580</td>\n",
              "      <td>1</td>\n",
              "      <td>1</td>\n",
              "    </tr>\n",
              "    <tr>\n",
              "      <th>227</th>\n",
              "      <td>0.423524</td>\n",
              "      <td>0</td>\n",
              "      <td>1</td>\n",
              "    </tr>\n",
              "    <tr>\n",
              "      <th>228</th>\n",
              "      <td>0.089604</td>\n",
              "      <td>0</td>\n",
              "      <td>0</td>\n",
              "    </tr>\n",
              "    <tr>\n",
              "      <th>229</th>\n",
              "      <td>0.338149</td>\n",
              "      <td>0</td>\n",
              "      <td>0</td>\n",
              "    </tr>\n",
              "    <tr>\n",
              "      <th>230</th>\n",
              "      <td>0.082564</td>\n",
              "      <td>0</td>\n",
              "      <td>0</td>\n",
              "    </tr>\n",
              "  </tbody>\n",
              "</table>\n",
              "<p>231 rows × 3 columns</p>\n",
              "</div>\n",
              "    <div class=\"colab-df-buttons\">\n",
              "\n",
              "  <div class=\"colab-df-container\">\n",
              "    <button class=\"colab-df-convert\" onclick=\"convertToInteractive('df-b060f4ef-d5bd-4cfa-8988-a71a50fe7738')\"\n",
              "            title=\"Convert this dataframe to an interactive table.\"\n",
              "            style=\"display:none;\">\n",
              "\n",
              "  <svg xmlns=\"http://www.w3.org/2000/svg\" height=\"24px\" viewBox=\"0 -960 960 960\">\n",
              "    <path d=\"M120-120v-720h720v720H120Zm60-500h600v-160H180v160Zm220 220h160v-160H400v160Zm0 220h160v-160H400v160ZM180-400h160v-160H180v160Zm440 0h160v-160H620v160ZM180-180h160v-160H180v160Zm440 0h160v-160H620v160Z\"/>\n",
              "  </svg>\n",
              "    </button>\n",
              "\n",
              "  <style>\n",
              "    .colab-df-container {\n",
              "      display:flex;\n",
              "      gap: 12px;\n",
              "    }\n",
              "\n",
              "    .colab-df-convert {\n",
              "      background-color: #E8F0FE;\n",
              "      border: none;\n",
              "      border-radius: 50%;\n",
              "      cursor: pointer;\n",
              "      display: none;\n",
              "      fill: #1967D2;\n",
              "      height: 32px;\n",
              "      padding: 0 0 0 0;\n",
              "      width: 32px;\n",
              "    }\n",
              "\n",
              "    .colab-df-convert:hover {\n",
              "      background-color: #E2EBFA;\n",
              "      box-shadow: 0px 1px 2px rgba(60, 64, 67, 0.3), 0px 1px 3px 1px rgba(60, 64, 67, 0.15);\n",
              "      fill: #174EA6;\n",
              "    }\n",
              "\n",
              "    .colab-df-buttons div {\n",
              "      margin-bottom: 4px;\n",
              "    }\n",
              "\n",
              "    [theme=dark] .colab-df-convert {\n",
              "      background-color: #3B4455;\n",
              "      fill: #D2E3FC;\n",
              "    }\n",
              "\n",
              "    [theme=dark] .colab-df-convert:hover {\n",
              "      background-color: #434B5C;\n",
              "      box-shadow: 0px 1px 3px 1px rgba(0, 0, 0, 0.15);\n",
              "      filter: drop-shadow(0px 1px 2px rgba(0, 0, 0, 0.3));\n",
              "      fill: #FFFFFF;\n",
              "    }\n",
              "  </style>\n",
              "\n",
              "    <script>\n",
              "      const buttonEl =\n",
              "        document.querySelector('#df-b060f4ef-d5bd-4cfa-8988-a71a50fe7738 button.colab-df-convert');\n",
              "      buttonEl.style.display =\n",
              "        google.colab.kernel.accessAllowed ? 'block' : 'none';\n",
              "\n",
              "      async function convertToInteractive(key) {\n",
              "        const element = document.querySelector('#df-b060f4ef-d5bd-4cfa-8988-a71a50fe7738');\n",
              "        const dataTable =\n",
              "          await google.colab.kernel.invokeFunction('convertToInteractive',\n",
              "                                                    [key], {});\n",
              "        if (!dataTable) return;\n",
              "\n",
              "        const docLinkHtml = 'Like what you see? Visit the ' +\n",
              "          '<a target=\"_blank\" href=https://colab.research.google.com/notebooks/data_table.ipynb>data table notebook</a>'\n",
              "          + ' to learn more about interactive tables.';\n",
              "        element.innerHTML = '';\n",
              "        dataTable['output_type'] = 'display_data';\n",
              "        await google.colab.output.renderOutput(dataTable, element);\n",
              "        const docLink = document.createElement('div');\n",
              "        docLink.innerHTML = docLinkHtml;\n",
              "        element.appendChild(docLink);\n",
              "      }\n",
              "    </script>\n",
              "  </div>\n",
              "\n",
              "\n",
              "    <div id=\"df-3614f52b-dc1d-4a37-af8a-522541cb257b\">\n",
              "      <button class=\"colab-df-quickchart\" onclick=\"quickchart('df-3614f52b-dc1d-4a37-af8a-522541cb257b')\"\n",
              "                title=\"Suggest charts\"\n",
              "                style=\"display:none;\">\n",
              "\n",
              "<svg xmlns=\"http://www.w3.org/2000/svg\" height=\"24px\"viewBox=\"0 0 24 24\"\n",
              "     width=\"24px\">\n",
              "    <g>\n",
              "        <path d=\"M19 3H5c-1.1 0-2 .9-2 2v14c0 1.1.9 2 2 2h14c1.1 0 2-.9 2-2V5c0-1.1-.9-2-2-2zM9 17H7v-7h2v7zm4 0h-2V7h2v10zm4 0h-2v-4h2v4z\"/>\n",
              "    </g>\n",
              "</svg>\n",
              "      </button>\n",
              "\n",
              "<style>\n",
              "  .colab-df-quickchart {\n",
              "      --bg-color: #E8F0FE;\n",
              "      --fill-color: #1967D2;\n",
              "      --hover-bg-color: #E2EBFA;\n",
              "      --hover-fill-color: #174EA6;\n",
              "      --disabled-fill-color: #AAA;\n",
              "      --disabled-bg-color: #DDD;\n",
              "  }\n",
              "\n",
              "  [theme=dark] .colab-df-quickchart {\n",
              "      --bg-color: #3B4455;\n",
              "      --fill-color: #D2E3FC;\n",
              "      --hover-bg-color: #434B5C;\n",
              "      --hover-fill-color: #FFFFFF;\n",
              "      --disabled-bg-color: #3B4455;\n",
              "      --disabled-fill-color: #666;\n",
              "  }\n",
              "\n",
              "  .colab-df-quickchart {\n",
              "    background-color: var(--bg-color);\n",
              "    border: none;\n",
              "    border-radius: 50%;\n",
              "    cursor: pointer;\n",
              "    display: none;\n",
              "    fill: var(--fill-color);\n",
              "    height: 32px;\n",
              "    padding: 0;\n",
              "    width: 32px;\n",
              "  }\n",
              "\n",
              "  .colab-df-quickchart:hover {\n",
              "    background-color: var(--hover-bg-color);\n",
              "    box-shadow: 0 1px 2px rgba(60, 64, 67, 0.3), 0 1px 3px 1px rgba(60, 64, 67, 0.15);\n",
              "    fill: var(--button-hover-fill-color);\n",
              "  }\n",
              "\n",
              "  .colab-df-quickchart-complete:disabled,\n",
              "  .colab-df-quickchart-complete:disabled:hover {\n",
              "    background-color: var(--disabled-bg-color);\n",
              "    fill: var(--disabled-fill-color);\n",
              "    box-shadow: none;\n",
              "  }\n",
              "\n",
              "  .colab-df-spinner {\n",
              "    border: 2px solid var(--fill-color);\n",
              "    border-color: transparent;\n",
              "    border-bottom-color: var(--fill-color);\n",
              "    animation:\n",
              "      spin 1s steps(1) infinite;\n",
              "  }\n",
              "\n",
              "  @keyframes spin {\n",
              "    0% {\n",
              "      border-color: transparent;\n",
              "      border-bottom-color: var(--fill-color);\n",
              "      border-left-color: var(--fill-color);\n",
              "    }\n",
              "    20% {\n",
              "      border-color: transparent;\n",
              "      border-left-color: var(--fill-color);\n",
              "      border-top-color: var(--fill-color);\n",
              "    }\n",
              "    30% {\n",
              "      border-color: transparent;\n",
              "      border-left-color: var(--fill-color);\n",
              "      border-top-color: var(--fill-color);\n",
              "      border-right-color: var(--fill-color);\n",
              "    }\n",
              "    40% {\n",
              "      border-color: transparent;\n",
              "      border-right-color: var(--fill-color);\n",
              "      border-top-color: var(--fill-color);\n",
              "    }\n",
              "    60% {\n",
              "      border-color: transparent;\n",
              "      border-right-color: var(--fill-color);\n",
              "    }\n",
              "    80% {\n",
              "      border-color: transparent;\n",
              "      border-right-color: var(--fill-color);\n",
              "      border-bottom-color: var(--fill-color);\n",
              "    }\n",
              "    90% {\n",
              "      border-color: transparent;\n",
              "      border-bottom-color: var(--fill-color);\n",
              "    }\n",
              "  }\n",
              "</style>\n",
              "\n",
              "      <script>\n",
              "        async function quickchart(key) {\n",
              "          const quickchartButtonEl =\n",
              "            document.querySelector('#' + key + ' button');\n",
              "          quickchartButtonEl.disabled = true;  // To prevent multiple clicks.\n",
              "          quickchartButtonEl.classList.add('colab-df-spinner');\n",
              "          try {\n",
              "            const charts = await google.colab.kernel.invokeFunction(\n",
              "                'suggestCharts', [key], {});\n",
              "          } catch (error) {\n",
              "            console.error('Error during call to suggestCharts:', error);\n",
              "          }\n",
              "          quickchartButtonEl.classList.remove('colab-df-spinner');\n",
              "          quickchartButtonEl.classList.add('colab-df-quickchart-complete');\n",
              "        }\n",
              "        (() => {\n",
              "          let quickchartButtonEl =\n",
              "            document.querySelector('#df-3614f52b-dc1d-4a37-af8a-522541cb257b button');\n",
              "          quickchartButtonEl.style.display =\n",
              "            google.colab.kernel.accessAllowed ? 'block' : 'none';\n",
              "        })();\n",
              "      </script>\n",
              "    </div>\n",
              "\n",
              "  <div id=\"id_9f96ac4e-2515-44ac-863c-39d1abe2d43c\">\n",
              "    <style>\n",
              "      .colab-df-generate {\n",
              "        background-color: #E8F0FE;\n",
              "        border: none;\n",
              "        border-radius: 50%;\n",
              "        cursor: pointer;\n",
              "        display: none;\n",
              "        fill: #1967D2;\n",
              "        height: 32px;\n",
              "        padding: 0 0 0 0;\n",
              "        width: 32px;\n",
              "      }\n",
              "\n",
              "      .colab-df-generate:hover {\n",
              "        background-color: #E2EBFA;\n",
              "        box-shadow: 0px 1px 2px rgba(60, 64, 67, 0.3), 0px 1px 3px 1px rgba(60, 64, 67, 0.15);\n",
              "        fill: #174EA6;\n",
              "      }\n",
              "\n",
              "      [theme=dark] .colab-df-generate {\n",
              "        background-color: #3B4455;\n",
              "        fill: #D2E3FC;\n",
              "      }\n",
              "\n",
              "      [theme=dark] .colab-df-generate:hover {\n",
              "        background-color: #434B5C;\n",
              "        box-shadow: 0px 1px 3px 1px rgba(0, 0, 0, 0.15);\n",
              "        filter: drop-shadow(0px 1px 2px rgba(0, 0, 0, 0.3));\n",
              "        fill: #FFFFFF;\n",
              "      }\n",
              "    </style>\n",
              "    <button class=\"colab-df-generate\" onclick=\"generateWithVariable('result_df')\"\n",
              "            title=\"Generate code using this dataframe.\"\n",
              "            style=\"display:none;\">\n",
              "\n",
              "  <svg xmlns=\"http://www.w3.org/2000/svg\" height=\"24px\"viewBox=\"0 0 24 24\"\n",
              "       width=\"24px\">\n",
              "    <path d=\"M7,19H8.4L18.45,9,17,7.55,7,17.6ZM5,21V16.75L18.45,3.32a2,2,0,0,1,2.83,0l1.4,1.43a1.91,1.91,0,0,1,.58,1.4,1.91,1.91,0,0,1-.58,1.4L9.25,21ZM18.45,9,17,7.55Zm-12,3A5.31,5.31,0,0,0,4.9,8.1,5.31,5.31,0,0,0,1,6.5,5.31,5.31,0,0,0,4.9,4.9,5.31,5.31,0,0,0,6.5,1,5.31,5.31,0,0,0,8.1,4.9,5.31,5.31,0,0,0,12,6.5,5.46,5.46,0,0,0,6.5,12Z\"/>\n",
              "  </svg>\n",
              "    </button>\n",
              "    <script>\n",
              "      (() => {\n",
              "      const buttonEl =\n",
              "        document.querySelector('#id_9f96ac4e-2515-44ac-863c-39d1abe2d43c button.colab-df-generate');\n",
              "      buttonEl.style.display =\n",
              "        google.colab.kernel.accessAllowed ? 'block' : 'none';\n",
              "\n",
              "      buttonEl.onclick = () => {\n",
              "        google.colab.notebook.generateWithVariable('result_df');\n",
              "      }\n",
              "      })();\n",
              "    </script>\n",
              "  </div>\n",
              "\n",
              "    </div>\n",
              "  </div>\n"
            ],
            "application/vnd.google.colaboratory.intrinsic+json": {
              "type": "dataframe",
              "variable_name": "result_df",
              "summary": "{\n  \"name\": \"result_df\",\n  \"rows\": 231,\n  \"fields\": [\n    {\n      \"column\": \"pred_prob\",\n      \"properties\": {\n        \"dtype\": \"number\",\n        \"std\": 0.2529481270105035,\n        \"min\": 0.003337229923709067,\n        \"max\": 0.9526943460855662,\n        \"num_unique_values\": 231,\n        \"samples\": [\n          0.18144749302800342,\n          0.37627669098972627,\n          0.5817776515010891\n        ],\n        \"semantic_type\": \"\",\n        \"description\": \"\"\n      }\n    },\n    {\n      \"column\": \"pred_class\",\n      \"properties\": {\n        \"dtype\": \"number\",\n        \"std\": 0,\n        \"min\": 0,\n        \"max\": 1,\n        \"num_unique_values\": 2,\n        \"samples\": [\n          1,\n          0\n        ],\n        \"semantic_type\": \"\",\n        \"description\": \"\"\n      }\n    },\n    {\n      \"column\": \"class_true\",\n      \"properties\": {\n        \"dtype\": \"number\",\n        \"std\": 0,\n        \"min\": 0,\n        \"max\": 1,\n        \"num_unique_values\": 2,\n        \"samples\": [\n          1,\n          0\n        ],\n        \"semantic_type\": \"\",\n        \"description\": \"\"\n      }\n    }\n  ]\n}"
            }
          },
          "metadata": {},
          "execution_count": 25
        }
      ]
    },
    {
      "cell_type": "code",
      "source": [
        "## 정확도 계산\n",
        "accuracy = (result_df['pred_class'] == result_df['class_true']).mean()\n",
        "print('정확도:', accuracy)"
      ],
      "metadata": {
        "colab": {
          "base_uri": "https://localhost:8080/"
        },
        "id": "SEYq-2jbVbIg",
        "outputId": "79705721-2430-4413-d288-c20dff755951"
      },
      "execution_count": 26,
      "outputs": [
        {
          "output_type": "stream",
          "name": "stdout",
          "text": [
            "정확도: 0.7965367965367965\n"
          ]
        }
      ]
    },
    {
      "cell_type": "markdown",
      "source": [
        "### (참고)threshold 바꿀때 결과 확인"
      ],
      "metadata": {
        "id": "tUP06I__sFar"
      }
    },
    {
      "cell_type": "code",
      "source": [
        "## 5. Finding the optimal cut-off threshold\n",
        "thresholds = np.arange(0.1, 1.0, 0.1)\n",
        "accuracy_list = []\n",
        "\n",
        "for threshold in thresholds:\n",
        "    pred_class = (pred_prob > threshold).astype(int)\n",
        "    accuracy = accuracy_score(y_test, pred_class) ## 정확도 계산\n",
        "    accuracy_list.append((threshold, accuracy))\n",
        "    print(f\"Threshold: {threshold}, Accuracy: {accuracy}\")\n",
        "\n",
        "## Find the threshold with the highest accuracy\n",
        "optimal_threshold = max(accuracy_list, key=lambda x: x[1])\n",
        "\n",
        "print(\"Optimal threshold:\", optimal_threshold[0],\n",
        "      \"with accuracy:\", optimal_threshold[1])"
      ],
      "metadata": {
        "colab": {
          "base_uri": "https://localhost:8080/"
        },
        "id": "69sBCnSL8YDk",
        "outputId": "e87120d3-6590-488d-f942-dcf70882b375"
      },
      "execution_count": 27,
      "outputs": [
        {
          "output_type": "stream",
          "name": "stdout",
          "text": [
            "Threshold: 0.1, Accuracy: 0.5238095238095238\n",
            "Threshold: 0.2, Accuracy: 0.6796536796536796\n",
            "Threshold: 0.30000000000000004, Accuracy: 0.7489177489177489\n",
            "Threshold: 0.4, Accuracy: 0.8138528138528138\n",
            "Threshold: 0.5, Accuracy: 0.7965367965367965\n",
            "Threshold: 0.6, Accuracy: 0.7878787878787878\n",
            "Threshold: 0.7000000000000001, Accuracy: 0.7402597402597403\n",
            "Threshold: 0.8, Accuracy: 0.6926406926406926\n",
            "Threshold: 0.9, Accuracy: 0.6406926406926406\n",
            "Optimal threshold: 0.4 with accuracy: 0.8138528138528138\n"
          ]
        }
      ]
    },
    {
      "cell_type": "markdown",
      "source": [
        "- 로지스틱 회귀에서 임계값(threshold)을 0.5보다 크게 하거나 작게 해야 하는 상황\n",
        "  - 임계값을 0.5보다 작게 하는 경우  \n",
        "    - 실제 양성(False Negative)을 놓치면 안 되는 경우:\n",
        "      - 암 검진에서는 암 환자를 놓치는 것이 매우 위험함\n",
        "      - 따라서 임계값을 낮춰 더 많은 사람을 양성(암 환자)으로 분류함\n",
        "\n",
        "    - 재현율(Recall)이 중요한 경우:\n",
        "      - 재현율은 실제 양성 중에서 모델이 맞게 예측한 비율\n",
        "      - 재현율을 높이기 위해 임계값을 낮출 수 있음..\n",
        "\n",
        "  - 임계값을 0.5보다 크게 하는 경우\n",
        "    - 실제 음성(False Positive)을 잘못 양성으로 분류하면 안 되는 경우:  \n",
        "      - 스팸 필터에서는 정상 이메일을 스팸으로 잘못 분류하면 안 됨\n",
        "      - 따라서 임계값을 높여 더 많은 이메일을 음성(정상)으로 분류\n",
        "\n",
        "    - 정밀도(Precision)가 중요한 경우:\n",
        "      - 정밀도는 모델이 양성으로 예측한 것 중 실제로 양성인 비율\n",
        "      - 정밀도를 높이기 위해 임계값을 높일 수 있음"
      ],
      "metadata": {
        "id": "smyHpdZbssnT"
      }
    },
    {
      "cell_type": "code",
      "source": [],
      "metadata": {
        "id": "Hoy7K9yJtH7y"
      },
      "execution_count": 27,
      "outputs": []
    }
  ],
  "metadata": {
    "kernelspec": {
      "display_name": "py39_tf29_ana_copy",
      "language": "python",
      "name": "python3"
    },
    "language_info": {
      "codemirror_mode": {
        "name": "ipython",
        "version": 3
      },
      "file_extension": ".py",
      "mimetype": "text/x-python",
      "name": "python",
      "nbconvert_exporter": "python",
      "pygments_lexer": "ipython3",
      "version": "3.10.9"
    },
    "colab": {
      "provenance": [],
      "toc_visible": true
    }
  },
  "nbformat": 4,
  "nbformat_minor": 0
}